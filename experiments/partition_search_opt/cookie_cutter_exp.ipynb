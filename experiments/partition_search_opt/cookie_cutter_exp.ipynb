{
 "cells": [
  {
   "cell_type": "markdown",
   "metadata": {
    "collapsed": false,
    "jupyter": {
     "outputs_hidden": false
    }
   },
   "source": [
    "## INSTRUCTIONS\n",
    "--------------\n",
    "\n",
    "1. Copy & paste the file `input-template.txt` in the folder `molbio-cookie-cutter/` and rename it as `input.txt`.\n",
    "2. Open `input.txt`, replace the default amino acid sequence with your amino acid sequence, and then replace the default mutations with your mutations, and then adjust the other parameters to your need.\n",
    "3. Save `input.txt`.\n",
    "4. Open `cookie_cutter.ipynb`, click the icon of double triangles to restart Kernel and run all cells.\n",
    "5. Scroll down to the very bottom of this script to view the Run status and wait for the Run to complete. Depending on your sequence and your parameters, it might take a while to run. When the Run is completed, you will see \"RUN COMPLETED!\" at the very bottom of the script.\n",
    "6. When the Run is complete, go to `molbio-cookie-cutter/output/results/` to see your results.\n"
   ]
  },
  {
   "cell_type": "markdown",
   "metadata": {
    "collapsed": false,
    "jupyter": {
     "outputs_hidden": false
    }
   },
   "source": [
    "## IMPORT REQUIRED RESOURCES\n",
    "--------------"
   ]
  },
  {
   "cell_type": "code",
   "execution_count": 1,
   "metadata": {
    "collapsed": false,
    "jupyter": {
     "outputs_hidden": false
    }
   },
   "outputs": [
    {
     "name": "stdout",
     "output_type": "stream",
     "text": [
      "Here is: C:\\Users\\GOFKV\\PycharmProjects\\proseqteleporter\\experiments\\partition_search_opt\n",
      "--------------------------------------------------------------------------------------------------\n",
      "Load input parameters.\n",
      "--------------------------------------------------------------------------------------------------\n",
      "Load ALLOWED_CUT_POSITIONS=[]\n",
      "Load DNA_5_PRIME=TTTGGTCTCTAATG\n",
      "Load DNA_3_PRIME=TAATTGAGACCTTT\n",
      "Load FIX_DNA_SEQUENCE=\n",
      "Load HOST=c_griseus\n",
      "Load FIDELITY_DATA_PATH=C:\\Users\\GOFKV\\PycharmProjects\\proseqteleporter\\data\\neb_fidelity_data\\FileS01_T4_01h_25C.xlsx\n",
      "Load SEQUENCE=WAFTGDYSKVWMAWPISCMCYSNENKLESRHKHPMKVRSTQMKMSFQQKE\n",
      "Load MUTATIONS=[{'position': 1, 'aa': ['S', 'I']}, {'position': 8, 'aa': ['G', 'E', 'R', 'K', 'T', 'Q']}, {'position': 10, 'aa': ['Q', 'T', 'F', 'P', 'K', 'D', 'C']}, {'position': 14, 'aa': ['E', 'I', 'V', 'H']}, {'position': 26, 'aa': ['M', 'I']}, {'position': 27, 'aa': ['Y', 'M']}, {'position': 28, 'aa': ['T', 'H', 'W', 'I', 'L']}, {'position': 32, 'aa': ['Q', 'E']}, {'position': 40, 'aa': ['Q', 'G', 'L']}, {'position': 42, 'aa': ['C', 'G', 'R', 'S', 'D']}, {'position': 43, 'aa': ['I', 'H', 'V', 'A', 'M', 'T', 'G', 'E', 'Q']}, {'position': 44, 'aa': ['F', 'E', 'K', 'A', 'Y', 'I', 'W', 'L', 'P', 'S']}, {'position': 49, 'aa': ['I', 'R', 'E']}]\n",
      "Load LINKED_MUTATIONS=None\n",
      "Load CUT_NUMBER_RANGE=(1, 6)\n",
      "Load MIN_FRAGMENT_LENGTH=6\n",
      "Load MAX_COST=50000.0\n",
      "Load MAX_LENGTH_UNEVENNESS=2.0\n",
      "Load MIN_LIGATION_FIDELITY=0.99\n",
      "Load SATISFACTION_LIGATION_FIDELITY=0.99\n",
      "--------------------------------------------------------------------------------------------------\n",
      "Load input parameters.\n",
      "--------------------------------------------------------------------------------------------------\n",
      "Load ALLOWED_CUT_POSITIONS=[]\n",
      "Load FIX_DNA_SEQUENCE=\n",
      "Load DNA_5_PRIME=TTTGGTCTCTAATG\n",
      "Load DNA_3_PRIME=TAATTGAGACCTTT\n",
      "Load HOST=c_griseus\n",
      "Load FIDELITY_DATA_PATH=C:\\Users\\GOFKV\\PycharmProjects\\proseqteleporter\\data\\neb_fidelity_data\\FileS01_T4_01h_25C.xlsx\n",
      "Load SEQUENCE=WAFTGDYSKVWMAWPISCMCYSNENKLESRHKHPMKVRSTQMKMSFQQKE\n",
      "Load MUTATIONS=[{'position': 1, 'aa': ['S', 'I']}, {'position': 8, 'aa': ['G', 'E', 'R', 'K', 'T', 'Q']}, {'position': 10, 'aa': ['Q', 'T', 'F', 'P', 'K', 'D', 'C']}, {'position': 14, 'aa': ['E', 'I', 'V', 'H']}, {'position': 26, 'aa': ['M', 'I']}, {'position': 27, 'aa': ['Y', 'M']}, {'position': 28, 'aa': ['T', 'H', 'W', 'I', 'L']}, {'position': 32, 'aa': ['Q', 'E']}, {'position': 40, 'aa': ['Q', 'G', 'L']}, {'position': 42, 'aa': ['C', 'G', 'R', 'S', 'D']}, {'position': 43, 'aa': ['I', 'H', 'V', 'A', 'M', 'T', 'G', 'E', 'Q']}, {'position': 44, 'aa': ['F', 'E', 'K', 'A', 'Y', 'I', 'W', 'L', 'P', 'S']}, {'position': 49, 'aa': ['I', 'R', 'E']}]\n",
      "Load LINKED_MUTATIONS=None\n",
      "Load CUT_NUMBER_RANGE=(1, 6)\n",
      "Load MIN_FRAGMENT_LENGTH=6\n",
      "Load MAX_COST=50000.0\n",
      "Load MAX_LENGTH_UNEVENNESS=2.0\n",
      "Load MIN_LIGATION_FIDELITY=0.99\n",
      "Load SATISFACTION_LIGATION_FIDELITY=0.99\n"
     ]
    }
   ],
   "source": [
    "\"\"\"Imports\"\"\"\n",
    "import json\n",
    "import re\n",
    "import sys\n",
    "import os\n",
    "\n",
    "SCRIPT_DIR = os.path.dirname(os.path.abspath('__file__'))\n",
    "sys.path.append(os.path.dirname(SCRIPT_DIR))\n",
    "print(f'Here is: {SCRIPT_DIR}')\n",
    "\n",
    "from experiments.partition_search_opt.partition_search_config import *\n",
    "\n",
    "from proseqteleporter.random_sample_generator.random_sample_generator import random_sample_generator\n",
    "from proseqteleporter.partitioner.partitioner import compute_best_partitions, get_lowest_cost_from_best_partitions\n",
    "from proseqteleporter.utils.utils import one_indexing_to_zero_indexing, include_linked_mutations_into_mutations, print_available_resources, annotate_sequence_mutations"
   ]
  },
  {
   "cell_type": "markdown",
   "metadata": {
    "collapsed": false,
    "jupyter": {
     "outputs_hidden": false
    }
   },
   "source": [
    "## AVAILABLE HOSTS & ASSEMBLY CONDITIONS\n",
    "--------------"
   ]
  },
  {
   "cell_type": "code",
   "execution_count": 2,
   "metadata": {
    "collapsed": false,
    "jupyter": {
     "outputs_hidden": false
    }
   },
   "outputs": [
    {
     "name": "stdout",
     "output_type": "stream",
     "text": [
      "--------------------------------------------------------------------------------------------------\n",
      "|                                    AVAILABLE HOSTS                                             |\n",
      "--------------------------------------------------------------------------------------------------\n",
      "c_griseus\n",
      "e_coli\n",
      "p_pastoris\n",
      "s_cerevisiae\n",
      "--------------------------------------------------------------------------------------------------\n",
      "|                          AVAILABLE ASSEMBLY CONDITIONS                                         |\n",
      "--------------------------------------------------------------------------------------------------\n",
      "T4_01h_25C\n",
      "T7_18h_25C\n",
      "T7_18h_37C\n",
      "--------------------------------------------------------------------------------------------------\n"
     ]
    }
   ],
   "source": [
    "print_available_resources()"
   ]
  },
  {
   "cell_type": "markdown",
   "metadata": {
    "collapsed": false,
    "jupyter": {
     "outputs_hidden": false
    }
   },
   "source": [
    "## RUN & SHOW RESULTS"
   ]
  },
  {
   "cell_type": "code",
   "execution_count": 3,
   "outputs": [],
   "source": [
    "def prepare_output_dirs(output_dir):\n",
    "    \"\"\"create output dirs if not exist\"\"\"\n",
    "\n",
    "    log_dir = os.path.join(output_dir, 'logs')\n",
    "    result_dir = os.path.join(output_dir, 'results')\n",
    "    dirs_to_create = [output_dir, log_dir, result_dir]\n",
    "    for directory in dirs_to_create:\n",
    "        if not os.path.exists(directory):\n",
    "            os.makedirs(directory)\n",
    "\n",
    "    # clean log directory before starting the run\n",
    "    for f in os.listdir(log_dir):\n",
    "        if not re.search('ipynb_checkpoints',f):\n",
    "            os.remove(join(log_dir,f))\n",
    "    return log_dir, result_dir"
   ],
   "metadata": {
    "collapsed": false
   }
  },
  {
   "cell_type": "code",
   "execution_count": 4,
   "metadata": {
    "collapsed": false,
    "jupyter": {
     "outputs_hidden": false
    }
   },
   "outputs": [],
   "source": [
    "\"\"\"Define function - Main()\"\"\"\n",
    "def main(mutations_1idx, linked_mutations_1idx, s, generate_random_input, number_of_loops, supress_output, output_dir, pre_distribute_mutations_lst,cost_scan_lst,one_dist_lst, cond_lst):\n",
    "\n",
    "    log_dir, result_dir = prepare_output_dirs(output_dir)\n",
    "\n",
    "    for loop in range(0,number_of_loops):\n",
    "        loop+=1\n",
    "        print(f'\\033[1m--------------------------------------------------------------------------------------------------\\033[0m')\n",
    "        print(f'                                        \\033[1m RUN {loop}\\033[0m                               ')\n",
    "        print(f'\\033[1m--------------------------------------------------------------------------------------------------\\033[0m')\n",
    "        if generate_random_input:\n",
    "            # replace sequence and mutations with output of random_sample_generator()\n",
    "            print('--------------------------------------------------------------------------------------------------')\n",
    "            print(f'Replacing default sequence and mutations with randomly generated sequence and mutations.')\n",
    "            print('--------------------------------------------------------------------------------------------------')\n",
    "\n",
    "            s, mutations_1idx, linked_mutations_1idx = random_sample_generator(\n",
    "                min_aa_length=loop*25 + 50, max_aa_length=loop*25 + 50,\n",
    "                min_number_of_positions=6, max_number_of_positions=len(s) // 5,\n",
    "                min_variations_per_position=1, max_variations_per_position=10,\n",
    "                max_positions_per_linked_mutation_set=0, max_number_of_mutation_linked_mutation_sets=0\n",
    "            )\n",
    "\n",
    "        mutations_1idx = include_linked_mutations_into_mutations(mutations_1idx, linked_mutations_1idx)\n",
    "\n",
    "        mutations_0idx, linked_mutations_0idx = one_indexing_to_zero_indexing(mutations_1idx=mutations_1idx,\n",
    "                                                                              linked_mutations_1idx=linked_mutations_1idx)\n",
    "\n",
    "        s_annotated = annotate_sequence_mutations(s, mutations_0idx, linked_mutations_0idx)\n",
    "        print(f'\\033[1mSequence (red: independent mutation positions; other colors: linked mutation positions) = '\n",
    "              f'\\n{\"\".join(s_annotated.values())}')\n",
    "        print(f'\\033[1mSequence Length = {len(s)}')\n",
    "        print(f'\\033[1mMutations (1-indexed) = {mutations_1idx}')\n",
    "        print(f'\\033[1mLinked mutations (1-indexed) = {linked_mutations_1idx}')\n",
    "\n",
    "        for cost_scan, pre_distribute_mutations, one_dist, cond in zip(cost_scan_lst, pre_distribute_mutations_lst, one_dist_lst, cond_lst):\n",
    "            params = dict(\n",
    "                s=s,\n",
    "                mutations_0idx=mutations_0idx,\n",
    "                linked_mutations_0idx=linked_mutations_0idx,\n",
    "                cut_number_range=CUT_NUMBER_RANGE,\n",
    "                fidelity_data_path=FIDELITY_DATA_PATH,\n",
    "                min_aa_length=MIN_FRAGMENT_LENGTH,\n",
    "                provider_max_dna_length=1500,\n",
    "                fusion_sites_used_by_backbone=FUSION_SITES_USED_BY_BACKBONE,\n",
    "                max_cost=MAX_COST,\n",
    "                max_unevenness=MAX_LENGTH_UNEVENNESS,\n",
    "                min_ligation_fidelity=MIN_LIGATION_FIDELITY,\n",
    "                satisfaction_fidelity=SATISFACTION_LIGATION_FIDELITY,\n",
    "                log_dir=log_dir,\n",
    "                supress_output=supress_output,\n",
    "                search_method=\"BFS\",\n",
    "                codon_usage_tbl_dir=join(dirname(dirname(FIDELITY_DATA_PATH)),'codon_usage'),\n",
    "                host=HOST,\n",
    "                sort_by_cost=True,\n",
    "                codon_table=CODON_TABLE,\n",
    "                enzyme='BsaI',\n",
    "                allowed_cut_positions_1idx=ALLOWED_CUT_POSITIONS,\n",
    "                cost_scan=cost_scan,\n",
    "                pre_distribute_mutations=pre_distribute_mutations,\n",
    "                one_dist = one_dist\n",
    "            )\n",
    "            best_partitions_by_cut_number = compute_best_partitions(**params)\n",
    "            lowest_cost_partition = get_lowest_cost_from_best_partitions(\n",
    "                best_partitions_by_cut_number=best_partitions_by_cut_number, supress_output=supress_output\n",
    "            )\n",
    "            for item, name_ in zip([lowest_cost_partition, best_partitions_by_cut_number, params],\n",
    "                                   ['lowest_cost_partition', 'best_partitions_by_cut_number', 'params']):\n",
    "                output_path = join(result_dir, f'{name_}_{cond}_{loop}.json')\n",
    "                with open(output_path, 'w') as fp:\n",
    "                    json.dump(item, fp)\n",
    "                    print('--------------------------------------------------------------------------------------------------')\n",
    "                    print(f'\\033[1m Result \"{name_}\" is exported at:\\n {output_path}\\033[0m')\n",
    "            print(f'\\n\\033[1m=================================================================================================='\n",
    "                  f'\\n                                     RUN COMPLETED!                                                      '\n",
    "                  f'\\n             Total elapsed time: {best_partitions_by_cut_number[\"total_elapsed_time\"]} seconds'\n",
    "                  f'\\n==================================================================================================\\033[0m')\n"
   ]
  },
  {
   "cell_type": "code",
   "execution_count": 5,
   "metadata": {
    "collapsed": false,
    "jupyter": {
     "outputs_hidden": false
    }
   },
   "outputs": [
    {
     "name": "stdout",
     "output_type": "stream",
     "text": [
      "\u001B[1m==================================================================================================\u001B[0m\n",
      "                                    \u001B[1m RUN STARTED! \u001B[0m \n",
      "\u001B[1m==================================================================================================\u001B[0m\n",
      "\u001B[1m--------------------------------------------------------------------------------------------------\u001B[0m\n",
      "                                        \u001B[1m RUN 1\u001B[0m                               \n",
      "\u001B[1m--------------------------------------------------------------------------------------------------\u001B[0m\n",
      "--------------------------------------------------------------------------------------------------\n",
      "Replacing default sequence and mutations with randomly generated sequence and mutations.\n",
      "--------------------------------------------------------------------------------------------------\n",
      "Random amino acid sequence of length 75: YPWCIVGGSPIVGARAWIQAVHCEPQMWEFQFPIVLRRIEYDVTKWNHNILNQNSSYSSCCACDGLRFIRDGISA\n",
      "\n",
      "Random 1-indexed mutations at 9 positions: \n",
      " [{'position': 6, 'aa': ['A', 'I', 'W', 'S', 'D', 'K', 'N', 'P']}, {'position': 10, 'aa': ['G', 'A', 'Q', 'S', 'M', 'T']}, {'position': 18, 'aa': ['M', 'L', 'V']}, {'position': 28, 'aa': ['Y', 'F', 'G', 'C', 'R', 'P', 'L', 'Q']}, {'position': 35, 'aa': ['Q', 'A', 'K', 'M', 'L', 'G', 'C', 'R']}, {'position': 44, 'aa': ['C', 'D', 'I', 'F']}, {'position': 56, 'aa': ['Y', 'V', 'P', 'A', 'I', 'D', 'H', 'G', 'T']}, {'position': 63, 'aa': ['F', 'H', 'Q', 'L', 'A', 'M', 'V', 'S', 'I']}, {'position': 75, 'aa': ['I', 'S', 'R', 'L', 'D', 'E']}]\n",
      "\n",
      "Random 1-indexed linked mutations: \n",
      " None\n",
      "\u001B[1mSequence (red: independent mutation positions; other colors: linked mutation positions) = \n",
      "YPWCI\u001B[31mV\u001B[39mGGS\u001B[31mP\u001B[39mIVGARAW\u001B[31mI\u001B[39mQAVHCEPQM\u001B[31mW\u001B[39mEFQFPI\u001B[31mV\u001B[39mLRRIEYDV\u001B[31mT\u001B[39mKWNHNILNQNS\u001B[31mS\u001B[39mYSSCCA\u001B[31mC\u001B[39mDGLRFIRDGIS\u001B[31mA\u001B[39m\n",
      "\u001B[1mSequence Length = 75\n",
      "\u001B[1mMutations (1-indexed) = [{'position': 6, 'aa': ['A', 'I', 'W', 'S', 'D', 'K', 'N', 'P']}, {'position': 10, 'aa': ['G', 'A', 'Q', 'S', 'M', 'T']}, {'position': 18, 'aa': ['M', 'L', 'V']}, {'position': 28, 'aa': ['Y', 'F', 'G', 'C', 'R', 'P', 'L', 'Q']}, {'position': 35, 'aa': ['Q', 'A', 'K', 'M', 'L', 'G', 'C', 'R']}, {'position': 44, 'aa': ['C', 'D', 'I', 'F']}, {'position': 56, 'aa': ['Y', 'V', 'P', 'A', 'I', 'D', 'H', 'G', 'T']}, {'position': 63, 'aa': ['F', 'H', 'Q', 'L', 'A', 'M', 'V', 'S', 'I']}, {'position': 75, 'aa': ['I', 'S', 'R', 'L', 'D', 'E']}]\n",
      "\u001B[1mLinked mutations (1-indexed) = None\n"
     ]
    },
    {
     "name": "stderr",
     "output_type": "stream",
     "text": [
      "\n",
      "KeyboardInterrupt\n",
      "\n"
     ]
    }
   ],
   "source": [
    "\"\"\"Run\"\"\"\n",
    "if __name__ == \"__main__\":\n",
    "    print('\\033[1m==================================================================================================\\033[0m')\n",
    "    print('                                    \\033[1m RUN STARTED! \\033[0m ')\n",
    "    print('\\033[1m==================================================================================================\\033[0m')\n",
    "\n",
    "    main(mutations_1idx=MUTATIONS,\n",
    "         linked_mutations_1idx=LINKED_MUTATIONS,\n",
    "         s=SEQUENCE,\n",
    "         generate_random_input=True,\n",
    "         number_of_loops=5,\n",
    "         supress_output=True,\n",
    "         output_dir=join(dirname(abspath('__file__')),f'random_inputs_20240522'),\n",
    "         pre_distribute_mutations_lst=[False, True, True, True, False],\n",
    "         cost_scan_lst=[True, False, False, True, False],\n",
    "         one_dist_lst=[False, False, True, True, False],\n",
    "         cond_lst=['cost_scan','dist_mut','dist_mut_1','dist_mut_1_cost_scan', 'exhaustive'])"
   ]
  }
 ],
 "metadata": {
  "kernelspec": {
   "display_name": "Python 3 (ipykernel)",
   "language": "python",
   "name": "python3"
  },
  "language_info": {
   "codemirror_mode": {
    "name": "ipython",
    "version": 3
   },
   "file_extension": ".py",
   "mimetype": "text/x-python",
   "name": "python",
   "nbconvert_exporter": "python",
   "pygments_lexer": "ipython3",
   "version": "3.11.1"
  }
 },
 "nbformat": 4,
 "nbformat_minor": 4
}
