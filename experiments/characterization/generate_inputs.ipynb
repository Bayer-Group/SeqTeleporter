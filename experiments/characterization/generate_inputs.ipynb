{
 "cells": [
  {
   "cell_type": "code",
   "execution_count": 9,
   "outputs": [],
   "source": [
    "from math import isqrt\n",
    "import random\n",
    "from proseqteleporter.random_sample_generator.random_sample_generator import generate_random_amino_acid_sequence\n",
    "\n",
    "AMINO_ACIDS = 'ACDEFGHIKLMNPQRSTVWY'\n",
    "\n",
    "def prime_factors(n):\n",
    "    \"\"\"Returns a list of prime factors of n.\"\"\"\n",
    "    factors = []\n",
    "    # Check for number of 2s\n",
    "    while n % 2 == 0:\n",
    "        factors.append(2)\n",
    "        n //= 2\n",
    "    # Check for other primes\n",
    "    for i in range(3, isqrt(n) + 1, 2):\n",
    "        while n % i == 0:\n",
    "            factors.append(i)\n",
    "            n //= i\n",
    "    if n > 2:\n",
    "        factors.append(n)\n",
    "    return factors\n",
    "\n",
    "\n",
    "def distribute_factors(factors, m):\n",
    "    \"\"\"Distribute factors into m parts.\"\"\"\n",
    "    parts = [1] * m\n",
    "    for i, factor in enumerate(factors):\n",
    "        parts[i % m] *= factor\n",
    "    return parts\n",
    "\n",
    "\n",
    "def find_factors_list(n, m):\n",
    "    \"\"\"Finds a list of m integers such that their product is n.\"\"\"\n",
    "    factors = prime_factors(n)\n",
    "    if len(factors) < m:\n",
    "        return f\"Cannot distribute {n} into {m} parts\"\n",
    "    return distribute_factors(factors, m)\n"
   ],
   "metadata": {
    "collapsed": false
   }
  },
  {
   "cell_type": "code",
   "execution_count": 10,
   "outputs": [
    {
     "data": {
      "text/plain": "[2, 2, 2, 2, 2, 2, 2, 2, 2, 2, 5, 5, 5, 5, 5, 5, 5, 5, 5, 5]"
     },
     "execution_count": 10,
     "metadata": {},
     "output_type": "execute_result"
    }
   ],
   "source": [
    "find_factors_list(pow(10,10), 20)"
   ],
   "metadata": {
    "collapsed": false
   }
  },
  {
   "cell_type": "code",
   "execution_count": 11,
   "outputs": [],
   "source": [
    "def aa_mutation_generator_set_complexity(aa_seq: str, complexity: int,\n",
    "                                         min_number_of_positions: int, max_number_of_positions: int,\n",
    "                                         min_variations_per_position: int, max_variations_per_position: int,\n",
    "                                         amino_acids: str) -> list:\n",
    "\n",
    "    number_of_positions_lst = list(range(min_number_of_positions, max_number_of_positions+1))\n",
    "    random.shuffle(number_of_positions_lst)\n",
    "\n",
    "    variations_per_position = ''\n",
    "    for n_positions in number_of_positions_lst:\n",
    "        variations_per_position_incl_wt = find_factors_list(complexity, n_positions)\n",
    "\n",
    "        if isinstance(variations_per_position_incl_wt, list):\n",
    "            variations_per_position = [i-1 for i in variations_per_position_incl_wt]\n",
    "            if max_variations_per_position >= max(variations_per_position) and min_variations_per_position <= min(variations_per_position):\n",
    "                random.shuffle(variations_per_position)\n",
    "                break\n",
    "            else:\n",
    "                variations_per_position = 'not pass'\n",
    "\n",
    "    if not isinstance(variations_per_position, list):\n",
    "        return  variations_per_position\n",
    "\n",
    "    mutation_positions = random.sample(range(len(aa_seq)), k=(len(variations_per_position)))\n",
    "    mutations = []\n",
    "    for position, number_of_variations in zip(mutation_positions, variations_per_position):\n",
    "        wt_aa = aa_seq[position]\n",
    "        variations = random.sample(amino_acids.replace(wt_aa, \"\"), k=number_of_variations)\n",
    "        mutations.append({'position': position + 1,  # adjust to 1-indexing\n",
    "                          'aa': variations})\n",
    "\n",
    "    return sorted(mutations, key=lambda x: (x['position']))"
   ],
   "metadata": {
    "collapsed": false
   }
  },
  {
   "cell_type": "code",
   "execution_count": 12,
   "outputs": [],
   "source": [
    "inputs = dict(SEQUENCE=None,\n",
    "              FIX_DNA_SEQUENCE=\"\",\n",
    "              MUTATIONS=None,\n",
    "              LINKED_MUTATIONS=None,\n",
    "              CUT_NUMBER_RANGE=(1,5),\n",
    "              MIN_FRAGMENT_LENGTH=6,\n",
    "              MAX_COST=10000000,\n",
    "              MAX_LENGTH_UNEVENNESS=49,\n",
    "              MIN_LIGATION_FIDELITY=0.98,\n",
    "              SATISFACTION_LIGATION_FIDELITY=0.98,\n",
    "              FIDELITY_DATA=\"FileS01_T4_01h_25C.xlsx\",\n",
    "              HOST=\"c_griseus\",\n",
    "              FUSION_SITES_USED_BY_BACKBONE=('CTTG', 'TAAT'),\n",
    "              DNA_5_PRIME=\"AATTTGGTCTCTCC\",\n",
    "              DNA_3_PRIME=\"TAATAGAGACCTTTAA\",\n",
    "              ALLOWED_CUT_POSITIONS=[])\n",
    "\n"
   ],
   "metadata": {
    "collapsed": false
   }
  },
  {
   "cell_type": "code",
   "execution_count": 13,
   "outputs": [],
   "source": [
    "from os import path, mkdir\n",
    "from math import log10\n",
    "SCRIPT_DIR = path.dirname(path.abspath('__file__'))\n",
    "\n",
    "for rep in range(3,10):\n",
    "    inputs_dir = path.join(SCRIPT_DIR,f'input_complexity_cost_rep{rep}')\n",
    "    if not path.isdir(inputs_dir):\n",
    "        mkdir(inputs_dir)\n",
    "\n",
    "    for n_pos, complexity in zip([(6,6),(6,8),(6,10),(6,12),(7,14),(8,16),(9,18),(10,20)], [pow(10,3), pow(10,4), pow(10,5), pow(10,6),pow(10,7),pow(10,8),pow(10,9), pow(10,10)]):\n",
    "        complexity_easy_read = f'10^{str(log10(complexity)//1)[:-2]}'\n",
    "        for seq_len in [100, 200, 300, 500]:\n",
    "            seq = generate_random_amino_acid_sequence(min_length=seq_len, max_length=seq_len, amino_acids=AMINO_ACIDS)\n",
    "            muts = aa_mutation_generator_set_complexity(aa_seq=seq, complexity=complexity,\n",
    "                                                        min_number_of_positions=n_pos[0], max_number_of_positions=n_pos[1],\n",
    "                                                        min_variations_per_position=1, max_variations_per_position=10,\n",
    "                                                        amino_acids=AMINO_ACIDS)\n",
    "\n",
    "            inputs.update({'SEQUENCE':seq, 'MUTATIONS':muts})\n",
    "\n",
    "            with open(path.join(inputs_dir,f'{seq_len}nt_{complexity_easy_read}_input_rep{rep}.txt'), 'w') as f:\n",
    "\n",
    "                for k, v in inputs.items():\n",
    "                    f.write(f'{k}={v}\\n')"
   ],
   "metadata": {
    "collapsed": false
   }
  },
  {
   "cell_type": "code",
   "execution_count": 14,
   "outputs": [],
   "source": [
    "class Input:\n",
    "    def __init__(self, seq, mutations_1idx, linked_mutations_1idx, cut_number_range, fidelity_data_path, max_cost, max_unevenness, min_aa_length, min_ligation_fidelity, satisfaction_fidelity, codon_usage_tbl_dir, host, provider_max_dna_length, fusion_sites_used_by_backbone, allowed_cut_positions_1idx, five_prime_dna, three_prime_dna, fix_wt_dna_sequence, enzyme):\n",
    "        self.seq = seq\n",
    "        self.mutations_1idx = mutations_1idx\n",
    "        self.linked_mutations_1idx = linked_mutations_1idx\n",
    "        self.cut_number_range = cut_number_range\n",
    "        self.fidelity_data_path = fidelity_data_path\n",
    "        self.max_cost = max_cost\n",
    "        self.max_unevenness = max_unevenness\n",
    "        self.min_aa_length = min_aa_length\n",
    "        self.min_ligation_fidelity = min_ligation_fidelity\n",
    "        self.satisfaction_fidelity = satisfaction_fidelity\n",
    "        self.codon_usage_tbl_dir = codon_usage_tbl_dir\n",
    "        self.host = host\n",
    "        self.provider_max_dna_length = provider_max_dna_length\n",
    "        self.fusion_sites_used_by_backbone = fusion_sites_used_by_backbone\n",
    "        self.allowed_cut_positions_1idx = allowed_cut_positions_1idx\n",
    "        self.five_prime_dna = five_prime_dna\n",
    "        self.three_prime_dna = three_prime_dna\n",
    "        self.fix_wt_dna_sequence = fix_wt_dna_sequence\n",
    "        self.enzyme = enzyme\n"
   ],
   "metadata": {
    "collapsed": false
   }
  }
 ],
 "metadata": {
  "kernelspec": {
   "display_name": "Python 3",
   "language": "python",
   "name": "python3"
  },
  "language_info": {
   "codemirror_mode": {
    "name": "ipython",
    "version": 2
   },
   "file_extension": ".py",
   "mimetype": "text/x-python",
   "name": "python",
   "nbconvert_exporter": "python",
   "pygments_lexer": "ipython2",
   "version": "2.7.6"
  }
 },
 "nbformat": 4,
 "nbformat_minor": 0
}
