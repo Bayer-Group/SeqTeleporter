{
 "cells": [
  {
   "cell_type": "code",
   "execution_count": null,
   "metadata": {
    "collapsed": true
   },
   "outputs": [],
   "source": [
    "\"\"\"Imports\"\"\"\n",
    "import sys\n",
    "import os\n",
    "import re\n",
    "from typing import Optional, List, Any\n",
    "import math\n",
    "import statistics\n",
    "from itertools import combinations\n",
    "from copy import deepcopy\n",
    "import seaborn as sns\n",
    "import matplotlib.pyplot as plt\n",
    "import pandas as pd\n",
    "\n",
    "SCRIPT_DIR = os.path.dirname(os.path.abspath('__file__'))\n",
    "sys.path.append(os.path.dirname(SCRIPT_DIR))\n",
    "print(f'Here is: {SCRIPT_DIR}')\n",
    "\n",
    "from experiments.partition_search_opt.partition_search_config import *\n",
    "\n",
    "from libs.random_sample_generator.random_sample_generator import random_sample_generator\n",
    "from libs.partition_property_finder.cost_finder import find_cost\n",
    "from libs.utils.utils import one_indexing_to_zero_indexing\n",
    "from libs.partitioner.partitioner import find_cuttable_positions"
   ]
  },
  {
   "cell_type": "code",
   "execution_count": 1,
   "outputs": [
    {
     "data": {
      "text/plain": "442"
     },
     "execution_count": 1,
     "metadata": {},
     "output_type": "execute_result"
    }
   ],
   "source": [
    "s = \"MRFPSIFTAVLFAASSALAAPVNTITEDETAQIPAEAVIGYSDLEGDFDVAVLPFSNSTNNGLLFMNTTTASIAAKEEVVSLEKREAEALLRRQEEASTASQAGGGRPIQAVDPPSPPGPLSFTGTKLVNDRDHPWRPLRNGDIRGPCPGLNTLASHGYLPRDGVATPTQLINAIQEGFNFDHTAAVSATYLGHLLNGNLVTDLLSIGGKTSKTGPPPPPPAHAGGLNVHGTFEGDAGLTRADEFFGDNHSFNQTLFDKLVDFSNRFGGGFYNLTVAGELRYSRIQDSIATNPQFSFKNVRFLTAYGETVFPINLFVDGRQTERKLSLDHAASFFRDMRFPPDFHRAAQPSSAEGVAEVIAAHPWLPGGNEDGQLNNYVVDPNSADFTDPCSLHRFVLGSLQELYPSPTGVLRRNLIKNINFWYTAAFAPAGCPELFPFGQL\"\n",
    "len(s)"
   ],
   "metadata": {
    "collapsed": false
   }
  },
  {
   "cell_type": "code",
   "execution_count": null,
   "outputs": [],
   "source": [
    "def measure_mutation_distribution(seq: str, partition: tuple, mutations_0idx: Optional[List[Any]],\n",
    "                                  linked_mutations_0idx: Optional[List[Any]]) -> tuple:\n",
    "    \"\"\"Measure the mutation position distribution: Find standard deviation of number of mutation positions per fragment\"\"\"\n",
    "\n",
    "    partition_add_terminals = (0,) + partition + (len(seq),)\n",
    "    linked_mutation_positions = []\n",
    "    if linked_mutations_0idx:\n",
    "        linked_mutation_positions = [[mut[1] for mut in mut_set] for mut_set in\n",
    "                                     linked_mutations_0idx]  # example: [[13, 15],[35, 40]]\n",
    "\n",
    "    # loop over each fragment\n",
    "    all_frag_variations = []\n",
    "    all_number_of_mut_positions = []\n",
    "    for idx in range(0, len(partition_add_terminals) - 1):\n",
    "        frag_variations = []\n",
    "        number_of_mut_positions = 0\n",
    "        frag_start, frag_end = partition_add_terminals[idx], partition_add_terminals[idx + 1]\n",
    "        # compute number of variations for each fragment\n",
    "        if mutations_0idx:\n",
    "            seen_linked_muts: list = []\n",
    "            for mutation in mutations_0idx:\n",
    "                is_linked_flag = False\n",
    "                if frag_start < mutation['position'] < frag_end:\n",
    "                    number_of_mut_positions += 1\n",
    "                    for positions in linked_mutation_positions:\n",
    "                        if mutation['position'] in positions:\n",
    "                            is_linked_flag = True\n",
    "                            if mutation['position'] not in seen_linked_muts:\n",
    "                                # linked mutations have variation of 2: WT and all linked mutations presenting at the\n",
    "                                # same time\n",
    "                                frag_variations.append(2)\n",
    "                                seen_linked_muts = seen_linked_muts + positions\n",
    "                            break  # assume that one mutation location can only present in one linked mutation set\n",
    "                    if not is_linked_flag:\n",
    "                        frag_variations.append(len(mutation['aa']) + 1)\n",
    "        n_alt_fragments = math.prod(frag_variations)\n",
    "        all_frag_variations.append(n_alt_fragments)\n",
    "        all_number_of_mut_positions.append(number_of_mut_positions)\n",
    "        mut_positions_distribution = {\n",
    "            'list': all_number_of_mut_positions,\n",
    "            'std': statistics.pstdev(all_number_of_mut_positions),\n",
    "            'mean': sum(all_number_of_mut_positions) / len(all_number_of_mut_positions),\n",
    "            'fragment_count': sum(all_frag_variations)\n",
    "        }\n",
    "        mut_variation_distribution = {\n",
    "            'list': all_frag_variations,\n",
    "            'std': statistics.pstdev(all_frag_variations),\n",
    "            'mean': sum(all_frag_variations) / len(all_frag_variations),\n",
    "            'fragment_count': sum(all_frag_variations)\n",
    "        }\n",
    "\n",
    "    return mut_positions_distribution, mut_variation_distribution"
   ],
   "metadata": {
    "collapsed": false
   }
  },
  {
   "cell_type": "code",
   "execution_count": null,
   "outputs": [],
   "source": [
    "def bulk_measure_mutation_distribution_n_cost(cuttable_positions, cut_number_range, s, mutations_0idx, linked_mutations_0idx, trial):\n",
    "    mut_distribution_lst = []\n",
    "    for number_of_cuts in cut_number_range:\n",
    "        all_combinations = combinations(cuttable_positions, number_of_cuts) if len(cuttable_positions) > 0 else [tuple()]\n",
    "        for partition in all_combinations:\n",
    "            mut_positions_distribution, mut_variation_distribution = \\\n",
    "                measure_mutation_distribution(s, partition, mutations_0idx, linked_mutations_0idx)\n",
    "            cost = find_cost(s, partition, mutations_0idx, linked_mutations_0idx, 'BsaI', ENZYME_INFO)\n",
    "\n",
    "            mut_variation_distribution_ = deepcopy(mut_variation_distribution)\n",
    "            mut_variation_distribution_.update({'cost':cost,\n",
    "                                                'number_of_fragments': number_of_cuts+1,\n",
    "                                                'mutation_property': 'mut_variation',\n",
    "                                                'trial':trial})\n",
    "            mut_distribution_lst.append(mut_variation_distribution_)\n",
    "\n",
    "            mut_positions_distribution_ = deepcopy(mut_positions_distribution)\n",
    "            mut_positions_distribution_.update({'cost':cost,\n",
    "                                                'number_of_fragments': number_of_cuts+1,\n",
    "                                                'mutation_property': 'mut_positions',\n",
    "                                                'trial':trial})\n",
    "            mut_distribution_lst.append(mut_positions_distribution_)\n",
    "    return mut_distribution_lst"
   ],
   "metadata": {
    "collapsed": false
   }
  },
  {
   "cell_type": "code",
   "execution_count": null,
   "outputs": [],
   "source": [
    "def scattered_plot(x_axis, res_data, cut_number_range):\n",
    "\n",
    "    fig, (ax1, ax2) = plt.subplots(1, 2, sharey=False, figsize=(16, 6))\n",
    "    plt.subplots_adjust(wspace=0.5)\n",
    "    fig.patch.set_facecolor('white')  # Set the background of the figure to white\n",
    "    colors = sns.color_palette(\"flare\", len(cut_number_range))\n",
    "    color_map = {i+1:color for i,color in zip(cut_number_range,colors)}\n",
    "    x_lims = {'mut_positions':[0.5,10],\n",
    "              'mut_variation':[0.5,100000000000000]}\n",
    "    scales = {'mut_positions': {'x':'log','y':'log'}, 'mut_variation': {'x':'log','y':'log'}}\n",
    "\n",
    "    for ax, mutation_property in zip((ax1, ax2), [\"mut_positions\", \"mut_variation\"]):\n",
    "        df = pd.DataFrame([d for d in res_data if d['mutation_property'] == mutation_property and d['number_of_fragments']-1 in cut_number_range])\n",
    "\n",
    "        grouped = df.groupby('number_of_fragments')\n",
    "        for key, group in grouped:\n",
    "            sns.regplot(ax=ax,\n",
    "                        x=group['std'],\n",
    "                        y=group['cost'],\n",
    "                        scatter=True,\n",
    "                        label=key,\n",
    "                        color=color_map[key],\n",
    "                        scatter_kws={'alpha':0.5,'s':1},\n",
    "                        line_kws={'linewidth':1.5},\n",
    "                        fit_reg=False)\n",
    "\n",
    "        ax.set_ylabel(f\"Estimated Cost (€)\")\n",
    "        ax.set_xlabel(f\"Standard Deviation of {str.title(re.sub('_', ' ', mutation_property))} per Fragment\")\n",
    "        ax.legend(title='Number of Fragments', loc='upper left', ncols=2)\n",
    "        ax.set_xscale(scales[mutation_property]['x'])\n",
    "        ax.set_yscale(scales[mutation_property]['y'])\n",
    "        ax.set_facecolor('white')  # Set the background of the axes to white\n",
    "        # ax.set_xlim(x_lims[mutation_property])\n",
    "        ax.set_title(f'Cost in Relation to Mutation Distribution and Number of Fragments \\n'\n",
    "                     f'\\n '\n",
    "                     f'{str.title(re.sub(\"_\", \" \", mutation_property))}')\n",
    "        sel_param = \"cost\"\n",
    "        max_y = max(df[sel_param].values)\n",
    "        for idx, (x, y) in enumerate(zip(df[x_axis].values,df[sel_param].values)):\n",
    "            if y == max_y:\n",
    "                ax.annotate(f\"{round(y, 0)} €\", (x, y))\n",
    "\n",
    "    return plt"
   ],
   "metadata": {
    "collapsed": false
   }
  },
  {
   "cell_type": "code",
   "execution_count": null,
   "outputs": [],
   "source": [
    "mutations_log = {}\n",
    "mut_distribution_lst_agg = []\n",
    "for trial in range(0,1):\n",
    "\n",
    "    \"\"\"Prepare mutations\"\"\"\n",
    "    s, mutations_1idx, linked_mutations_1idx = random_sample_generator(\n",
    "        min_aa_length=60, max_aa_length=300,\n",
    "        min_number_of_positions=3, max_number_of_positions=50,\n",
    "        min_variations_per_position=1, max_variations_per_position=10,\n",
    "        max_positions_per_linked_mutation_set=2, max_number_of_mutation_linked_mutation_sets=1\n",
    "    )\n",
    "    mutations_0idx, linked_mutations_0idx = one_indexing_to_zero_indexing(\n",
    "        mutations_1idx=mutations_1idx,\n",
    "        linked_mutations_1idx=linked_mutations_1idx\n",
    "    )\n",
    "    mutations_log.update({trial:(s, mutations_0idx, linked_mutations_0idx)})\n",
    "\n",
    "    \"\"\"Cut at the middle of each mutation positions\"\"\"\n",
    "    allow_cut_positions = []\n",
    "    for i in range(0, len(mutations_0idx) - 1):\n",
    "        allow_cut_position = (mutations_0idx[i]['position'] + mutations_0idx[i+1]['position']) // 2\n",
    "        allow_cut_positions.append((allow_cut_position+1,allow_cut_position+1))\n",
    "\n",
    "    cuttable_positions = find_cuttable_positions(s=s,\n",
    "                                                 mutations_0idx=mutations_0idx,\n",
    "                                                 linked_mutations_0idx=linked_mutations_0idx,\n",
    "                                                 min_aa_length=MIN_FRAGMENT_LENGTH,\n",
    "                                                 provider_max_dna_len=1500,\n",
    "                                                 enzyme='BsaI',\n",
    "                                                 allowed_cut_positions_1idx=allow_cut_positions,\n",
    "                                                 enzyme_info_dic=ENZYME_INFO)\n",
    "\n",
    "    \"\"\"bulk_measure_mutation_distribution_n_cost\"\"\"\n",
    "    mut_distribution_lst = bulk_measure_mutation_distribution_n_cost(cuttable_positions=cuttable_positions,\n",
    "                                                                     cut_number_range=range(1,6),\n",
    "                                                                     trial=trial, s=s, mutations_0idx=mutations_0idx,\n",
    "                                                                     linked_mutations_0idx=linked_mutations_0idx)\n",
    "\n",
    "    mut_distribution_lst_agg = mut_distribution_lst_agg + mut_distribution_lst\n"
   ],
   "metadata": {
    "collapsed": false
   }
  },
  {
   "cell_type": "code",
   "execution_count": null,
   "outputs": [],
   "source": [
    "\"\"\"Plotting - Scatter Plots\"\"\"\n",
    "plt = scattered_plot(x_axis='std', res_data=mut_distribution_lst_agg, cut_number_range=range(1,6))\n",
    "plt.show()"
   ],
   "metadata": {
    "collapsed": false
   }
  }
 ],
 "metadata": {
  "kernelspec": {
   "display_name": "Python 3",
   "language": "python",
   "name": "python3"
  },
  "language_info": {
   "codemirror_mode": {
    "name": "ipython",
    "version": 2
   },
   "file_extension": ".py",
   "mimetype": "text/x-python",
   "name": "python",
   "nbconvert_exporter": "python",
   "pygments_lexer": "ipython2",
   "version": "2.7.6"
  }
 },
 "nbformat": 4,
 "nbformat_minor": 0
}
