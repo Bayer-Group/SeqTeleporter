{
 "cells": [
  {
   "cell_type": "markdown",
   "metadata": {
    "collapsed": false
   },
   "source": [
    "# ProseqTeleporter Demo"
   ]
  },
  {
   "cell_type": "markdown",
   "metadata": {
    "collapsed": false
   },
   "source": [
    "## Setup environment\n",
    "\n",
    "Compatible python version: 3.9, 3.10, 3.11. If this is your first time running the script, do this in the terminal.\n",
    "1. ```pip install --upgrade pip```\n",
    "2. ```pip install -r requirements-dev.txt```\n",
    "\n",
    "## INSTRUCTIONS\n",
    "--------------\n",
    "1. Download the file `input_template.xlsx` in the folder `demo` to your own computer and rename it as `input.xlsx`.\n",
    "2. Open `input.xlsx`, in the tab `input_parameters`, replace the default amino acid sequence with your amino acid sequence, and then adjust the other parameters to your need. In the tab `input_mutations`, replace the default mutations with your mutations. In the tab `desired_variants`, replace the default variants with your desired variants.\n",
    "3. Save `input.xlsx`, and then upload the `input.xlsx` back to the folder `demo` on Science@Scale.\n",
    "4. Double click to open the python notebook `proseqTeleporter_demo.ipynb`, click ⏩ button to refresh and run the python notebook.\n",
    "5. Scroll down to the python notebook to view the Run status and wait for the Run to complete. Depending on your sequence and your parameters, it might take a while to run. When the Run is completed, you will see \"RUN COMPLETED!\" at the very bottom of the python notebook.\n",
    "6. When the Run is complete, go to `demo/input_[date]output/results` to see your results."
   ]
  },
  {
   "cell_type": "markdown",
   "metadata": {
    "collapsed": false,
    "jupyter": {
     "outputs_hidden": false
    }
   },
   "source": [
    "## CONFIGURATION\n",
    "--------------"
   ]
  },
  {
   "cell_type": "code",
   "execution_count": 1,
   "metadata": {
    "collapsed": false,
    "execution": {
     "iopub.execute_input": "2024-09-06T12:56:09.279552Z",
     "iopub.status.busy": "2024-09-06T12:56:09.279063Z",
     "iopub.status.idle": "2024-09-06T12:56:11.748343Z",
     "shell.execute_reply": "2024-09-06T12:56:11.747610Z"
    }
   },
   "outputs": [
    {
     "name": "stdout",
     "output_type": "stream",
     "text": [
      "Here is: C:\\Users\\GOFKV\\PycharmProjects\\proseqteleporter\\experiments\\improve_performance\n"
     ]
    }
   ],
   "source": [
    "import sys\n",
    "import os.path\n",
    "import cProfile\n",
    "import pstats\n",
    "import re\n",
    "\n",
    "SCRIPT_DIR = os.path.dirname(os.path.abspath('__file__'))\n",
    "sys.path.append(os.path.dirname(SCRIPT_DIR))\n",
    "\n",
    "from proseqteleporter.main_libs import (generate_and_optimize_ready_to_click_modules,\n",
    "                                        assemble_modules_and_generate_robot_instruction)\n",
    "\n",
    "print(f'Here is: {SCRIPT_DIR}')"
   ]
  },
  {
   "cell_type": "markdown",
   "metadata": {
    "collapsed": false
   },
   "source": [
    "## GENERATE & OPTIMIZE READY-TO-CLICK MODULES"
   ]
  },
  {
   "cell_type": "code",
   "execution_count": 2,
   "outputs": [
    {
     "name": "stdout",
     "output_type": "stream",
     "text": [
      "\u001B[1m=============================================================================================\u001B[0m\n",
      "                               \u001B[1m RUN STARTED! \u001B[0m \n",
      "\u001B[1m=============================================================================================\u001B[0m\n",
      "\u001B[1mValidating your input file...!\u001B[0m\n",
      "\u001B[1mInput file passed validation!\u001B[0m\n",
      "\u001B[1m ------------------- \u001B[0m\n",
      "\u001B[1m Here is your input: \u001B[0m\n",
      "\u001B[1m ------------------- \u001B[0m\n",
      "\u001B[1mGENE_NAME = \u001B[0m AzR\n",
      "\u001B[1mSequence (red: independent mutation positions; other colors: linked mutation positions) = \u001B[0m\n",
      "MVSVIKEEMKIKLRMEGTVNGHNFVIEGEGKGNPYEGTQTMDLKVTEGGPLPFAYDILSPQF\u001B[31mM\u001B[39mYGSKAFIKYPADIPDY\u001B[31mF\u001B[39mKQSFPEGFHWERVMTYEDGGVCTATQNTSLRGDCFFYDVRFDGVNFPPNGPVMQKKTLGWEP\u001B[31mS\u001B[39mTEKMYVRDGVLKGD\u001B[31mV\u001B[39mIKALLLEGGGHYRCD\u001B[31mF\u001B[39mKTTYKAKKDVRLPGYHFVD\u001B[31mH\u001B[39mRIEILKHDKDYNKVKQYENAVARYSMLPSQAK\n",
      "\u001B[1mSequence Length = \u001B[0m 226\n",
      "\u001B[1mMutations (1-indexed) = \u001B[0m [{'position': 63, 'aa': ['L', 'H']}, {'position': 80, 'aa': ['W', 'L']}, {'position': 143, 'aa': ['F', 'I']}, {'position': 158, 'aa': ['A', 'I', 'N']}, {'position': 174, 'aa': ['A', 'I']}, {'position': 194, 'aa': ['F', 'Y']}]\n",
      "\u001B[1mLinked mutations (1-indexed) = \u001B[0m []\n",
      "\u001B[1mALLOWED_CUT_POSITIONS=\u001B[0m[]\n",
      "\u001B[1mDNA_5_PRIME=\u001B[0mAATTTGGTCTCTCC\n",
      "\u001B[1mDNA_3_PRIME=\u001B[0mTAATAGAGACCTTTAA\n",
      "\u001B[1mFIX_DNA_SEQUENCE=\u001B[0mATGGTTAGCGTGATCAAAGAAGAGATGAAAATCAAACTGCGTATGGAAGGCACCGTGAATGGTCATAATTTTGTGATTGAAGGTGAAGGCAAAGGCAATCCGTATGAAGGTACACAGACCATGGATCTGAAAGTTACCGAAGGTGGTCCGCTGCCGTTTGCATATGATATTCTGAGTCCGCAGTTTATGTATGGCAGCAAAGCCTTTATCAAATATCCGGCAGATATCCCGGATTACTTTAAACAGAGCTTTCCGGAAGGTTTTCATTGGGAACGTGTTATGACCTATGAAGATGGTGGTGTTTGTACCGCAACACAGAATACCAGCCTGCGTGGTGATTGTTTCTTTTATGATGTTCGTTTTGATGGCGTGAACTTTCCGCCTAATGGTCCGGTTATGCAGAAAAAGACCTTAGGTTGGGAACCGAGCACCGAGAAAATGTATGTTCGTGATGGTGTTCTGAAAGGCGACGTTATTAAAGCACTGCTGCTGGAAGGTGGTGGTCATTATCGTTGTGATTTCAAAACCACCTACAAAGCCAAAAAGGATGTTCGTCTGCCTGGTTATCATTTTGTGGATCATCGTATCGAAATCCTGAAACACGATAAGGACTACAACAAAGTGAAACAGTATGAAAATGCCGTTGCGCGTTATAGCATGCTGCCGAGCCAGGCCAAA\n",
      "\u001B[1mFUSION_SITES_USED_BY_BACKBONE=\u001B[0m('CTTG', 'TAGC', 'CCAT', 'CGCT', 'TAAT')\n",
      "\u001B[1mHOST=\u001B[0me_coli\n",
      "\u001B[1mFIDELITY_DATA_PATH=\u001B[0mC:\\Users\\GOFKV\\PycharmProjects\\proseqteleporter\\proseqteleporter\\data\\neb_fidelity_data\\FileS01_T4_01h_25C.xlsx\n",
      "\u001B[1mMUTATIONS=\u001B[0m[{'position': 63, 'aa': ['L', 'H']}, {'position': 80, 'aa': ['W', 'L']}, {'position': 143, 'aa': ['F', 'I']}, {'position': 158, 'aa': ['A', 'I', 'N']}, {'position': 174, 'aa': ['A', 'I']}, {'position': 194, 'aa': ['F', 'Y']}]\n",
      "\u001B[1mLINKED_MUTATIONS=\u001B[0m[]\n",
      "\u001B[1mCUT_NUMBER_RANGE=\u001B[0m(5, 6)\n",
      "\u001B[1mMIN_AA_LENGTH=\u001B[0m6\n",
      "\u001B[1mMAX_COST=\u001B[0m50000.0\n",
      "\u001B[1mCOST_PER_BP=\u001B[0m0.1\n",
      "\u001B[1mMIN_DNA_LENGTH=\u001B[0m200\n",
      "\u001B[1mMAX_DNA_LENGTH=\u001B[0m10000\n",
      "\u001B[1mMAX_LENGTH_UNEVENNESS=\u001B[0m5.0\n",
      "\u001B[1mMIN_LIGATION_FIDELITY=\u001B[0m0.99\n",
      "\u001B[1mSATISFACTION_LIGATION_FIDELITY=\u001B[0m0.99\n",
      "\u001B[1mMODULE_PLATE_FORMAT=\u001B[0m96\n",
      "\u001B[1mENZYME=\u001B[0mBsaI\n",
      "[{'position': 63, 'aa': ['L', 'H']}, {'position': 80, 'aa': ['W', 'L']}, {'position': 143, 'aa': ['F', 'I']}, {'position': 158, 'aa': ['A', 'I', 'N']}, {'position': 174, 'aa': ['A', 'I']}, {'position': 194, 'aa': ['F', 'Y']}]\n",
      "\u001B[1m=============================================================================================\u001B[0m\n",
      "                               \u001B[1m IDENTIFYING OPTIMAL PARTITIONS \u001B[0m \n",
      "\u001B[1m=============================================================================================\u001B[0m\n"
     ]
    },
    {
     "name": "stderr",
     "output_type": "stream",
     "text": [
      "Exception ignored in: <bound method IPythonKernel._clean_thread_parent_frames of <ipykernel.ipkernel.IPythonKernel object at 0x0000022A8960A190>>\n",
      "Traceback (most recent call last):\n",
      "  File \"C:\\Users\\GOFKV\\PycharmProjects\\proseqteleporter\\venv\\Lib\\site-packages\\ipykernel\\ipkernel.py\", line 775, in _clean_thread_parent_frames\n",
      "    def _clean_thread_parent_frames(\n",
      "\n",
      "KeyboardInterrupt: \n"
     ]
    },
    {
     "ename": "KeyboardInterrupt",
     "evalue": "",
     "output_type": "error",
     "traceback": [
      "\u001B[1;31m---------------------------------------------------------------------------\u001B[0m",
      "\u001B[1;31mKeyboardInterrupt\u001B[0m                         Traceback (most recent call last)",
      "Cell \u001B[1;32mIn[2], line 6\u001B[0m\n\u001B[0;32m      4\u001B[0m input_table_path \u001B[38;5;241m=\u001B[39m os\u001B[38;5;241m.\u001B[39mpath\u001B[38;5;241m.\u001B[39mjoin(SCRIPT_DIR, \u001B[38;5;124m\"\u001B[39m\u001B[38;5;124minput_AzR_6f.xlsx\u001B[39m\u001B[38;5;124m\"\u001B[39m)\n\u001B[0;32m      5\u001B[0m out_f \u001B[38;5;241m=\u001B[39m \u001B[38;5;124mf\u001B[39m\u001B[38;5;124m\"\u001B[39m\u001B[38;5;124marray_profile_stats_\u001B[39m\u001B[38;5;132;01m{\u001B[39;00mre\u001B[38;5;241m.\u001B[39msub(\u001B[38;5;124m'\u001B[39m\u001B[38;5;124m[.]xlsx\u001B[39m\u001B[38;5;124m'\u001B[39m,\u001B[38;5;250m \u001B[39m\u001B[38;5;124m'\u001B[39m\u001B[38;5;124m'\u001B[39m,\u001B[38;5;250m \u001B[39mos\u001B[38;5;241m.\u001B[39mpath\u001B[38;5;241m.\u001B[39mbasename(input_table_path))\u001B[38;5;132;01m}\u001B[39;00m\u001B[38;5;124m\"\u001B[39m\n\u001B[1;32m----> 6\u001B[0m \u001B[43mcProfile\u001B[49m\u001B[38;5;241;43m.\u001B[39;49m\u001B[43mrun\u001B[49m\u001B[43m(\u001B[49m\u001B[38;5;124;43m'\u001B[39;49m\u001B[38;5;124;43mgenerate_and_optimize_ready_to_click_modules(input_table_path)\u001B[39;49m\u001B[38;5;124;43m'\u001B[39;49m\u001B[43m,\u001B[49m\u001B[43m \u001B[49m\u001B[43mout_f\u001B[49m\u001B[43m)\u001B[49m\n",
      "File \u001B[1;32m~\\AppData\\Local\\Programs\\Python\\Python311\\Lib\\cProfile.py:16\u001B[0m, in \u001B[0;36mrun\u001B[1;34m(statement, filename, sort)\u001B[0m\n\u001B[0;32m     15\u001B[0m \u001B[38;5;28;01mdef\u001B[39;00m \u001B[38;5;21mrun\u001B[39m(statement, filename\u001B[38;5;241m=\u001B[39m\u001B[38;5;28;01mNone\u001B[39;00m, sort\u001B[38;5;241m=\u001B[39m\u001B[38;5;241m-\u001B[39m\u001B[38;5;241m1\u001B[39m):\n\u001B[1;32m---> 16\u001B[0m     \u001B[38;5;28;01mreturn\u001B[39;00m \u001B[43m_pyprofile\u001B[49m\u001B[38;5;241;43m.\u001B[39;49m\u001B[43m_Utils\u001B[49m\u001B[43m(\u001B[49m\u001B[43mProfile\u001B[49m\u001B[43m)\u001B[49m\u001B[38;5;241;43m.\u001B[39;49m\u001B[43mrun\u001B[49m\u001B[43m(\u001B[49m\u001B[43mstatement\u001B[49m\u001B[43m,\u001B[49m\u001B[43m \u001B[49m\u001B[43mfilename\u001B[49m\u001B[43m,\u001B[49m\u001B[43m \u001B[49m\u001B[43msort\u001B[49m\u001B[43m)\u001B[49m\n",
      "File \u001B[1;32m~\\AppData\\Local\\Programs\\Python\\Python311\\Lib\\profile.py:53\u001B[0m, in \u001B[0;36m_Utils.run\u001B[1;34m(self, statement, filename, sort)\u001B[0m\n\u001B[0;32m     51\u001B[0m prof \u001B[38;5;241m=\u001B[39m \u001B[38;5;28mself\u001B[39m\u001B[38;5;241m.\u001B[39mprofiler()\n\u001B[0;32m     52\u001B[0m \u001B[38;5;28;01mtry\u001B[39;00m:\n\u001B[1;32m---> 53\u001B[0m     \u001B[43mprof\u001B[49m\u001B[38;5;241;43m.\u001B[39;49m\u001B[43mrun\u001B[49m\u001B[43m(\u001B[49m\u001B[43mstatement\u001B[49m\u001B[43m)\u001B[49m\n\u001B[0;32m     54\u001B[0m \u001B[38;5;28;01mexcept\u001B[39;00m \u001B[38;5;167;01mSystemExit\u001B[39;00m:\n\u001B[0;32m     55\u001B[0m     \u001B[38;5;28;01mpass\u001B[39;00m\n",
      "File \u001B[1;32m~\\AppData\\Local\\Programs\\Python\\Python311\\Lib\\cProfile.py:95\u001B[0m, in \u001B[0;36mProfile.run\u001B[1;34m(self, cmd)\u001B[0m\n\u001B[0;32m     93\u001B[0m \u001B[38;5;28;01mimport\u001B[39;00m \u001B[38;5;21;01m__main__\u001B[39;00m\n\u001B[0;32m     94\u001B[0m \u001B[38;5;28mdict\u001B[39m \u001B[38;5;241m=\u001B[39m __main__\u001B[38;5;241m.\u001B[39m\u001B[38;5;18m__dict__\u001B[39m\n\u001B[1;32m---> 95\u001B[0m \u001B[38;5;28;01mreturn\u001B[39;00m \u001B[38;5;28;43mself\u001B[39;49m\u001B[38;5;241;43m.\u001B[39;49m\u001B[43mrunctx\u001B[49m\u001B[43m(\u001B[49m\u001B[43mcmd\u001B[49m\u001B[43m,\u001B[49m\u001B[43m \u001B[49m\u001B[38;5;28;43mdict\u001B[39;49m\u001B[43m,\u001B[49m\u001B[43m \u001B[49m\u001B[38;5;28;43mdict\u001B[39;49m\u001B[43m)\u001B[49m\n",
      "File \u001B[1;32m~\\AppData\\Local\\Programs\\Python\\Python311\\Lib\\cProfile.py:100\u001B[0m, in \u001B[0;36mProfile.runctx\u001B[1;34m(self, cmd, globals, locals)\u001B[0m\n\u001B[0;32m     98\u001B[0m \u001B[38;5;28mself\u001B[39m\u001B[38;5;241m.\u001B[39menable()\n\u001B[0;32m     99\u001B[0m \u001B[38;5;28;01mtry\u001B[39;00m:\n\u001B[1;32m--> 100\u001B[0m     \u001B[43mexec\u001B[49m\u001B[43m(\u001B[49m\u001B[43mcmd\u001B[49m\u001B[43m,\u001B[49m\u001B[43m \u001B[49m\u001B[38;5;28;43mglobals\u001B[39;49m\u001B[43m,\u001B[49m\u001B[43m \u001B[49m\u001B[38;5;28;43mlocals\u001B[39;49m\u001B[43m)\u001B[49m\n\u001B[0;32m    101\u001B[0m \u001B[38;5;28;01mfinally\u001B[39;00m:\n\u001B[0;32m    102\u001B[0m     \u001B[38;5;28mself\u001B[39m\u001B[38;5;241m.\u001B[39mdisable()\n",
      "File \u001B[1;32m<string>:1\u001B[0m\n",
      "File \u001B[1;32m~\\PycharmProjects\\proseqteleporter\\proseqteleporter\\main_libs.py:24\u001B[0m, in \u001B[0;36mgenerate_and_optimize_ready_to_click_modules\u001B[1;34m(input_table_path)\u001B[0m\n\u001B[0;32m     22\u001B[0m show_input_seq_info(text_input_path)\n\u001B[0;32m     23\u001B[0m params \u001B[38;5;241m=\u001B[39m prepare_compute_best_partitions_params(text_input_path)\n\u001B[1;32m---> 24\u001B[0m best_partitions_by_cut_number, best_partitions_by_cut_number_file_path \u001B[38;5;241m=\u001B[39m \u001B[43mcompute_best_partitions\u001B[49m\u001B[43m(\u001B[49m\u001B[38;5;241;43m*\u001B[39;49m\u001B[38;5;241;43m*\u001B[39;49m\u001B[43mparams\u001B[49m\u001B[43m)\u001B[49m\n\u001B[0;32m     25\u001B[0m outfile_paths \u001B[38;5;241m=\u001B[39m []\n\u001B[0;32m     26\u001B[0m \u001B[38;5;28;01mfor\u001B[39;00m cut_number \u001B[38;5;129;01min\u001B[39;00m \u001B[38;5;28mrange\u001B[39m(params[\u001B[38;5;124m'\u001B[39m\u001B[38;5;124mcut_number_range\u001B[39m\u001B[38;5;124m'\u001B[39m][\u001B[38;5;241m0\u001B[39m], params[\u001B[38;5;124m'\u001B[39m\u001B[38;5;124mcut_number_range\u001B[39m\u001B[38;5;124m'\u001B[39m][\u001B[38;5;241m1\u001B[39m]):\n",
      "File \u001B[1;32m~\\PycharmProjects\\proseqteleporter\\proseqteleporter\\partitioner\\compute_best_partitions.py:247\u001B[0m, in \u001B[0;36mcompute_best_partitions\u001B[1;34m(s, mutations_0idx, linked_mutations_0idx, cut_number_range, fidelity_data_path, fusion_sites_used_by_backbone, min_aa_length, max_cost, max_unevenness, min_ligation_fidelity, satisfaction_fidelity, output_dir, supress_output, search_method, codon_usage_tbl_dir, host, sort_by_cost, enzyme, allowed_cut_positions_1idx, partition_search_mode, select_top_n_partitions, cost_per_nt, provider_min_frag_len, provider_max_frag_len, max_partition_number_checked)\u001B[0m\n\u001B[0;32m    245\u001B[0m num_of_checked_unique_partitions \u001B[38;5;241m=\u001B[39m \u001B[38;5;241m0\u001B[39m\n\u001B[0;32m    246\u001B[0m hard_constraint_violations: \u001B[38;5;28mdict\u001B[39m \u001B[38;5;241m=\u001B[39m {}\n\u001B[1;32m--> 247\u001B[0m \u001B[43m\u001B[49m\u001B[38;5;28;43;01mfor\u001B[39;49;00m\u001B[43m \u001B[49m\u001B[43mres\u001B[49m\u001B[43m \u001B[49m\u001B[38;5;129;43;01min\u001B[39;49;00m\u001B[43m \u001B[49m\u001B[43mpartition_properties_generator\u001B[49m\u001B[43m:\u001B[49m\n\u001B[0;32m    248\u001B[0m \u001B[43m    \u001B[49m\u001B[38;5;28;43;01mif\u001B[39;49;00m\u001B[43m \u001B[49m\u001B[43mnum_of_checked_unique_partitions\u001B[49m\u001B[43m \u001B[49m\u001B[38;5;241;43m>\u001B[39;49m\u001B[38;5;241;43m=\u001B[39;49m\u001B[43m \u001B[49m\u001B[43mmax_partition_number_checked\u001B[49m\u001B[43m:\u001B[49m\n\u001B[0;32m    249\u001B[0m \u001B[43m        \u001B[49m\u001B[38;5;28;43;01mbreak\u001B[39;49;00m\n",
      "File \u001B[1;32m~\\PycharmProjects\\proseqteleporter\\proseqteleporter\\partition_property_finder\\partition_property_finder.py:87\u001B[0m, in \u001B[0;36mfind_partition_property\u001B[1;34m(s, mutations_0idx, linked_mutations_0idx, partitions_list, fidelity_data_path, fusion_sites_used_by_backbone, min_aa_length, max_cost, max_unevenness, min_ligation_fidelity, satisfaction_fidelity, search_method, enzyme, analyze_cause_of_no_valid_partition, cost_per_nt, provider_min_frag_len, provider_max_frag_len)\u001B[0m\n\u001B[0;32m     83\u001B[0m     \u001B[38;5;28;01mcontinue\u001B[39;00m\n\u001B[0;32m     85\u001B[0m \u001B[38;5;66;03m# Assign fusion sites, compute ligation frequency and mismatch ligation frequency\u001B[39;00m\n\u001B[0;32m     86\u001B[0m sel_fusion_sites, ligation_fidelity, sel_junction_dna_map_sliding_window \u001B[38;5;241m=\u001B[39m \\\n\u001B[1;32m---> 87\u001B[0m     \u001B[43massign_fusion_sites\u001B[49m\u001B[43m(\u001B[49m\u001B[43ms\u001B[49m\u001B[43m,\u001B[49m\u001B[43m \u001B[49m\u001B[43mmutations_0idx\u001B[49m\u001B[43m,\u001B[49m\u001B[43m \u001B[49m\u001B[43mpartition\u001B[49m\u001B[43m,\u001B[49m\u001B[43m \u001B[49m\u001B[43mfidelity_data\u001B[49m\u001B[43m,\u001B[49m\u001B[43m \u001B[49m\u001B[43msatisfaction_fidelity\u001B[49m\u001B[43m,\u001B[49m\u001B[43m \u001B[49m\u001B[43menzyme\u001B[49m\u001B[43m,\u001B[49m\n\u001B[0;32m     88\u001B[0m \u001B[43m                        \u001B[49m\u001B[43mENZYME_INFO\u001B[49m\u001B[43m,\u001B[49m\u001B[43m \u001B[49m\u001B[43mfusion_sites_used_by_backbone\u001B[49m\u001B[43m,\u001B[49m\u001B[43m \u001B[49m\u001B[43msearch_method\u001B[49m\u001B[43m,\u001B[49m\u001B[43m \u001B[49m\u001B[43mCODON_TABLE\u001B[49m\u001B[43m)\u001B[49m\n\u001B[0;32m     90\u001B[0m \u001B[38;5;28;01mif\u001B[39;00m \u001B[38;5;28mlen\u001B[39m(sel_fusion_sites) \u001B[38;5;241m==\u001B[39m \u001B[38;5;241m0\u001B[39m:\n\u001B[0;32m     91\u001B[0m     \u001B[38;5;28;01mif\u001B[39;00m analyze_cause_of_no_valid_partition:\n",
      "File \u001B[1;32m~\\PycharmProjects\\proseqteleporter\\proseqteleporter\\partition_property_finder\\fusion_sites_finder.py:256\u001B[0m, in \u001B[0;36massign_fusion_sites\u001B[1;34m(s, mutations_0idx, partition, fidelity_data, satisfaction_fidelity, enzyme, enzyme_info_dic, fusion_sites_used_by_backbone, search_method, codon_table)\u001B[0m\n\u001B[0;32m    254\u001B[0m \u001B[38;5;66;03m# Extract correct ligation frequencies directly from the diagonal\u001B[39;00m\n\u001B[0;32m    255\u001B[0m correct_lig_freq_dict \u001B[38;5;241m=\u001B[39m {site: fidelity_data\u001B[38;5;241m.\u001B[39miloc[i, i] \u001B[38;5;28;01mfor\u001B[39;00m site, i \u001B[38;5;129;01min\u001B[39;00m fusion_site_indices\u001B[38;5;241m.\u001B[39mitems()}\n\u001B[1;32m--> 256\u001B[0m \u001B[43m\u001B[49m\u001B[38;5;28;43;01mfor\u001B[39;49;00m\u001B[43m \u001B[49m\u001B[43melement\u001B[49m\u001B[43m \u001B[49m\u001B[38;5;129;43;01min\u001B[39;49;00m\u001B[43m \u001B[49m\u001B[43mcandidate_fusion_sites_sets\u001B[49m\u001B[43m:\u001B[49m\n\u001B[0;32m    257\u001B[0m \u001B[43m    \u001B[49m\u001B[43mloop\u001B[49m\u001B[43m \u001B[49m\u001B[38;5;241;43m+\u001B[39;49m\u001B[38;5;241;43m=\u001B[39;49m\u001B[43m \u001B[49m\u001B[38;5;241;43m1\u001B[39;49m\n\u001B[0;32m    258\u001B[0m \u001B[43m    \u001B[49m\u001B[43mall_fusion_sites\u001B[49m\u001B[43m \u001B[49m\u001B[38;5;241;43m=\u001B[39;49m\u001B[43m \u001B[49m\u001B[43melement\u001B[49m\u001B[43m \u001B[49m\u001B[38;5;241;43m+\u001B[39;49m\u001B[43m \u001B[49m\u001B[43mfusion_sites_used_by_backbone\u001B[49m\n",
      "File \u001B[1;32m~\\PycharmProjects\\proseqteleporter\\proseqteleporter\\utils\\utils.py:583\u001B[0m, in \u001B[0;36mbreadth_first_product\u001B[1;34m(*sequences)\u001B[0m\n\u001B[0;32m    581\u001B[0m \u001B[38;5;28;01mfor\u001B[39;00m positions \u001B[38;5;129;01min\u001B[39;00m partitions(i, \u001B[38;5;28mlen\u001B[39m(sequences)):\n\u001B[0;32m    582\u001B[0m     \u001B[38;5;28;01mtry\u001B[39;00m:\n\u001B[1;32m--> 583\u001B[0m         \u001B[38;5;28;01myield\u001B[39;00m \u001B[38;5;28;43mtuple\u001B[39;49m\u001B[43m(\u001B[49m\u001B[38;5;28;43mmap\u001B[39;49m\u001B[43m(\u001B[49m\u001B[38;5;28;43;01mlambda\u001B[39;49;00m\u001B[43m \u001B[49m\u001B[43mseq_\u001B[49m\u001B[43m,\u001B[49m\u001B[43m \u001B[49m\u001B[43mpos\u001B[49m\u001B[43m:\u001B[49m\u001B[43m \u001B[49m\u001B[43mseq_\u001B[49m\u001B[43m[\u001B[49m\u001B[43mpos\u001B[49m\u001B[43m]\u001B[49m\u001B[43m,\u001B[49m\u001B[43m \u001B[49m\u001B[43msequences\u001B[49m\u001B[43m,\u001B[49m\u001B[43m \u001B[49m\u001B[43mpositions\u001B[49m\u001B[43m)\u001B[49m\u001B[43m)\u001B[49m\n\u001B[0;32m    584\u001B[0m     \u001B[38;5;28;01mexcept\u001B[39;00m \u001B[38;5;167;01mIndexError\u001B[39;00m:\n\u001B[0;32m    585\u001B[0m         \u001B[38;5;28;01mcontinue\u001B[39;00m\n",
      "File \u001B[1;32m~\\PycharmProjects\\proseqteleporter\\proseqteleporter\\utils\\utils.py:577\u001B[0m, in \u001B[0;36m<genexpr>\u001B[1;34m(.0)\u001B[0m\n\u001B[0;32m    575\u001B[0m \u001B[38;5;28;01mdef\u001B[39;00m \u001B[38;5;21mpartitions\u001B[39m(n: \u001B[38;5;28mint\u001B[39m, k: \u001B[38;5;28mint\u001B[39m) \u001B[38;5;241m-\u001B[39m\u001B[38;5;241m>\u001B[39m Generator:\n\u001B[0;32m    576\u001B[0m     \u001B[38;5;28;01mfor\u001B[39;00m c \u001B[38;5;129;01min\u001B[39;00m itertools\u001B[38;5;241m.\u001B[39mcombinations(\u001B[38;5;28mrange\u001B[39m(n \u001B[38;5;241m+\u001B[39m k \u001B[38;5;241m-\u001B[39m \u001B[38;5;241m1\u001B[39m), k \u001B[38;5;241m-\u001B[39m \u001B[38;5;241m1\u001B[39m):\n\u001B[1;32m--> 577\u001B[0m         \u001B[38;5;28;01myield\u001B[39;00m (b \u001B[38;5;241m-\u001B[39m a \u001B[38;5;241m-\u001B[39m \u001B[38;5;241m1\u001B[39m \u001B[38;5;28;01mfor\u001B[39;00m a, b \u001B[38;5;129;01min\u001B[39;00m \u001B[38;5;28mzip\u001B[39m((\u001B[38;5;241m-\u001B[39m\u001B[38;5;241m1\u001B[39m,) \u001B[38;5;241m+\u001B[39m c, c \u001B[38;5;241m+\u001B[39m (n \u001B[38;5;241m+\u001B[39m k \u001B[38;5;241m-\u001B[39m \u001B[38;5;241m1\u001B[39m,)))\n",
      "\u001B[1;31mKeyboardInterrupt\u001B[0m: "
     ]
    }
   ],
   "source": [
    "# input_table_path = os.path.join(SCRIPT_DIR, \"input_limit_cut_sites.xlsx\")\n",
    "# input_table_path = os.path.join(SCRIPT_DIR, \"input_AzR.xlsx\")\n",
    "# generate_and_optimize_ready_to_click_modules(input_table_path)\n",
    "input_table_path = os.path.join(SCRIPT_DIR, \"input_AzR_6f.xlsx\")\n",
    "out_f = f\"array_profile_stats_{re.sub('[.]xlsx', '', os.path.basename(input_table_path))}\"\n",
    "cProfile.run('generate_and_optimize_ready_to_click_modules(input_table_path)', out_f)"
   ],
   "metadata": {
    "collapsed": false
   }
  },
  {
   "cell_type": "code",
   "execution_count": null,
   "outputs": [],
   "source": [
    "p = pstats.Stats(out_f)\n",
    "# p.strip_dirs().sort_stats(-1).print_stats()\n",
    "p.sort_stats('cumulative').print_stats()\n"
   ],
   "metadata": {
    "collapsed": false
   }
  },
  {
   "cell_type": "code",
   "execution_count": null,
   "outputs": [],
   "source": [
    "p = pstats.Stats('profile_stats_input_AzR')\n",
    "# p.strip_dirs().sort_stats(-1).print_stats()\n",
    "p.sort_stats('cumulative').print_stats()"
   ],
   "metadata": {
    "collapsed": false
   }
  },
  {
   "cell_type": "code",
   "execution_count": null,
   "outputs": [],
   "source": [
    "p = pstats.Stats('profile_stats_input_limit_cut_sites')\n",
    "# p.strip_dirs().sort_stats(-1).print_stats()\n",
    "p.sort_stats('cumulative').print_stats()"
   ],
   "metadata": {
    "collapsed": false
   }
  }
 ],
 "metadata": {
  "kernelspec": {
   "display_name": "Python 3 (ipykernel)",
   "language": "python",
   "name": "python3"
  },
  "language_info": {
   "codemirror_mode": {
    "name": "ipython",
    "version": 3
   },
   "file_extension": ".py",
   "mimetype": "text/x-python",
   "name": "python",
   "nbconvert_exporter": "python",
   "pygments_lexer": "ipython3",
   "version": "3.10.12"
  }
 },
 "nbformat": 4,
 "nbformat_minor": 4
}
