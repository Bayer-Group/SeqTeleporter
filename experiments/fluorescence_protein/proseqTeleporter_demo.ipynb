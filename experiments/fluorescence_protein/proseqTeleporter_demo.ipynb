{
 "cells": [
  {
   "cell_type": "markdown",
   "metadata": {
    "collapsed": false
   },
   "source": [
    "# ProseqTeleporter Demo"
   ]
  },
  {
   "cell_type": "markdown",
   "metadata": {
    "collapsed": false
   },
   "source": [
    "## Setup environment\n",
    "\n",
    "Compatible python version: 3.9, 3.10, 3.11. If this is your first time running the script, do this in the terminal.\n",
    "1. ```pip install --upgrade pip```\n",
    "2. ```pip install -r requirements-dev.txt```\n",
    "\n",
    "## INSTRUCTIONS\n",
    "--------------\n",
    "1. Download the file `input_template.xlsx` in the folder `demo` to your own computer and rename it as `input.xlsx`.\n",
    "2. Open `input.xlsx`, in the tab `input_parameters`, replace the default amino acid sequence with your amino acid sequence, and then adjust the other parameters to your need. In the tab `input_mutations`, replace the default mutations with your mutations. In the tab `desired_variants`, replace the default variants with your desired variants.\n",
    "3. Save `input.xlsx`, and then upload the `input.xlsx` back to the folder `demo` on Science@Scale.\n",
    "4. Double click to open the python notebook `proseqTeleporter_demo.ipynb`, click ⏩ button to refresh and run the python notebook.\n",
    "5. Scroll down to the python notebook to view the Run status and wait for the Run to complete. Depending on your sequence and your parameters, it might take a while to run. When the Run is completed, you will see \"RUN COMPLETED!\" at the very bottom of the python notebook.\n",
    "6. When the Run is complete, go to `demo/input_[date]output/results` to see your results."
   ]
  },
  {
   "cell_type": "markdown",
   "metadata": {
    "collapsed": false,
    "jupyter": {
     "outputs_hidden": false
    }
   },
   "source": [
    "## CONFIGURATION\n",
    "--------------"
   ]
  },
  {
   "cell_type": "code",
   "execution_count": 10,
   "metadata": {
    "collapsed": false,
    "execution": {
     "iopub.execute_input": "2024-09-06T12:56:09.279552Z",
     "iopub.status.busy": "2024-09-06T12:56:09.279063Z",
     "iopub.status.idle": "2024-09-06T12:56:11.748343Z",
     "shell.execute_reply": "2024-09-06T12:56:11.747610Z"
    }
   },
   "outputs": [
    {
     "name": "stdout",
     "output_type": "stream",
     "text": [
      "Here is: C:\\Users\\GOFKV\\PycharmProjects\\seqTeleporter\\experiments\\fluorescence_protein\n"
     ]
    }
   ],
   "source": [
    "import sys\n",
    "import os.path\n",
    "\n",
    "SCRIPT_DIR = os.path.dirname(os.path.abspath('__file__'))\n",
    "sys.path.append(os.path.dirname(SCRIPT_DIR))\n",
    "\n",
    "from proseqteleporter.utils.utils import print_available_resources\n",
    "from proseqteleporter.main_libs import (generate_and_optimize_ready_to_click_modules,\n",
    "                                        assemble_modules_and_generate_robot_instruction)\n",
    "\n",
    "print(f'Here is: {SCRIPT_DIR}')"
   ]
  },
  {
   "cell_type": "markdown",
   "metadata": {
    "collapsed": false,
    "jupyter": {
     "outputs_hidden": false
    }
   },
   "source": [
    "## SHOW AVAILABLE HOSTS & ASSEMBLY CONDITIONS\n",
    "--------------"
   ]
  },
  {
   "cell_type": "code",
   "execution_count": 11,
   "metadata": {
    "collapsed": false,
    "execution": {
     "iopub.execute_input": "2024-09-06T12:56:11.779373Z",
     "iopub.status.busy": "2024-09-06T12:56:11.778820Z",
     "iopub.status.idle": "2024-09-06T12:56:11.783398Z",
     "shell.execute_reply": "2024-09-06T12:56:11.782765Z"
    },
    "jupyter": {
     "outputs_hidden": false
    }
   },
   "outputs": [
    {
     "name": "stdout",
     "output_type": "stream",
     "text": [
      "\u001B[1m===========================================================================================\u001B[0m\n",
      "                                           AVAILABLE HOSTS                                              \n",
      "\u001B[1m===========================================================================================\u001B[0m\n",
      "c_griseus\n",
      "e_coli\n",
      "p_pastoris\n",
      "s_cerevisiae\n",
      "\u001B[1m===========================================================================================\u001B[0m\n",
      "                                  AVAILABLE ASSEMBLY CONDITIONS                                         \n",
      "\u001B[1m===========================================================================================\u001B[0m\n",
      "T4_01h_25C\n",
      "T7_18h_25C\n",
      "T7_18h_37C\n"
     ]
    }
   ],
   "source": [
    "print_available_resources()"
   ]
  },
  {
   "cell_type": "markdown",
   "metadata": {
    "collapsed": false
   },
   "source": [
    "## GENERATE & OPTIMIZE READY-TO-CLICK MODULES"
   ]
  },
  {
   "cell_type": "code",
   "execution_count": 12,
   "metadata": {
    "collapsed": false,
    "execution": {
     "iopub.execute_input": "2024-09-06T12:56:11.786006Z",
     "iopub.status.busy": "2024-09-06T12:56:11.785581Z",
     "iopub.status.idle": "2024-09-06T12:56:25.590654Z",
     "shell.execute_reply": "2024-09-06T12:56:25.589848Z"
    }
   },
   "outputs": [
    {
     "name": "stdout",
     "output_type": "stream",
     "text": [
      "\u001B[1m=============================================================================================\u001B[0m\n",
      "                               \u001B[1m RUN STARTED! \u001B[0m \n",
      "\u001B[1m=============================================================================================\u001B[0m\n",
      "\u001B[1mValidating your input file...!\u001B[0m\n",
      "\u001B[1mInput file passed validation!\u001B[0m\n",
      "\u001B[1m ------------------- \u001B[0m\n",
      "\u001B[1m Here is your input: \u001B[0m\n",
      "\u001B[1m ------------------- \u001B[0m\n",
      "\u001B[1mGENE_NAME = \u001B[0m AzG\n",
      "\u001B[1mSequence (red: independent mutation positions; other colors: linked mutation positions) = \u001B[0m\n",
      "MVSVIKPEMKIKLCMRGTVNGHNFVIEGEGKGNPYEGTQILDLNVTEGAPLPFAYDILTTVF\u001B[31mQ\u001B[39mYGN\u001B[31mR\u001B[39mAFTKYPADIQDY\u001B[31mF\u001B[39mKQTFPEGYHWERSMTYEDQGICTATSNISMRGDCFFYDIRFDGVNFPPNGPVMQKKTLKWEP\u001B[31mS\u001B[39mTEKMYVRDGVLKGD\u001B[31mV\u001B[39mNMALLLEGGGHYRCD\u001B[31mF\u001B[39mKTTYKAKKDVRLPDYHFVD\u001B[31mH\u001B[39mRIEILKHDKDYNKVKLYENAVARYSMLPSQAK\n",
      "\u001B[1mSequence Length = \u001B[0m 226\n",
      "\u001B[1mMutations (1-indexed) = \u001B[0m [{'position': 63, 'aa': ['L', 'H']}, {'position': 67, 'aa': ['K']}, {'position': 80, 'aa': ['W', 'L']}, {'position': 143, 'aa': ['F', 'I']}, {'position': 158, 'aa': ['A', 'I', 'N']}, {'position': 174, 'aa': ['A', 'I']}, {'position': 194, 'aa': ['F', 'Y']}]\n",
      "\u001B[1mLinked mutations (1-indexed) = \u001B[0m []\n",
      "\u001B[1mALLOWED_CUT_POSITIONS=\u001B[0m((62, 66), (102, 106), (142, 146), (182, 185))\n",
      "\u001B[1mDNA_5_PRIME=\u001B[0mAATTTGGTCTCTCC\n",
      "\u001B[1mDNA_3_PRIME=\u001B[0mTAATAGAGACCTTTAA\n",
      "\u001B[1mFIX_DNA_SEQUENCE=\u001B[0mATGGTTAGCGTTATTAAACCGGAAATGAAAATCAAGCTGTGTATGCGTGGCACCGTTAATGGTCATAATTTTGTGATTGAAGGTGAAGGCAAAGGCAATCCGTATGAAGGCACCCAGATTCTGGATCTGAATGTTACCGAAGGTGCACCGCTGCCGTTTGCATATGATATTCTGACCACCGTTTTTCAGTATGGCAATCGTGCATTTACCAAATATCCGGCAGATATCCAGGATTACTTCAAACAGACCTTTCCGGAAGGTTATCATTGGGAACGTAGCATGACCTATGAAGATCAGGGTATTTGTACCGCAACCAGCAATATTAGCATGCGTGGTGATTGCTTTTTCTATGATATCCGTTTTGACGGCGTTAACTTTCCGCCTAATGGTCCGGTTATGCAGAAAAAGACCCTGAAATGGGAACCGAGCACCGAGAAAATGTATGTTCGTGATGGTGTTCTGAAAGGCGACGTTAATATGGCACTGCTGCTGGAAGGTGGTGGTCATTATCGTTGTGATTTCAAAACCACCTACAAAGCCAAAAAGGATGTTCGCCTGCCGGATTATCATTTTGTTGATCATCGTATCGAGATCCTGAAACACGATAAAGACTACAACAAAGTGAAGCTGTATGAAAATGCAGTTGCCCGTTATAGCATGCTGCCGAGCCAGGCCAAA\n",
      "\u001B[1mFUSION_SITES_USED_BY_BACKBONE=\u001B[0m('CTTG', 'TAGC', 'CCAT', 'CGCT', 'TAAT')\n",
      "\u001B[1mHOST=\u001B[0me_coli\n",
      "\u001B[1mFIDELITY_DATA_PATH=\u001B[0mC:\\Users\\GOFKV\\PycharmProjects\\seqTeleporter\\proseqteleporter\\data\\neb_fidelity_data\\FileS01_T4_01h_25C.xlsx\n",
      "\u001B[1mMUTATIONS=\u001B[0m[{'position': 63, 'aa': ['L', 'H']}, {'position': 67, 'aa': ['K']}, {'position': 80, 'aa': ['W', 'L']}, {'position': 143, 'aa': ['F', 'I']}, {'position': 158, 'aa': ['A', 'I', 'N']}, {'position': 174, 'aa': ['A', 'I']}, {'position': 194, 'aa': ['F', 'Y']}]\n",
      "\u001B[1mLINKED_MUTATIONS=\u001B[0m[]\n",
      "\u001B[1mCUT_NUMBER_RANGE=\u001B[0m(4, 5)\n",
      "\u001B[1mMIN_AA_LENGTH=\u001B[0m6\n",
      "\u001B[1mMAX_COST=\u001B[0m50000.0\n",
      "\u001B[1mCOST_PER_BP=\u001B[0m0.1\n",
      "\u001B[1mMIN_DNA_LENGTH=\u001B[0m300\n",
      "\u001B[1mMAX_DNA_LENGTH=\u001B[0m10000\n",
      "\u001B[1mMAX_LENGTH_UNEVENNESS=\u001B[0m5.0\n",
      "\u001B[1mMIN_LIGATION_FIDELITY=\u001B[0m0.99\n",
      "\u001B[1mSATISFACTION_LIGATION_FIDELITY=\u001B[0m0.99\n",
      "\u001B[1mMODULE_PLATE_FORMAT=\u001B[0m96\n",
      "\u001B[1mENZYME=\u001B[0mBsaI\n",
      "[{'position': 63, 'aa': ['L', 'H']}, {'position': 67, 'aa': ['K']}, {'position': 80, 'aa': ['W', 'L']}, {'position': 143, 'aa': ['F', 'I']}, {'position': 158, 'aa': ['A', 'I', 'N']}, {'position': 174, 'aa': ['A', 'I']}, {'position': 194, 'aa': ['F', 'Y']}]\n",
      "\u001B[1m=============================================================================================\u001B[0m\n",
      "                               \u001B[1m IDENTIFYING OPTIMAL PARTITIONS \u001B[0m \n",
      "\u001B[1m=============================================================================================\u001B[0m\n",
      "\n",
      "--------------------------------------------------------------------------------------------------\n",
      "\u001B[1m Results For 5 Fragments: \u001B[0m\n",
      "   Number of cuts: 4 \n",
      "   Elapsed time: 7.05 \n",
      "   Number of partitions checked: 96\n",
      "   Number of unique partitions checked: 96\n",
      "   Number of unique partitions violating hard constraints: 16\n",
      "                           Partition Count\n",
      "Fragment(s) too short.               16\n",
      "   The top 3 partitions:\n",
      "\n",
      " \u001B[1mPartition 1:\u001B[0m\n",
      " \u001B[1mfragments = \n",
      "[MVSVIKPEMKIKLCMRGTVNGHNFVIEGEGKGNPYEGTQILDLNVTEGAPLPFAYDILTTVF\u001B[31mQ\u001B[39mY]\n",
      "[GN\u001B[31mR\u001B[39mAFTKYPADIQDY\u001B[31mF\u001B[39mKQTFPEGYHWERSMTYEDQGICTA]\n",
      "[TSNISMRGDCFFYDIRFDGVNFPPNGPVMQKKTLKWEP\u001B[31mS\u001B[39mT]\n",
      "[EKMYVRDGVLKGD\u001B[31mV\u001B[39mNMALLLEGGGHYRCD\u001B[31mF\u001B[39mKTTYKAKKDV]\n",
      "[RLPDYHFVD\u001B[31mH\u001B[39mRIEILKHDKDYNKVKLYENAVARYSMLPSQAK]\u001B[0m\n",
      " fusion_sites = ('CGGA', 'AACC', 'ACTG', 'AAGA');\n",
      " partition(0idx) = (64, 104, 144, 184); fidelity=0.99; unevenness = 0.6; cost=810.0;\n",
      " aa + dna fusion sites = \n",
      "[MVSVIKPEMKIKLCMRGTVNGHNFVIEGEGKGNPYEGTQILDLNVTEGAPLPFAYDILTTVFQ]TA<C|GGA>\n",
      "                                                                   <C|GGA>[NRAFTKYPADIQDYFKQTFPEGYHWERSMTYEDQGICT]GC<A|ACC>\n",
      "                                                                                                                    <A|ACC>[SNISMRGDCFFYDIRFDGVNFPPNGPVMQKKTLKWEPS]<ACT|G>\n",
      "                                                                                                                                                                   <ACT|G>AG[KMYVRDGVLKGDVNMALLLEGGGHYRCDFKTTYKAKKD]GT<A|AGA>\n",
      "                                                                                                                                                                                                                      <A|AGA>[LPDYHFVDHRIEILKHDKDYNKVKLYENAVARYSMLPSQAK]\n",
      "\n",
      " \u001B[1mPartition 2:\u001B[0m\n",
      " \u001B[1mfragments = \n",
      "[MVSVIKPEMKIKLCMRGTVNGHNFVIEGEGKGNPYEGTQILDLNVTEGAPLPFAYDILTTVF\u001B[31mQ\u001B[39mY]\n",
      "[GN\u001B[31mR\u001B[39mAFTKYPADIQDY\u001B[31mF\u001B[39mKQTFPEGYHWERSMTYEDQGICT]\n",
      "[ATSNISMRGDCFFYDIRFDGVNFPPNGPVMQKKTLKWEP\u001B[31mS\u001B[39mT]\n",
      "[EKMYVRDGVLKGD\u001B[31mV\u001B[39mNMALLLEGGGHYRCD\u001B[31mF\u001B[39mKTTYKAKKD]\n",
      "[VRLPDYHFVD\u001B[31mH\u001B[39mRIEILKHDKDYNKVKLYENAVARYSMLPSQAK]\u001B[0m\n",
      " fusion_sites = ('CGGA', 'ACTG', 'CACA', 'AGAC');\n",
      " partition(0idx) = (64, 103, 144, 183); fidelity=0.99; unevenness = 0.641; cost=810.0;\n",
      " aa + dna fusion sites = \n",
      "[MVSVIKPEMKIKLCMRGTVNGHNFVIEGEGKGNPYEGTQILDLNVTEGAPLPFAYDILTTVFQ]TA<C|GGA>\n",
      "                                                                   <C|GGA>[NRAFTKYPADIQDYFKQTFPEGYHWERSMTYEDQGIC]<ACT|G>\n",
      "                                                                                                                 <ACT|G>CG[TSNISMRGDCFFYDIRFDGVNFPPNGPVMQKKTLKWEP]AG<CACA|>\n",
      "                                                                                                                                                                    <CACA|>[EKMYVRDGVLKGDVNMALLLEGGGHYRCDFKTTYKAK]AA<AGAC|>\n",
      "                                                                                                                                                                                                                    <AGAC|>[VRLPDYHFVDHRIEILKHDKDYNKVKLYENAVARYSMLPSQAK]\n",
      "\n",
      " \u001B[1mPartition 3:\u001B[0m\n",
      " \u001B[1mfragments = \n",
      "[MVSVIKPEMKIKLCMRGTVNGHNFVIEGEGKGNPYEGTQILDLNVTEGAPLPFAYDILTTVF\u001B[31mQ\u001B[39mY]\n",
      "[GN\u001B[31mR\u001B[39mAFTKYPADIQDY\u001B[31mF\u001B[39mKQTFPEGYHWERSMTYEDQGICT]\n",
      "[ATSNISMRGDCFFYDIRFDGVNFPPNGPVMQKKTLKWEP\u001B[31mS\u001B[39mT]\n",
      "[EKMYVRDGVLKGD\u001B[31mV\u001B[39mNMALLLEGGGHYRCD\u001B[31mF\u001B[39mKTTYKAKKDV]\n",
      "[RLPDYHFVD\u001B[31mH\u001B[39mRIEILKHDKDYNKVKLYENAVARYSMLPSQAK]\u001B[0m\n",
      " fusion_sites = ('CGGA', 'ACTG', 'AGAA', 'AAGA');\n",
      " partition(0idx) = (64, 103, 144, 184); fidelity=0.99; unevenness = 0.641; cost=810.0;\n",
      " aa + dna fusion sites = \n",
      "[MVSVIKPEMKIKLCMRGTVNGHNFVIEGEGKGNPYEGTQILDLNVTEGAPLPFAYDILTTVFQ]TA<C|GGA>\n",
      "                                                                   <C|GGA>[NRAFTKYPADIQDYFKQTFPEGYHWERSMTYEDQGIC]<ACT|G>\n",
      "                                                                                                                 <ACT|G>CG[TSNISMRGDCFFYDIRFDGVNFPPNGPVMQKKTLKWEPS]AC<A|GAA>\n",
      "                                                                                                                                                                     <A|GAA>[KMYVRDGVLKGDVNMALLLEGGGHYRCDFKTTYKAKKD]GT<A|AGA>\n",
      "                                                                                                                                                                                                                      <A|AGA>[LPDYHFVDHRIEILKHDKDYNKVKLYENAVARYSMLPSQAK]\n",
      "--------------------------------------------------------------------------------------------------\n",
      "\u001B[1m Result \"best_partitions_by_cut_number\" is exported at:\n",
      " C:\\Users\\GOFKV\\PycharmProjects\\seqTeleporter\\experiments\\fluorescence_protein\\input_ecoli2\\input_AzG_2024-09-26output\\logs\\best_partitions_by_cut_number_dist_mut_1.json\u001B[0m\n",
      "--------------------------------------------------------------------------------------------------\n",
      "\u001B[1m Result \"params\" is exported at:\n",
      " C:\\Users\\GOFKV\\PycharmProjects\\seqTeleporter\\experiments\\fluorescence_protein\\input_ecoli2\\input_AzG_2024-09-26output\\logs\\params_dist_mut_1.json\u001B[0m\n",
      "\n",
      "\u001B[1m\n",
      "===========================================================================================\n",
      "                       SUCCESSFULLY IDENTIFIED OPTIMAL PARTITIONS!                           \n",
      "                       Total elapsed time: 7.08 seconds\n",
      "===========================================================================================\u001B[0m\n",
      "\u001B[1m===========================================================================================\u001B[0m\n",
      "                               \u001B[1m GENERATING MODULES \u001B[0m \n",
      "                               Number of fragments: 5 \n",
      "\u001B[1m===========================================================================================\u001B[0m\n",
      "\n",
      " Processing partition:\n",
      " partition: [64, 104, 144, 184]\n",
      " ligation_fidelity: 0.99\n",
      " fragment_length_unevenness: 0.6\n",
      " fusion_sites: ['CGGA', 'AACC', 'ACTG', 'AAGA']\n",
      " cost: 810.0\n",
      " fragments: \n",
      " ['MVSVIKPEMKIKLCMRGTVNGHNFVIEGEGKGNPYEGTQILDLNVTEGAPLPFAYDILTTVFQY', 'GNRAFTKYPADIQDYFKQTFPEGYHWERSMTYEDQGICTA', 'TSNISMRGDCFFYDIRFDGVNFPPNGPVMQKKTLKWEPST', 'EKMYVRDGVLKGDVNMALLLEGGGHYRCDFKTTYKAKKDV', 'RLPDYHFVDHRIEILKHDKDYNKVKLYENAVARYSMLPSQAK']\n",
      "\n",
      "Processing the partitioned fragments...\n",
      "  Concatenating user-specified 5' and 3' dna sequence...\n",
      "  Concatenating BsaI sites and stuffers...\n",
      "  Generating individual mutant aa fragments...\n",
      "  Translating mutant aa fragments to dna fragments...\n",
      "  Validating dna fragment constraints (enzyme sites)...\n",
      "   Passed validation of mutant dna fragments constraints!\n",
      "Validating mutant dna fragments by in-silico assembly...\n",
      "Random combi in-silico assembly: Q63L_R67K_V158I, \n",
      "  Validation Passed: True\n",
      "Random combi in-silico assembly: R67K_F80L_F174A_H194Y, \n",
      "  Validation Passed: True\n",
      "Random combi in-silico assembly: Q63H_R67K_V158A_F174I, \n",
      "  Validation Passed: True\n",
      "Random combi in-silico assembly: Q63L_F80L_S143I_V158A_H194Y, \n",
      "  Validation Passed: True\n",
      "Random combi in-silico assembly: Q63H_R67K_F80L_S143I_V158I, \n",
      "  Validation Passed: True\n",
      "Random combi in-silico assembly: F80W_S143F_V158N, \n",
      "  Validation Passed: True\n",
      "Random combi in-silico assembly: Q63H_F80L_V158A_F174A_H194F, \n",
      "  Validation Passed: True\n",
      "Random combi in-silico assembly: Q63L_F80L_V158I_F174I_H194Y, \n",
      "  Validation Passed: True\n",
      "Random combi in-silico assembly: Q63L_F80W_S143F_V158A_H194Y, \n",
      "  Validation Passed: True\n",
      "Random combi in-silico assembly: S143I_V158A, \n",
      "  Validation Passed: True\n",
      "Exporting DNA module ordering sheet\n",
      "--------------------------------------------------------------------------------------------------\n",
      "\u001B[1m DNA module ordering sheet is exported at:\n",
      " C:\\Users\\GOFKV\\PycharmProjects\\seqTeleporter\\experiments\\fluorescence_protein\\input_ecoli2\\input_AzG_2024-09-26output\\results\\order_modules_5fragments.xlsx\u001B[0m\n",
      "\n",
      "\u001B[1m\n",
      "================================================================================================\n",
      "                                SUCCESSFULLY GENERATED MODULES!                       \n",
      "                                Number of fragments: 5                       \n",
      "                                 Estimated cost: 810.0 €\n",
      "================================================================================================\u001B[0m\n",
      "\n",
      "\u001B[1m\n",
      "==================================================================================================\n",
      "                        GENERATE & OPTIMIZE READY-TO-CLICK MODULES \n",
      "                                     RUN COMPLETED!\n",
      "==================================================================================================\u001B[0m\n"
     ]
    }
   ],
   "source": [
    "input_table_path = os.path.join(SCRIPT_DIR, \"input_ecoli2\",\"input_AzR.xlsx\")\n",
    "input_table_path = os.path.join(SCRIPT_DIR, \"input_ecoli2\",\"input_AzG.xlsx\")\n",
    "\n",
    "ready_to_click_modules_paths = generate_and_optimize_ready_to_click_modules(input_table_path)"
   ]
  },
  {
   "cell_type": "markdown",
   "metadata": {
    "collapsed": false
   },
   "source": [
    "## ASSEMBLE MODULES\n",
    "If encounter error msg: Can't find workbook in OLE2 compound document, remove excel sensitivity label and try again."
   ]
  },
  {
   "cell_type": "code",
   "execution_count": 13,
   "metadata": {
    "collapsed": false,
    "execution": {
     "iopub.execute_input": "2024-09-06T12:56:25.593476Z",
     "iopub.status.busy": "2024-09-06T12:56:25.593044Z",
     "iopub.status.idle": "2024-09-06T12:56:27.508597Z",
     "shell.execute_reply": "2024-09-06T12:56:27.507835Z"
    }
   },
   "outputs": [
    {
     "name": "stdout",
     "output_type": "stream",
     "text": [
      "\n",
      "The plate mapping sheet is validated!\n",
      "\n",
      "The README sheet is validated!\n",
      "\n",
      "Plate mapping sheet is exported to:\n",
      " C:\\Users\\GOFKV\\PycharmProjects\\seqTeleporter\\experiments\\fluorescence_protein\\input_ecoli2\\input_AzG_2024-09-26output\\results\\2024-09-26_source_destination_plate_map.xlsx\n",
      "\n",
      "Preview of mapping sheet: \n",
      "   Source Plate   Target Plate Source Well Target Well              Volume_ul  \\\n",
      "0       plate1  target_plate1          A2          A1  PLEASE FILL IN VOLUME   \n",
      "1       plate1  target_plate1          A8          A1  PLEASE FILL IN VOLUME   \n",
      "2       plate1  target_plate1         A11          A1  PLEASE FILL IN VOLUME   \n",
      "\n",
      "             Module Module Plasmid Number  \\\n",
      "0         1-64_Q63L              default1   \n",
      "1  65-104_R67K_F80W              default1   \n",
      "2     105-144_S143F              default1   \n",
      "\n",
      "                                Mutations  \n",
      "0  Q63L_R67K_F80W_S143F_V158A_F174A_H194F  \n",
      "1  Q63L_R67K_F80W_S143F_V158A_F174A_H194F  \n",
      "2  Q63L_R67K_F80W_S143F_V158A_F174A_H194F  \n"
     ]
    }
   ],
   "source": [
    "assemble_modules_and_generate_robot_instruction(input_table_path, ready_to_click_modules_paths[0])"
   ]
  }
 ],
 "metadata": {
  "kernelspec": {
   "display_name": "Python 3 (ipykernel)",
   "language": "python",
   "name": "python3"
  },
  "language_info": {
   "codemirror_mode": {
    "name": "ipython",
    "version": 3
   },
   "file_extension": ".py",
   "mimetype": "text/x-python",
   "name": "python",
   "nbconvert_exporter": "python",
   "pygments_lexer": "ipython3",
   "version": "3.10.12"
  }
 },
 "nbformat": 4,
 "nbformat_minor": 4
}
