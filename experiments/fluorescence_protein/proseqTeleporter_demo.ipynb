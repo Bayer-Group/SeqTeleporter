{
 "cells": [
  {
   "cell_type": "markdown",
   "metadata": {
    "collapsed": false
   },
   "source": [
    "# ProseqTeleporter Demo"
   ]
  },
  {
   "cell_type": "markdown",
   "metadata": {
    "collapsed": false
   },
   "source": [
    "## Setup environment\n",
    "\n",
    "Compatible python version: 3.9, 3.10, 3.11. If this is your first time running the script, do this in the terminal.\n",
    "1. ```pip install --upgrade pip```\n",
    "2. ```pip install -r requirements-dev.txt```\n",
    "\n",
    "## INSTRUCTIONS\n",
    "--------------\n",
    "1. Download the file `input_template.xlsx` in the folder `demo` to your own computer and rename it as `input.xlsx`.\n",
    "2. Open `input.xlsx`, in the tab `input_parameters`, replace the default amino acid sequence with your amino acid sequence, and then adjust the other parameters to your need. In the tab `input_mutations`, replace the default mutations with your mutations. In the tab `desired_variants`, replace the default variants with your desired variants.\n",
    "3. Save `input.xlsx`, and then upload the `input.xlsx` back to the folder `demo` on Science@Scale.\n",
    "4. Double click to open the python notebook `proseqTeleporter_demo.ipynb`, click ⏩ button to refresh and run the python notebook.\n",
    "5. Scroll down to the python notebook to view the Run status and wait for the Run to complete. Depending on your sequence and your parameters, it might take a while to run. When the Run is completed, you will see \"RUN COMPLETED!\" at the very bottom of the python notebook.\n",
    "6. When the Run is complete, go to `demo/input_[date]output/results` to see your results."
   ]
  },
  {
   "cell_type": "markdown",
   "metadata": {
    "collapsed": false,
    "jupyter": {
     "outputs_hidden": false
    }
   },
   "source": [
    "## CONFIGURATION\n",
    "--------------"
   ]
  },
  {
   "cell_type": "code",
   "execution_count": 10,
   "metadata": {
    "collapsed": false,
    "execution": {
     "iopub.execute_input": "2024-09-06T12:56:09.279552Z",
     "iopub.status.busy": "2024-09-06T12:56:09.279063Z",
     "iopub.status.idle": "2024-09-06T12:56:11.748343Z",
     "shell.execute_reply": "2024-09-06T12:56:11.747610Z"
    }
   },
   "outputs": [
    {
     "name": "stdout",
     "output_type": "stream",
     "text": [
      "Here is: C:\\Users\\GOFKV\\PycharmProjects\\proseqteleporter\\experiments\\fluorescence_protein\n"
     ]
    }
   ],
   "source": [
    "import sys\n",
    "import os.path\n",
    "\n",
    "SCRIPT_DIR = os.path.dirname(os.path.abspath('__file__'))\n",
    "sys.path.append(os.path.dirname(SCRIPT_DIR))\n",
    "\n",
    "from proseqteleporter.utils.utils import print_available_resources\n",
    "from proseqteleporter.main_libs import (generate_and_optimize_ready_to_click_modules,\n",
    "                                        assemble_modules_and_generate_robot_instruction)\n",
    "\n",
    "print(f'Here is: {SCRIPT_DIR}')"
   ]
  },
  {
   "cell_type": "markdown",
   "metadata": {
    "collapsed": false,
    "jupyter": {
     "outputs_hidden": false
    }
   },
   "source": [
    "## SHOW AVAILABLE HOSTS & ASSEMBLY CONDITIONS\n",
    "--------------"
   ]
  },
  {
   "cell_type": "code",
   "execution_count": 11,
   "metadata": {
    "collapsed": false,
    "execution": {
     "iopub.execute_input": "2024-09-06T12:56:11.779373Z",
     "iopub.status.busy": "2024-09-06T12:56:11.778820Z",
     "iopub.status.idle": "2024-09-06T12:56:11.783398Z",
     "shell.execute_reply": "2024-09-06T12:56:11.782765Z"
    },
    "jupyter": {
     "outputs_hidden": false
    }
   },
   "outputs": [
    {
     "name": "stdout",
     "output_type": "stream",
     "text": [
      "\u001B[1m===========================================================================================\u001B[0m\n",
      "                                           AVAILABLE HOSTS                                              \n",
      "\u001B[1m===========================================================================================\u001B[0m\n",
      "c_griseus\n",
      "e_coli\n",
      "p_pastoris\n",
      "s_cerevisiae\n",
      "\u001B[1m===========================================================================================\u001B[0m\n",
      "                                  AVAILABLE ASSEMBLY CONDITIONS                                         \n",
      "\u001B[1m===========================================================================================\u001B[0m\n",
      "T4_01h_25C\n",
      "T7_18h_25C\n",
      "T7_18h_37C\n"
     ]
    }
   ],
   "source": [
    "print_available_resources()"
   ]
  },
  {
   "cell_type": "markdown",
   "metadata": {
    "collapsed": false
   },
   "source": [
    "## GENERATE & OPTIMIZE READY-TO-CLICK MODULES"
   ]
  },
  {
   "cell_type": "code",
   "execution_count": null,
   "metadata": {
    "collapsed": false,
    "execution": {
     "iopub.execute_input": "2024-09-06T12:56:11.786006Z",
     "iopub.status.busy": "2024-09-06T12:56:11.785581Z",
     "iopub.status.idle": "2024-09-06T12:56:25.590654Z",
     "shell.execute_reply": "2024-09-06T12:56:25.589848Z"
    },
    "pycharm": {
     "is_executing": true
    }
   },
   "outputs": [
    {
     "name": "stdout",
     "output_type": "stream",
     "text": [
      "\u001B[1m=============================================================================================\u001B[0m\n",
      "                               \u001B[1m RUN STARTED! \u001B[0m \n",
      "\u001B[1m=============================================================================================\u001B[0m\n",
      "\u001B[1mValidating your input file...!\u001B[0m\n",
      "\u001B[1mInput file passed validation!\u001B[0m\n",
      "\u001B[1m ------------------- \u001B[0m\n",
      "\u001B[1m Here is your input: \u001B[0m\n",
      "\u001B[1m ------------------- \u001B[0m\n",
      "\u001B[1mGENE_NAME = \u001B[0m AzG\n",
      "\u001B[1mSequence (red: independent mutation positions; other colors: linked mutation positions) = \u001B[0m\n",
      "MVSVIKPEMKIKLCMRGTVNGHNFVIEGEGKGNPYEGTQILDLNVTEGAPLPFAYDILTTVF\u001B[31mQ\u001B[39mYGN\u001B[31mR\u001B[39mAFTKYPADIQDY\u001B[31mF\u001B[39mKQTFPEGYHWERSMTYEDQGICTATSNISMRGDCFFYDIRFDGVNFPPNGPVMQKKTLKWEP\u001B[31mS\u001B[39mTEKMYVRDGVLKGD\u001B[31mV\u001B[39mNMALLLEGGGHYRCD\u001B[31mF\u001B[39mKTTYKAKKDVRLPDYHFVD\u001B[31mH\u001B[39mRIEILKHDKDYNKVKLYENAVARYSMLPSQAK\n",
      "\u001B[1mSequence Length = \u001B[0m 226\n",
      "\u001B[1mMutations (1-indexed) = \u001B[0m [{'position': 63, 'aa': ['L', 'H']}, {'position': 67, 'aa': ['K']}, {'position': 80, 'aa': ['W', 'L']}, {'position': 143, 'aa': ['F', 'I']}, {'position': 158, 'aa': ['A', 'I', 'N']}, {'position': 174, 'aa': ['A', 'I']}, {'position': 194, 'aa': ['F', 'Y']}]\n",
      "\u001B[1mLinked mutations (1-indexed) = \u001B[0m []\n",
      "\u001B[1mALLOWED_CUT_POSITIONS=\u001B[0m[]\n",
      "\u001B[1mDNA_5_PRIME=\u001B[0mAATTTGGTCTCTCC\n",
      "\u001B[1mDNA_3_PRIME=\u001B[0mTAATAGAGACCTTTAA\n",
      "\u001B[1mFIX_DNA_SEQUENCE=\u001B[0mATGGTTAGCGTTATTAAACCGGAAATGAAAATCAAGCTGTGTATGCGTGGCACCGTTAATGGTCATAATTTTGTGATTGAAGGTGAAGGCAAAGGCAATCCGTATGAAGGCACCCAGATTCTGGATCTGAATGTTACCGAAGGTGCACCGCTGCCGTTTGCATATGATATTCTGACCACCGTTTTTCAGTATGGCAATCGTGCATTTACCAAATATCCGGCAGATATCCAGGATTACTTCAAACAGACCTTTCCGGAAGGTTATCATTGGGAACGTAGCATGACCTATGAAGATCAGGGTATTTGTACCGCAACCAGCAATATTAGCATGCGTGGTGATTGCTTTTTCTATGATATCCGTTTTGACGGCGTTAACTTTCCGCCTAATGGTCCGGTTATGCAGAAAAAGACCCTGAAATGGGAACCGAGCACCGAGAAAATGTATGTTCGTGATGGTGTTCTGAAAGGCGACGTTAATATGGCACTGCTGCTGGAAGGTGGTGGTCATTATCGTTGTGATTTCAAAACCACCTACAAAGCCAAAAAGGATGTTCGCCTGCCGGATTATCATTTTGTTGATCATCGTATCGAGATCCTGAAACACGATAAAGACTACAACAAAGTGAAGCTGTATGAAAATGCAGTTGCCCGTTATAGCATGCTGCCGAGCCAGGCCAAA\n",
      "\u001B[1mFUSION_SITES_USED_BY_BACKBONE=\u001B[0m('CTTG', 'TAGC', 'CCAT', 'CGCT', 'TAAT')\n",
      "\u001B[1mHOST=\u001B[0me_coli\n",
      "\u001B[1mFIDELITY_DATA_PATH=\u001B[0mC:\\Users\\GOFKV\\PycharmProjects\\proseqteleporter\\proseqteleporter\\data\\neb_fidelity_data\\FileS01_T4_01h_25C.xlsx\n",
      "\u001B[1mMUTATIONS=\u001B[0m[{'position': 63, 'aa': ['L', 'H']}, {'position': 67, 'aa': ['K']}, {'position': 80, 'aa': ['W', 'L']}, {'position': 143, 'aa': ['F', 'I']}, {'position': 158, 'aa': ['A', 'I', 'N']}, {'position': 174, 'aa': ['A', 'I']}, {'position': 194, 'aa': ['F', 'Y']}]\n",
      "\u001B[1mLINKED_MUTATIONS=\u001B[0m[]\n",
      "\u001B[1mCUT_NUMBER_RANGE=\u001B[0m(4, 5)\n",
      "\u001B[1mMIN_AA_LENGTH=\u001B[0m6\n",
      "\u001B[1mMAX_COST=\u001B[0m50000.0\n",
      "\u001B[1mCOST_PER_BP=\u001B[0m0.1\n",
      "\u001B[1mMIN_DNA_LENGTH=\u001B[0m200\n",
      "\u001B[1mMAX_DNA_LENGTH=\u001B[0m10000\n",
      "\u001B[1mMAX_LENGTH_UNEVENNESS=\u001B[0m5.0\n",
      "\u001B[1mMIN_LIGATION_FIDELITY=\u001B[0m0.99\n",
      "\u001B[1mSATISFACTION_LIGATION_FIDELITY=\u001B[0m0.99\n",
      "\u001B[1mMODULE_PLATE_FORMAT=\u001B[0m96\n",
      "\u001B[1mENZYME=\u001B[0mBsaI\n",
      "[{'position': 63, 'aa': ['L', 'H']}, {'position': 67, 'aa': ['K']}, {'position': 80, 'aa': ['W', 'L']}, {'position': 143, 'aa': ['F', 'I']}, {'position': 158, 'aa': ['A', 'I', 'N']}, {'position': 174, 'aa': ['A', 'I']}, {'position': 194, 'aa': ['F', 'Y']}]\n",
      "\u001B[1m=============================================================================================\u001B[0m\n",
      "                               \u001B[1m IDENTIFYING OPTIMAL PARTITIONS \u001B[0m \n",
      "\u001B[1m=============================================================================================\u001B[0m\n"
     ]
    }
   ],
   "source": [
    "input_table_path = os.path.join(SCRIPT_DIR, \"input_ecoli2\",\"input_AzR.xlsx\")\n",
    "input_table_path = os.path.join(SCRIPT_DIR, \"input_ecoli2\",\"input_AzG.xlsx\")\n",
    "\n",
    "ready_to_click_modules_paths = generate_and_optimize_ready_to_click_modules(input_table_path)"
   ]
  },
  {
   "cell_type": "markdown",
   "metadata": {
    "collapsed": false
   },
   "source": [
    "## ASSEMBLE MODULES\n",
    "If encounter error msg: Can't find workbook in OLE2 compound document, remove excel sensitivity label and try again."
   ]
  },
  {
   "cell_type": "code",
   "execution_count": null,
   "metadata": {
    "collapsed": false,
    "execution": {
     "iopub.execute_input": "2024-09-06T12:56:25.593476Z",
     "iopub.status.busy": "2024-09-06T12:56:25.593044Z",
     "iopub.status.idle": "2024-09-06T12:56:27.508597Z",
     "shell.execute_reply": "2024-09-06T12:56:27.507835Z"
    },
    "pycharm": {
     "is_executing": true
    }
   },
   "outputs": [],
   "source": [
    "assemble_modules_and_generate_robot_instruction(input_table_path, ready_to_click_modules_paths[0])"
   ]
  }
 ],
 "metadata": {
  "kernelspec": {
   "display_name": "Python 3 (ipykernel)",
   "language": "python",
   "name": "python3"
  },
  "language_info": {
   "codemirror_mode": {
    "name": "ipython",
    "version": 3
   },
   "file_extension": ".py",
   "mimetype": "text/x-python",
   "name": "python",
   "nbconvert_exporter": "python",
   "pygments_lexer": "ipython3",
   "version": "3.10.12"
  }
 },
 "nbformat": 4,
 "nbformat_minor": 4
}
