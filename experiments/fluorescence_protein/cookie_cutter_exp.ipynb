{
 "cells": [
  {
   "cell_type": "markdown",
   "metadata": {
    "collapsed": false,
    "jupyter": {
     "outputs_hidden": false
    }
   },
   "source": [
    "## IMPORT REQUIRED RESOURCES\n",
    "--------------"
   ]
  },
  {
   "cell_type": "code",
   "execution_count": null,
   "outputs": [],
   "source": [
    "\"\"\"Imports\"\"\"\n",
    "import sys\n",
    "import os\n",
    "from os.path import join\n",
    "\n",
    "\n",
    "SCRIPT_DIR = os.path.dirname(os.path.abspath('__file__'))\n",
    "sys.path.append(os.path.dirname(SCRIPT_DIR))\n",
    "print(f'Here is: {SCRIPT_DIR}')\n",
    "\n",
    "\n",
    "from proseqteleporter.partitioner.compute_best_partitions import compute_best_partitions, get_lowest_cost_from_best_partitions, show_input_seq_info, prepare_compute_best_partitions_params\n",
    "from proseqteleporter.utils.utils import print_available_resources\n",
    "from proseqteleporter.post_partition_processor.post_partition_processor import post_partition_processing\n",
    "from proseqteleporter.partition_property_finder.cost_finder import find_exact_cost\n",
    "from proseqteleporter.utils.load_input_params import validate_input_params\n"
   ],
   "metadata": {
    "collapsed": false
   }
  },
  {
   "cell_type": "markdown",
   "metadata": {
    "collapsed": false,
    "jupyter": {
     "outputs_hidden": false
    }
   },
   "source": [
    "## AVAILABLE HOSTS & ASSEMBLY CONDITIONS\n",
    "--------------"
   ]
  },
  {
   "cell_type": "code",
   "execution_count": null,
   "metadata": {
    "collapsed": false,
    "jupyter": {
     "outputs_hidden": false
    }
   },
   "outputs": [],
   "source": [
    "print_available_resources()"
   ]
  },
  {
   "cell_type": "markdown",
   "metadata": {
    "collapsed": false,
    "jupyter": {
     "outputs_hidden": false
    }
   },
   "source": [
    "## RUN & SHOW RESULTS"
   ]
  },
  {
   "cell_type": "code",
   "execution_count": null,
   "outputs": [],
   "source": [
    "print('\\033[1m==================================================================================================\\033[0m')\n",
    "print('                                    \\033[1m RUN STARTED! \\033[0m ')\n",
    "print('\\033[1m==================================================================================================\\033[0m')\n",
    "\n",
    "\n",
    "input_file_path=join(SCRIPT_DIR, 'input_ecoli2', 'azami_red10_blue_input_corr2_5f_lim_cut.txt')\n",
    "validate_input_params(input_file_path)\n",
    "show_input_seq_info(input_file_path)\n",
    "params = prepare_compute_best_partitions_params(input_file_path)"
   ],
   "metadata": {
    "collapsed": false
   }
  },
  {
   "cell_type": "code",
   "execution_count": null,
   "outputs": [],
   "source": [
    "best_partitions_by_cut_number = compute_best_partitions(**params)\n",
    "\n",
    "lowest_cost_partition = get_lowest_cost_from_best_partitions(\n",
    "    best_partitions_by_cut_number=best_partitions_by_cut_number, supress_output=False\n",
    ")"
   ],
   "metadata": {
    "collapsed": false
   }
  },
  {
   "cell_type": "code",
   "execution_count": null,
   "outputs": [],
   "source": [
    "mutant_aa_fragments, mutant_dna_fragments = post_partition_processing(\n",
    "    input_file_path=input_file_path,\n",
    "    # best_partitions_by_cut_number_file=join(params['output_dir'],'results','best_partitions_by_cut_number_dist_mut_1.json'),\n",
    "    best_partitions_by_cut_number_file=r'C:\\Users\\GOFKV\\PycharmProjects\\proseqteleporter\\experiments\\fluorescence_protein\\input_ecoli\\azami_red10_blue_2024-06-16output\\best_partitions_by_cut_number_dist_mut_1.json',\n",
    "    cut_number=4,\n",
    "    check_seq_complexity_idt=False,\n",
    "    product_type=\"Gblock\",\n",
    "    validate_sample_number=10,\n",
    "    validate_coding_start=None,\n",
    "    mtp_format=96,\n",
    "    min_dna_frag_length=300\n",
    ")"
   ],
   "metadata": {
    "collapsed": false
   }
  },
  {
   "cell_type": "code",
   "execution_count": null,
   "outputs": [],
   "source": [
    "# Make and export IDT ordering spreadsheet\n",
    "exact_cost = find_exact_cost(mutant_dna_fragments=mutant_dna_fragments, price_per_base=0.06)"
   ],
   "metadata": {
    "collapsed": false
   }
  },
  {
   "cell_type": "code",
   "execution_count": null,
   "outputs": [],
   "source": [
    "print(f'\\n\\033[1m=================================================================================================='\n",
    "      f'\\n                                     RUN COMPLETED!                                                      '\n",
    "      f'\\n             Total elapsed time: {best_partitions_by_cut_number[\"total_elapsed_time\"]} seconds'\n",
    "      f'\\n             Exact cost of best partition: {exact_cost} €'\n",
    "      f'\\n==================================================================================================\\033[0m')\n"
   ],
   "metadata": {
    "collapsed": false
   }
  }
 ],
 "metadata": {
  "kernelspec": {
   "display_name": "Python 3 (ipykernel)",
   "language": "python",
   "name": "python3"
  },
  "language_info": {
   "codemirror_mode": {
    "name": "ipython",
    "version": 3
   },
   "file_extension": ".py",
   "mimetype": "text/x-python",
   "name": "python",
   "nbconvert_exporter": "python",
   "pygments_lexer": "ipython3",
   "version": "3.11.1"
  }
 },
 "nbformat": 4,
 "nbformat_minor": 4
}
