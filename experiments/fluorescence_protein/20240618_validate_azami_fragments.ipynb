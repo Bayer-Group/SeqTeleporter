{
 "cells": [
  {
   "cell_type": "code",
   "execution_count": 76,
   "outputs": [
    {
     "name": "stdout",
     "output_type": "stream",
     "text": [
      "Here is: C:\\Users\\GOFKV\\PycharmProjects\\proseqteleporter\\experiments\\fluorescence_protein\n"
     ]
    }
   ],
   "source": [
    "import sys\n",
    "import os\n",
    "from os.path import join\n",
    "\n",
    "SCRIPT_DIR = os.path.dirname(os.path.abspath('__file__'))\n",
    "sys.path.append(os.path.dirname(SCRIPT_DIR))\n",
    "print(f'Here is: {SCRIPT_DIR}')\n",
    "\n",
    "from proseqteleporter.fragment_assembler.plate_mapper import make_and_validate_plate_mapping_sheet, make_desired_variant_list_from_a_list_of_mutations\n",
    "from proseqteleporter.utils.load_input_params import load_input_params\n",
    "from proseqteleporter.post_partition_processor.post_partition_processor import validate_partitioned_fragments_by_insilico_assembly\n",
    "from proseqteleporter.post_partition_processor.post_partition_processor import import_mutant_dna_fragments_from_module_sheet\n",
    "\n",
    "\n",
    "INPUT_DICT = {\n",
    "    'ecoli_AzamiGreen':{\n",
    "        'abbreviation':'eco_AzG',\n",
    "        'input_file':join(SCRIPT_DIR, 'input_ecoli2', 'azami_green_blue_input_corr2_5f.txt'),\n",
    "        'results_dir':join(SCRIPT_DIR, 'input_ecoli2','azami_green_blue_2024-06-16output','results'),\n",
    "        'incl_wt_MUTATIONS_1dx':'all'\n",
    "    },\n",
    "    'ecoli_AzamiRed10':{\n",
    "        'abbreviation':'eco_AzR',\n",
    "        'input_file':join(SCRIPT_DIR, 'input_ecoli2', 'azami_red10_blue_input_corr2_5f_lim_cut.txt'),\n",
    "        'results_dir':join(SCRIPT_DIR, 'input_ecoli2','azami_red10_blue_input_corr2_5f_lim_cut_2024-06-19output','results'),\n",
    "        'incl_wt_MUTATIONS_1dx':'all'\n",
    "    },\n",
    "    'ecoli_TagRFP':{\n",
    "        'abbreviation':'eco_TagR',\n",
    "        'input_file':join(SCRIPT_DIR, 'input_ecoli2', 'tag_rfp_blue_input_corr2_5f.txt'),\n",
    "        'results_dir':join(SCRIPT_DIR, 'input_ecoli2','tag_rfp_blue_2024-06-16output','results'),\n",
    "        'incl_wt_MUTATIONS_1dx':[{'position': 67, 'aa': ['L', 'H']},{'position': 71, 'aa': ['K']},{'position': 84, 'aa': ['W', 'L']},{'position': 147, 'aa': ['F', 'I']},{'position': 162, 'aa': ['A', 'I', 'N']},{'position': 178, 'aa': ['A', 'I']},{'position': 201, 'aa': ['F', 'Y']}]\n",
    "    }\n",
    "}"
   ],
   "metadata": {
    "collapsed": false
   }
  },
  {
   "cell_type": "markdown",
   "source": [
    "## Set Input"
   ],
   "metadata": {
    "collapsed": false
   }
  },
  {
   "cell_type": "code",
   "execution_count": 77,
   "outputs": [],
   "source": [
    "# sel_input = 'ecoli_AzamiGreen'\n",
    "# sel_input = 'ecoli_AzamiRed10'\n",
    "sel_input = 'ecoli_TagRFP'"
   ],
   "metadata": {
    "collapsed": false
   }
  },
  {
   "cell_type": "code",
   "execution_count": 78,
   "outputs": [
    {
     "name": "stdout",
     "output_type": "stream",
     "text": [
      "Load ALLOWED_CUT_POSITIONS=[]\n",
      "Load DNA_5_PRIME=AATTTGGTCTCTCC\n",
      "Load DNA_3_PRIME=TAATAGAGACCTTTAA\n",
      "Load FIX_DNA_SEQUENCE=ATGGTTAGCAAAGGTGAAGAACTGATCAAAGAAAACATGCATATGAAACTGTACATGGAAGGCACCGTGAATAACCATCACTTTAAATGTACCAGCGAAGGTGAAGGTAAACCGTATGAAGGCACCCAGACCATGCGTATTAAAGTTGTTGAAGGTGGTCCGCTGCCGTTTGCATTTGATATTCTGGCAACCAGCTTTATGTATGGTAGCCGTACCTTTATCAATCATACCCAGGGTATTCCGGATTTCTTTAAACAGAGCTTTCCGGAAGGTTTTACCTGGGAACGTGTTACCACCTATGAAGATGGTGGTGTTCTGACCGCAACACAGGATACCAGTCTGCAGGATGGTTGTCTGATTTATAATGTGAAAATTCGCGGTGTGAACTTTCCGAGCAATGGTCCGGTTATGCAGAAAAAGACCTTAGGTTGGGAAGCAAATACCGAAATGCTGTATCCGGCAGATGGTGGCCTGGAAGGTCGTAGCGATATGGCACTGAAACTGGTTGGTGGTGGTCATCTGATTTGTAACTTTAAAACCACCTACCGTAGCAAGAAACCTGCCAAAAATCTGAAAATGCCTGGCGTGTATTATGTGGATCATCGTCTGGAACGCATTAAAGAAGCAGATAAAGAAACCTATGTGGAACAGCATGAAGTTGCAGTTGCACGTTATTGTGATCTGCCGAGCAAACTGGGTCATAAACTGAAT\n",
      "Load FUSION_SITES_USED_BY_BACKBONE=('CTTG', 'TAGC', 'CCAT', 'CGCT', 'TAAT')\n",
      "Load HOST=e_coli\n",
      "Load FIDELITY_DATA_PATH=C:\\Users\\GOFKV\\PycharmProjects\\proseqteleporter\\proseqteleporter\\data\\neb_fidelity_data\\FileS01_T4_01h_25C.xlsx\n",
      "Load SEQUENCE=MVSKGEELIKENMHMKLYMEGTVNNHHFKCTSEGEGKPYEGTQTMRIKVVEGGPLPFAFDILATSFMYGSRTFINHTQGIPDFFKQSFPEGFTWERVTTYEDGGVLTATQDTSLQDGCLIYNVKIRGVNFPSNGPVMQKKTLGWEANTEMLYPADGGLEGRSDMALKLVGGGHLICNFKTTYRSKKPAKNLKMPGVYYVDHRLERIKEADKETYVEQHEVAVARYCDLPSKLGHKLN\n",
      "Load MUTATIONS=[{'position': 24, 'aa': ['D']}, {'position': 67, 'aa': ['L', 'H']}, {'position': 71, 'aa': ['K']}, {'position': 84, 'aa': ['W', 'L']}, {'position': 131, 'aa': ['T']}, {'position': 147, 'aa': ['F', 'I']}, {'position': 150, 'aa': ['T']}, {'position': 162, 'aa': ['A', 'I', 'N']}, {'position': 172, 'aa': ['S']}, {'position': 176, 'aa': ['A']}, {'position': 178, 'aa': ['A', 'I']}, {'position': 201, 'aa': ['F', 'Y']}, {'position': 210, 'aa': ['N']}, {'position': 211, 'aa': ['N']}]\n",
      "Load LINKED_MUTATIONS=None\n",
      "Load CUT_NUMBER_RANGE=(4, 5)\n",
      "Load MIN_FRAGMENT_LENGTH=6\n",
      "Load MAX_COST=50000.0\n",
      "Load MAX_LENGTH_UNEVENNESS=5.0\n",
      "Load MIN_LIGATION_FIDELITY=0.99\n",
      "Load SATISFACTION_LIGATION_FIDELITY=0.99\n"
     ]
    }
   ],
   "source": [
    "input_file_path=INPUT_DICT[sel_input]['input_file']\n",
    "\n",
    "module_sheet_path=join(INPUT_DICT[sel_input]['results_dir'],'order_modules.xlsx')\n",
    "\n",
    "input_params = load_input_params(\n",
    "    input_file_path=input_file_path,\n",
    "    supress_output=False)\n",
    "\n",
    "s, mutations_1idx, linked_mutations_1idx = input_params['s'], input_params['mutations_1idx'], input_params['linked_mutations_1idx']\n"
   ],
   "metadata": {
    "collapsed": false
   }
  },
  {
   "cell_type": "code",
   "execution_count": 79,
   "outputs": [
    {
     "name": "stdout",
     "output_type": "stream",
     "text": [
      "Validating mutant dna fragments by in-silico assembly...\n",
      "Random combi in-silico assembly: N24D_M67H_P131T_R71K_F84L_N147I_M150T_G172S_C176A_F178I_H201Y_D210N_K211N, \n",
      "  Validation Passed: True\n",
      "Random combi in-silico assembly: N24D_M67L_P131T_N147F_M150T_S162N_G172S_C176A_F178I_H201F_D210N_K211N, \n",
      "  Validation Passed: True\n",
      "Random combi in-silico assembly: N24D_P131T_R71K_M150T_S162N_G172S_C176A_F178I_H201F_D210N_K211N, \n",
      "  Validation Passed: True\n",
      "Random combi in-silico assembly: N24D_P131T_R71K_F84L_M150T_G172S_C176A_D210N_K211N, \n",
      "  Validation Passed: True\n",
      "Random combi in-silico assembly: N24D_M67L_P131T_F84L_N147I_M150T_G172S_C176A_D210N_K211N, \n",
      "  Validation Passed: True\n",
      "Random combi in-silico assembly: N24D_M67H_P131T_F84W_N147F_M150T_G172S_C176A_H201Y_D210N_K211N, \n",
      "  Validation Passed: True\n",
      "Random combi in-silico assembly: N24D_M67L_P131T_F84L_M150T_G172S_C176A_F178I_H201Y_D210N_K211N, \n",
      "  Validation Passed: True\n",
      "Random combi in-silico assembly: N24D_M67L_P131T_M150T_G172S_C176A_F178A_D210N_K211N, \n",
      "  Validation Passed: True\n",
      "Random combi in-silico assembly: N24D_P131T_R71K_F84L_M150T_G172S_C176A_F178I_H201F_D210N_K211N, \n",
      "  Validation Passed: True\n",
      "Random combi in-silico assembly: N24D_M67L_P131T_R71K_N147F_M150T_G172S_C176A_H201F_D210N_K211N, \n",
      "  Validation Passed: True\n",
      "Random combi in-silico assembly: N24D_M67H_P131T_R71K_F84L_N147F_M150T_G172S_C176A_F178A_D210N_K211N, \n",
      "  Validation Passed: True\n",
      "Random combi in-silico assembly: N24D_M67H_P131T_R71K_F84W_M150T_S162A_G172S_C176A_F178I_H201F_D210N_K211N, \n",
      "  Validation Passed: True\n",
      "Random combi in-silico assembly: N24D_P131T_R71K_F84L_N147F_M150T_S162I_G172S_C176A_F178I_H201F_D210N_K211N, \n",
      "  Validation Passed: True\n",
      "Random combi in-silico assembly: N24D_M67H_P131T_N147I_M150T_S162I_G172S_C176A_D210N_K211N, \n",
      "  Validation Passed: True\n",
      "Random combi in-silico assembly: N24D_P131T_R71K_F84W_N147F_M150T_S162I_G172S_C176A_H201F_D210N_K211N, \n",
      "  Validation Passed: True\n",
      "Random combi in-silico assembly: N24D_M67H_P131T_R71K_F84W_N147F_M150T_S162A_G172S_C176A_F178I_H201Y_D210N_K211N, \n",
      "  Validation Passed: True\n",
      "Random combi in-silico assembly: N24D_M67H_P131T_R71K_F84W_M150T_S162I_G172S_C176A_F178I_H201F_D210N_K211N, \n",
      "  Validation Passed: True\n",
      "Random combi in-silico assembly: N24D_P131T_R71K_F84W_N147F_M150T_S162A_G172S_C176A_H201F_D210N_K211N, \n",
      "  Validation Passed: True\n",
      "Random combi in-silico assembly: N24D_P131T_R71K_N147I_M150T_G172S_C176A_F178I_H201F_D210N_K211N, \n",
      "  Validation Passed: True\n",
      "Random combi in-silico assembly: N24D_P131T_F84W_M150T_S162I_G172S_C176A_F178I_H201Y_D210N_K211N, \n",
      "  Validation Passed: True\n",
      "Random combi in-silico assembly: N24D_P131T_F84W_M150T_S162N_G172S_C176A_D210N_K211N, \n",
      "  Validation Passed: True\n",
      "Random combi in-silico assembly: N24D_M67L_P131T_R71K_F84W_M150T_G172S_C176A_H201Y_D210N_K211N, \n",
      "  Validation Passed: True\n",
      "Random combi in-silico assembly: N24D_M67L_P131T_F84W_M150T_S162A_G172S_C176A_F178A_D210N_K211N, \n",
      "  Validation Passed: True\n",
      "Random combi in-silico assembly: N24D_M67H_P131T_R71K_N147F_M150T_S162A_G172S_C176A_H201F_D210N_K211N, \n",
      "  Validation Passed: True\n",
      "Random combi in-silico assembly: N24D_M67L_P131T_R71K_M150T_S162I_G172S_C176A_F178I_H201F_D210N_K211N, \n",
      "  Validation Passed: True\n",
      "Random combi in-silico assembly: N24D_P131T_R71K_N147F_M150T_S162A_G172S_C176A_H201F_D210N_K211N, \n",
      "  Validation Passed: True\n",
      "Random combi in-silico assembly: N24D_M67L_P131T_R71K_N147I_M150T_S162A_G172S_C176A_F178I_H201Y_D210N_K211N, \n",
      "  Validation Passed: True\n",
      "Random combi in-silico assembly: N24D_P131T_N147I_M150T_S162A_G172S_C176A_D210N_K211N, \n",
      "  Validation Passed: True\n",
      "Random combi in-silico assembly: N24D_M67H_P131T_R71K_M150T_S162N_G172S_C176A_F178A_H201Y_D210N_K211N, \n",
      "  Validation Passed: True\n",
      "Random combi in-silico assembly: N24D_P131T_R71K_F84L_M150T_G172S_C176A_H201Y_D210N_K211N, \n",
      "  Validation Passed: True\n",
      "Random combi in-silico assembly: N24D_M67H_P131T_R71K_N147I_M150T_S162I_G172S_C176A_F178I_D210N_K211N, \n",
      "  Validation Passed: True\n",
      "Random combi in-silico assembly: N24D_P131T_F84L_N147I_M150T_S162N_G172S_C176A_F178A_H201F_D210N_K211N, \n",
      "  Validation Passed: True\n",
      "Random combi in-silico assembly: N24D_M67L_P131T_F84W_M150T_S162I_G172S_C176A_H201Y_D210N_K211N, \n",
      "  Validation Passed: True\n",
      "Random combi in-silico assembly: N24D_P131T_R71K_F84L_M150T_S162N_G172S_C176A_F178I_H201Y_D210N_K211N, \n",
      "  Validation Passed: True\n",
      "Random combi in-silico assembly: N24D_M67H_P131T_N147F_M150T_S162I_G172S_C176A_F178I_H201Y_D210N_K211N, \n",
      "  Validation Passed: True\n",
      "Random combi in-silico assembly: N24D_P131T_F84L_N147F_M150T_G172S_C176A_F178A_H201Y_D210N_K211N, \n",
      "  Validation Passed: True\n",
      "Random combi in-silico assembly: N24D_P131T_M150T_S162I_G172S_C176A_F178I_H201F_D210N_K211N, \n",
      "  Validation Passed: True\n",
      "Random combi in-silico assembly: N24D_M67L_P131T_R71K_F84W_M150T_G172S_C176A_F178A_H201Y_D210N_K211N, \n",
      "  Validation Passed: True\n",
      "Random combi in-silico assembly: N24D_M67H_P131T_N147F_M150T_G172S_C176A_H201Y_D210N_K211N, \n",
      "  Validation Passed: True\n",
      "Random combi in-silico assembly: N24D_M67L_P131T_R71K_N147I_M150T_G172S_C176A_F178I_H201Y_D210N_K211N, \n",
      "  Validation Passed: True\n",
      "Random combi in-silico assembly: N24D_P131T_F84W_M150T_G172S_C176A_F178I_H201Y_D210N_K211N, \n",
      "  Validation Passed: True\n",
      "Random combi in-silico assembly: N24D_M67H_P131T_F84L_N147F_M150T_S162N_G172S_C176A_F178A_D210N_K211N, \n",
      "  Validation Passed: True\n",
      "Random combi in-silico assembly: N24D_M67H_P131T_R71K_N147I_M150T_S162I_G172S_C176A_D210N_K211N, \n",
      "  Validation Passed: True\n",
      "Random combi in-silico assembly: N24D_M67L_P131T_R71K_F84W_N147F_M150T_S162A_G172S_C176A_H201F_D210N_K211N, \n",
      "  Validation Passed: True\n",
      "Random combi in-silico assembly: N24D_M67L_P131T_F84W_N147I_M150T_S162N_G172S_C176A_F178I_H201Y_D210N_K211N, \n",
      "  Validation Passed: True\n",
      "Random combi in-silico assembly: N24D_P131T_F84L_N147F_M150T_S162N_G172S_C176A_H201Y_D210N_K211N, \n",
      "  Validation Passed: True\n",
      "Random combi in-silico assembly: N24D_M67L_P131T_M150T_S162N_G172S_C176A_H201Y_D210N_K211N, \n",
      "  Validation Passed: True\n",
      "Random combi in-silico assembly: N24D_P131T_F84L_M150T_S162A_G172S_C176A_F178A_H201Y_D210N_K211N, \n",
      "  Validation Passed: True\n",
      "Random combi in-silico assembly: N24D_M67H_P131T_N147I_M150T_S162I_G172S_C176A_D210N_K211N, \n",
      "  Validation Passed: True\n",
      "Random combi in-silico assembly: N24D_P131T_R71K_M150T_S162A_G172S_C176A_H201F_D210N_K211N, \n",
      "  Validation Passed: True\n"
     ]
    },
    {
     "data": {
      "text/plain": "True"
     },
     "execution_count": 79,
     "metadata": {},
     "output_type": "execute_result"
    }
   ],
   "source": [
    "imported_mutant_dna_fragments = import_mutant_dna_fragments_from_module_sheet(\n",
    "    module_sheet_path=module_sheet_path\n",
    ")\n",
    "\n",
    "validate_partitioned_fragments_by_insilico_assembly(\n",
    "    mutant_dna_fragments=imported_mutant_dna_fragments,\n",
    "    sample_number=50,\n",
    "    wt_seq=input_params['s'],\n",
    "    enzyme='BsaI',\n",
    "    five_prime_dna=input_params['five_prime_dna'],\n",
    "    three_prime_dna=input_params['three_prime_dna'],\n",
    "    coding_start=None\n",
    ")"
   ],
   "metadata": {
    "collapsed": false
   }
  },
  {
   "cell_type": "code",
   "execution_count": 80,
   "outputs": [
    {
     "name": "stdout",
     "output_type": "stream",
     "text": [
      "Number of teleportable variants: 1944\n"
     ]
    }
   ],
   "source": [
    "## if encounter error msg: Can't find workbook in OLE2 compound document, remove excel sensitivity label and try again.\n",
    "## ref: https://stackoverflow.com/questions/45725645/pandas-unable-to-open-this-excel-file\n",
    "\n",
    "if INPUT_DICT[sel_input]['incl_wt_MUTATIONS_1dx'] == 'all':\n",
    "    positions_include_wt_aa_1idx = [mut['position'] for mut in mutations_1idx]\n",
    "else:\n",
    "    positions_include_wt_aa_1idx = [mut['position'] for mut in INPUT_DICT[sel_input]['incl_wt_MUTATIONS_1dx']]\n",
    "\n",
    "probable_variants = make_desired_variant_list_from_a_list_of_mutations(\n",
    "    mutations_1idx=mutations_1idx,\n",
    "    s=input_params['s'],\n",
    "    positions_include_wt_aa=positions_include_wt_aa_1idx\n",
    ")\n",
    "\n",
    "print(f'Number of teleportable variants: {len(probable_variants)}')\n"
   ],
   "metadata": {
    "collapsed": false
   }
  },
  {
   "cell_type": "code",
   "execution_count": 81,
   "outputs": [
    {
     "name": "stdout",
     "output_type": "stream",
     "text": [
      "\n",
      "The plate mapping sheet is validated!\n",
      "\n",
      "Plate mapping sheet is exported to:\n",
      " C:\\Users\\GOFKV\\PycharmProjects\\proseqteleporter\\experiments\\fluorescence_protein\\input_ecoli2\\tag_rfp_blue_2024-06-16output\\results\\2024-06-24_source_destination_plate_map.xlsx\n",
      "\n",
      "Preview of mapping sheet: \n",
      "   Source Plate   Target Plate Source Well Target Well                 Volume  \\\n",
      "0       plate1  target_plate1          A2          A1  PLEASE FILL IN VOLUME   \n",
      "1       plate1  target_plate1          A8          A1  PLEASE FILL IN VOLUME   \n",
      "2       plate1  target_plate1          B3          A1  PLEASE FILL IN VOLUME   \n",
      "\n",
      "                      Module Module Plasmid Number  \\\n",
      "0             1-68_N24D_M67L              default1   \n",
      "1     69-132_P131T_R71K_F84W              default1   \n",
      "2  133-165_N147F_M150T_S162A              default1   \n",
      "\n",
      "                                 Target Variant Name  \n",
      "0  D210N_N24D_C176A_F84W_K211N_R71K_P131T_M67L_M1...  \n",
      "1  D210N_N24D_C176A_F84W_K211N_R71K_P131T_M67L_M1...  \n",
      "2  D210N_N24D_C176A_F84W_K211N_R71K_P131T_M67L_M1...  \n"
     ]
    }
   ],
   "source": [
    "\n",
    "make_and_validate_plate_mapping_sheet(\n",
    "    desired_variant_muts_list=probable_variants,\n",
    "    desired_variant_names=None,\n",
    "    fragment_sheet_path=module_sheet_path,\n",
    "    plate_format=96,\n",
    "    start_plasmid_id=None,\n",
    "    output_dir=os.path.dirname(module_sheet_path)\n",
    ")\n"
   ],
   "metadata": {
    "collapsed": false
   }
  }
 ],
 "metadata": {
  "kernelspec": {
   "display_name": "Python 3",
   "language": "python",
   "name": "python3"
  },
  "language_info": {
   "codemirror_mode": {
    "name": "ipython",
    "version": 2
   },
   "file_extension": ".py",
   "mimetype": "text/x-python",
   "name": "python",
   "nbconvert_exporter": "python",
   "pygments_lexer": "ipython2",
   "version": "2.7.6"
  }
 },
 "nbformat": 4,
 "nbformat_minor": 0
}
