{
 "cells": [
  {
   "cell_type": "code",
   "execution_count": 10,
   "metadata": {
    "collapsed": true
   },
   "outputs": [
    {
     "name": "stderr",
     "output_type": "stream",
     "text": [
      "C:\\Users\\GOFKV\\PycharmProjects\\proseqteleporter\\venv\\Lib\\site-packages\\Bio\\Seq.py:2880: BiopythonWarning: Partial codon, len(sequence) not a multiple of three. Explicitly trim the sequence or add trailing N before translation. This may become an error in future.\n",
      "  warnings.warn(\n"
     ]
    }
   ],
   "source": [
    "from Bio import SeqIO\n",
    "from Bio.SeqRecord import SeqRecord, Seq\n",
    "from os import path, listdir\n",
    "import math\n",
    "\n",
    "SCRIPT_DIR = path.dirname(path.abspath('__file__'))\n",
    "\n",
    "seqs = [\n",
    "    r\"C:\\Users\\GOFKV\\PycharmProjects\\proseqteleporter\\experiments\\fluorescence_protein\\order_dna\\2024AATESD\\AzamiGreen_406279\\AzamiGreen.fasta\",\n",
    "    r\"C:\\Users\\GOFKV\\PycharmProjects\\proseqteleporter\\experiments\\fluorescence_protein\\order_dna\\2024AATESD\\AzamiRed10_406278\\AzamiRed10.fasta\",\n",
    "    r\"C:\\Users\\GOFKV\\PycharmProjects\\proseqteleporter\\experiments\\fluorescence_protein\\order_dna\\2024AATESD\\TagBFP_MVSKGEE_406281\\TagBFP_MVSKGEE.fasta\",\n",
    "    r\"C:\\Users\\GOFKV\\PycharmProjects\\proseqteleporter\\experiments\\fluorescence_protein\\order_dna\\2024AATESD\\TagRFP_MVSKGEE_406280\\TagRFP_MVSKGEE.fasta\"\n",
    "]\n",
    "seq_records = {}\n",
    "for f in seqs:\n",
    "    with open(f) as handle:\n",
    "        for record in SeqIO.parse(handle, \"fasta\"):\n",
    "            seq_records.update({f'{record.id}_dna':record,\n",
    "                                record.id:record.seq[14:].translate(to_stop=True)})\n"
   ]
  },
  {
   "cell_type": "code",
   "execution_count": 11,
   "outputs": [
    {
     "data": {
      "text/plain": "{'AzamiGreen_dna': SeqRecord(seq=Seq('AATTTGGTCTCTCCATGGTTAGCGTTATTAAACCGGAAATGAAAATCAAGCTGT...TAA'), id='AzamiGreen', name='AzamiGreen', description='AzamiGreen', dbxrefs=[]),\n 'AzamiGreen': Seq('MVSVIKPEMKIKLCMRGTVNGHNFVIEGEGKGNPYEGTQILDLNVTEGAPLPFA...QAK'),\n 'AzamiRed10_dna': SeqRecord(seq=Seq('AATTTGGTCTCTCCATGGTTAGCGTGATCAAAGAAGAGATGAAAATCAAACTGC...TAA'), id='AzamiRed10', name='AzamiRed10', description='AzamiRed10', dbxrefs=[]),\n 'AzamiRed10': Seq('MVSVIKEEMKIKLRMEGTVNGHNFVIEGEGKGNPYEGTQTMDLKVTEGGPLPFA...QAK'),\n 'TagBFP_MVSKGEE_dna': SeqRecord(seq=Seq('AATTTGGTCTCTCCATGGTTAGCAAAGGTGAAGAACTGATCAAAGAAAACATGC...TAA'), id='TagBFP_MVSKGEE', name='TagBFP_MVSKGEE', description='TagBFP_MVSKGEE', dbxrefs=[]),\n 'TagBFP_MVSKGEE': Seq('MVSKGEELIKENMHMKLYMEGTVDNHHFKCTSEGEGKPYEGTQTMRIKVVEGGP...KLN'),\n 'TagRFP_MVSKGEE_dna': SeqRecord(seq=Seq('AATTTGGTCTCTCCATGGTTAGCAAAGGTGAAGAACTGATCAAAGAAAACATGC...TAA'), id='TagRFP_MVSKGEE', name='TagRFP_MVSKGEE', description='TagRFP_MVSKGEE', dbxrefs=[]),\n 'TagRFP_MVSKGEE': Seq('MVSKGEELIKENMHMKLYMEGTVNNHHFKCTSEGEGKPYEGTQTMRIKVVEGGP...KLN')}"
     },
     "execution_count": 11,
     "metadata": {},
     "output_type": "execute_result"
    }
   ],
   "source": [
    "seq_records"
   ],
   "metadata": {
    "collapsed": false
   }
  },
  {
   "cell_type": "code",
   "execution_count": 20,
   "outputs": [
    {
     "name": "stdout",
     "output_type": "stream",
     "text": [
      "['Q', 'R', 'F', 'S', 'V', 'F', 'H']\n",
      "7\n",
      "2592\n",
      "True\n"
     ]
    }
   ],
   "source": [
    "muts_azami_green_to_blue_0idx = [{'position': 62, 'aa': ['L', 'H']}, {'position': 66, 'aa': ['K']}, {'position': 79, 'aa': ['F','W','L']}, {'position': 142, 'aa': ['F', 'I']}, {'position': 157, 'aa': ['A', 'I','N']}, {'position': 173, 'aa': ['A', 'I']}, {'position': 193, 'aa': ['F', 'Y']}]\n",
    "muts_azami_green_to_blue_1idx = [{'position': 63, 'aa': ['L', 'H']}, {'position': 67, 'aa': ['K']}, {'position': 80, 'aa': ['F','W','L']}, {'position': 143, 'aa': ['F', 'I']}, {'position': 158, 'aa': ['A', 'I','N']}, {'position': 174, 'aa': ['A', 'I']}, {'position': 194, 'aa': ['F', 'Y']}]\n",
    "expected_wt_aas = ['Q','R','F','S','V','F','H']\n",
    "# wt_aas = [seq_records['AzamiGreen'][m['position']] for m in muts_azami_green_to_blue_0idx]\n",
    "wt_aas = [seq_records['AzamiGreen'][m['position']-1] for m in muts_azami_green_to_blue_1idx]\n",
    "print(wt_aas)\n",
    "print(len(wt_aas))\n",
    "mutant_count = math.prod([len(m['aa']) + 1 for m in muts_azami_green_to_blue_0idx])\n",
    "print(mutant_count)\n",
    "print(expected_wt_aas == wt_aas)"
   ],
   "metadata": {
    "collapsed": false
   }
  },
  {
   "cell_type": "code",
   "execution_count": 19,
   "outputs": [
    {
     "name": "stdout",
     "output_type": "stream",
     "text": [
      "['M', 'K', 'F', 'S', 'V', 'F', 'H']\n",
      "7\n",
      "2592\n",
      "True\n"
     ]
    }
   ],
   "source": [
    "muts_azami_red10_to_blue_0idx = [{'position': 62, 'aa': ['L', 'H']}, {'position': 66, 'aa': ['K']}, {'position': 79, 'aa': ['F','W','L']}, {'position': 142, 'aa': ['F', 'I']}, {'position': 157, 'aa': ['A', 'I','N']}, {'position': 173, 'aa': ['A', 'I']}, {'position': 193, 'aa': ['F', 'Y']}]\n",
    "muts_azami_red10_to_blue_1idx = [{'position': 63, 'aa': ['L', 'H']}, {'position': 67, 'aa': ['K']}, {'position': 80, 'aa': ['F','W','L']}, {'position': 143, 'aa': ['F', 'I']}, {'position': 158, 'aa': ['A', 'I','N']}, {'position': 174, 'aa': ['A', 'I']}, {'position': 194, 'aa': ['F', 'Y']}]\n",
    "expected_wt_aas = ['M','K','F','S','V','F','H']\n",
    "# wt_aas = [seq_records['AzamiRed10'][m['position']] for m in muts_azami_red10_to_blue_0idx]\n",
    "wt_aas = [seq_records['AzamiRed10'][m['position']-1] for m in muts_azami_red10_to_blue_1idx]\n",
    "print(wt_aas)\n",
    "print(len(wt_aas))\n",
    "mutant_count = math.prod([len(m['aa']) + 1 for m in muts_azami_red10_to_blue_0idx])\n",
    "print(mutant_count)\n",
    "print(expected_wt_aas == wt_aas)"
   ],
   "metadata": {
    "collapsed": false
   }
  },
  {
   "cell_type": "code",
   "execution_count": 22,
   "outputs": [
    {
     "name": "stdout",
     "output_type": "stream",
     "text": [
      "['N', 'M', 'R', 'F', 'P', 'N', 'M', 'S', 'G', 'C', 'F', 'H', 'D', 'K']\n",
      "14\n",
      "331776\n",
      "True\n"
     ]
    },
    {
     "data": {
      "text/plain": "[{'position': 24, 'aa': ['D']},\n {'position': 67, 'aa': ['L', 'H']},\n {'position': 71, 'aa': ['K']},\n {'position': 84, 'aa': ['F', 'W', 'L']},\n {'position': 131, 'aa': ['T']},\n {'position': 147, 'aa': ['F', 'I']},\n {'position': 150, 'aa': ['T']},\n {'position': 162, 'aa': ['A', 'I', 'N']},\n {'position': 172, 'aa': ['S']},\n {'position': 176, 'aa': ['A']},\n {'position': 178, 'aa': ['A', 'I']},\n {'position': 201, 'aa': ['F', 'Y']},\n {'position': 210, 'aa': ['N']},\n {'position': 211, 'aa': ['N']}]"
     },
     "execution_count": 22,
     "metadata": {},
     "output_type": "execute_result"
    }
   ],
   "source": [
    "muts_tag_rfp_to_bfp_old = [{'position': 19, 'aa': ['D']}, {'position': 62, 'aa': ['L', 'H']}, {'position': 66, 'aa': ['K']}, {'position': 79, 'aa': ['F','W','L']}, {'position': 126, 'aa': ['T']}, {'position': 142, 'aa': ['F', 'I']}, {'position': 145, 'aa': ['T']}, {'position': 157, 'aa': ['A','I','N']},{'position': 167, 'aa': ['S']}, {'position': 171, 'aa': ['A']}, {'position': 173, 'aa': ['A', 'I']}, {'position': 196, 'aa': ['F', 'Y']},{'position': 205, 'aa': ['N']},{'position': 206, 'aa': ['N']}]\n",
    "\n",
    "\n",
    "muts_tag_rfp_to_bfp_0idx = [{'position': mut['position'] + 4, 'aa': mut['aa']} for mut in muts_tag_rfp_to_bfp_old]\n",
    "muts_tag_rfp_to_bfp_1idx = [{'position': mut['position'] + 5, 'aa': mut['aa']} for mut in muts_tag_rfp_to_bfp_old]\n",
    "\n",
    "expected_wt_aas = ['N', 'M', 'R', 'F', 'P', 'N', 'M', 'S', 'G', 'C', 'F', 'H', 'D', 'K']\n",
    "# wt_aas = [seq_records['TagRFP_MVSKGEE'][m['position']] for m in muts_tag_rfp_to_bfp_0idx]\n",
    "wt_aas = [seq_records['TagRFP_MVSKGEE'][m['position']-1] for m in muts_tag_rfp_to_bfp_1idx]\n",
    "print(wt_aas)\n",
    "print(len(wt_aas))\n",
    "mutant_count = math.prod([len(m['aa']) + 1 for m in muts_tag_rfp_to_bfp_0idx])\n",
    "print(mutant_count)\n",
    "print(expected_wt_aas == wt_aas)\n",
    "muts_tag_rfp_to_bfp_1idx"
   ],
   "metadata": {
    "collapsed": false
   }
  },
  {
   "cell_type": "code",
   "execution_count": 15,
   "outputs": [
    {
     "data": {
      "text/plain": "True"
     },
     "execution_count": 15,
     "metadata": {},
     "output_type": "execute_result"
    }
   ],
   "source": [
    "input_file_SEQUENCE=\"MVSKGEELIKENMHMKLYMEGTVNNHHFKCTSEGEGKPYEGTQTMRIKVVEGGPLPFAFDILATSFMYGSRTFINHTQGIPDFFKQSFPEGFTWERVTTYEDGGVLTATQDTSLQDGCLIYNVKIRGVNFPSNGPVMQKKTLGWEANTEMLYPADGGLEGRSDMALKLVGGGHLICNFKTTYRSKKPAKNLKMPGVYYVDHRLERIKEADKETYVEQHEVAVARYCDLPSKLGHKLN\"\n",
    "\n",
    "str(seq_records['TagRFP_MVSKGEE']) == input_file_SEQUENCE"
   ],
   "metadata": {
    "collapsed": false
   }
  }
 ],
 "metadata": {
  "kernelspec": {
   "display_name": "Python 3",
   "language": "python",
   "name": "python3"
  },
  "language_info": {
   "codemirror_mode": {
    "name": "ipython",
    "version": 2
   },
   "file_extension": ".py",
   "mimetype": "text/x-python",
   "name": "python",
   "nbconvert_exporter": "python",
   "pygments_lexer": "ipython2",
   "version": "2.7.6"
  }
 },
 "nbformat": 4,
 "nbformat_minor": 0
}
