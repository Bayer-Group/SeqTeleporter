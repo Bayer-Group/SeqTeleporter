{
 "cells": [
  {
   "cell_type": "markdown",
   "source": [
    "# ProseqTeleporter Demo"
   ],
   "metadata": {
    "collapsed": false
   }
  },
  {
   "cell_type": "markdown",
   "source": [
    "## Setup environment\n",
    "\n",
    "Compatible python version: 3.9, 3.10, 3.11. If this is your first time running the script, do this in the terminal.\n",
    "1. ```pip install --upgrade pip```\n",
    "2. ```pip install -r requirements-dev.txt```\n",
    "\n",
    "## INSTRUCTIONS\n",
    "--------------\n",
    "1. Download the file `input_template.xlsx` in the folder `demo` to your own computer and rename it as `input.xlsx`.\n",
    "2. Open `input.xlsx`, in the tab `input_parameters`, replace the default amino acid sequence with your amino acid sequence, and then adjust the other parameters to your need. In the tab `input_mutations`, replace the default mutations with your mutations. In the tab `desired_variants`, replace the default variants with your desired variants.\n",
    "3. Save `input.xlsx`, and then upload the `input.xlsx` back to the folder `demo` on Science@Scale.\n",
    "4. Double click to open the python notebook `proseqTeleporter_demo.ipynb`, click ⏩ button to refresh and run the python notebook.\n",
    "5. Scroll down to the python notebook to view the Run status and wait for the Run to complete. Depending on your sequence and your parameters, it might take a while to run. When the Run is completed, you will see \"RUN COMPLETED!\" at the very bottom of the python notebook.\n",
    "6. When the Run is complete, go to `demo/input_[date]output/results` to see your results."
   ],
   "metadata": {
    "collapsed": false
   }
  },
  {
   "cell_type": "markdown",
   "metadata": {
    "collapsed": false,
    "jupyter": {
     "outputs_hidden": false
    }
   },
   "source": [
    "## CONFIGURATION\n",
    "--------------"
   ]
  },
  {
   "cell_type": "code",
   "execution_count": 7,
   "outputs": [
    {
     "name": "stdout",
     "output_type": "stream",
     "text": [
      "Here is: C:\\Users\\GOFKV\\PycharmProjects\\seqTeleporter\\experiments\\fluorescence_protein\n"
     ]
    }
   ],
   "source": [
    "import sys\n",
    "import os.path\n",
    "\n",
    "SCRIPT_DIR = os.path.dirname(os.path.abspath('__file__'))\n",
    "sys.path.append(os.path.dirname(SCRIPT_DIR))\n",
    "\n",
    "from proseqteleporter.main_libs import assemble_modules_and_generate_robot_instruction\n",
    "from proseqteleporter.utils.utils import generate_target_variants_from_muts\n",
    "\n",
    "print(f'Here is: {SCRIPT_DIR}')"
   ],
   "metadata": {
    "collapsed": false
   }
  },
  {
   "cell_type": "code",
   "execution_count": 37,
   "outputs": [
    {
     "data": {
      "text/plain": "'CC'"
     },
     "execution_count": 37,
     "metadata": {},
     "output_type": "execute_result"
    }
   ],
   "source": [
    "from Bio.Restriction import *\n",
    "from Bio.Seq import Seq\n",
    "import re\n",
    "\n",
    "stuffer = 'A'*5\n",
    "five_dna = Seq('AATTTGGTCTCTCC')\n",
    "digested = BsaI.catalyse(five_dna + stuffer)\n",
    "if len(digested) != 2:\n",
    "    # enzyme site is not found or found too many times in 5'_dna\n",
    "    raise ValueError(f\"enzyme site is not found or found too many times in 5'dna! 5'dna sequence: {five_prime_dna}\")\n",
    "re.sub(stuffer, '', str(digested[1]))"
   ],
   "metadata": {
    "collapsed": false
   }
  },
  {
   "cell_type": "code",
   "execution_count": 8,
   "outputs": [],
   "source": [
    "# MUTATIONS=[{'position': 24, 'aa': ['D']},{'position': 67, 'aa': ['L', 'H']},{'position': 71, 'aa': ['K']},{'position': 84, 'aa': ['W', 'L']},{'position': 131, 'aa': ['T']},{'position': 147, 'aa': ['F', 'I']},{'position': 150, 'aa': ['T']},{'position': 162, 'aa': ['A', 'I', 'N']},{'position': 172, 'aa': ['S']},{'position': 176, 'aa': ['A']},{'position': 178, 'aa': ['A', 'I']},{'position': 201, 'aa': ['F', 'Y']},{'position': 210, 'aa': ['N']},{'position': 211, 'aa': ['N']}]\n",
    "# LINKED_MUTATIONS=None\n",
    "# SEQUENCE=\"MVSKGEELIKENMHMKLYMEGTVNNHHFKCTSEGEGKPYEGTQTMRIKVVEGGPLPFAFDILATSFMYGSRTFINHTQGIPDFFKQSFPEGFTWERVTTYEDGGVLTATQDTSLQDGCLIYNVKIRGVNFPSNGPVMQKKTLGWEANTEMLYPADGGLEGRSDMALKLVGGGHLICNFKTTYRSKKPAKNLKMPGVYYVDHRLERIKEADKETYVEQHEVAVARYCDLPSKLGHKLN\"\n",
    "#\n",
    "#\n",
    "# # generate_target_variants_from_muts(mutations_1dx=MUTATIONS, linked_mutations_1dx=LINKED_MUTATIONS, wt_seq=SEQUENCE, incl_wt=False)\n",
    "#\n",
    "# for mut in MUTATIONS:\n",
    "#     print(SEQUENCE[mut['position']-1])"
   ],
   "metadata": {
    "collapsed": false
   }
  },
  {
   "cell_type": "markdown",
   "source": [
    "## ASSEMBLE MODULES\n",
    "If encounter error msg: Can't find workbook in OLE2 compound document, remove excel sensitivity label and try again."
   ],
   "metadata": {
    "collapsed": false
   }
  },
  {
   "cell_type": "code",
   "execution_count": 9,
   "outputs": [],
   "source": [
    "# input_table_path = r\"C:\\Users\\GOFKV\\PycharmProjects\\proseqteleporter\\experiments\\fluorescence_protein\\input_ecoli2\\input_AzR.xlsx\"\n",
    "# ready_to_click_modules_path = r\"C:\\Users\\GOFKV\\PycharmProjects\\proseqteleporter\\experiments\\fluorescence_protein\\input_ecoli2\\azami_red10_blue_input_corr2_5f_lim_cut_2024-06-19output\\results\\order_modules.xlsx\"\n"
   ],
   "metadata": {
    "collapsed": false
   }
  },
  {
   "cell_type": "code",
   "execution_count": 10,
   "outputs": [],
   "source": [
    "input_table_path = r\"C:\\Users\\GOFKV\\PycharmProjects\\proseqteleporter\\experiments\\fluorescence_protein\\input_ecoli2\\input_AzG.xlsx\"\n",
    "ready_to_click_modules_path = r\"C:\\Users\\GOFKV\\PycharmProjects\\seqTeleporter\\experiments\\fluorescence_protein\\input_ecoli2\\azami_green_blue_2024-06-16output\\results\\order_modules.xlsx\""
   ],
   "metadata": {
    "collapsed": false
   }
  },
  {
   "cell_type": "code",
   "execution_count": 12,
   "outputs": [
    {
     "ename": "FileNotFoundError",
     "evalue": "[Errno 2] No such file or directory: 'C:\\\\Users\\\\GOFKV\\\\PycharmProjects\\\\seqTeleporter\\\\experiments\\\\fluorescence_protein\\\\input_ecoli2\\\\azami_green_blue_2024-06-16output\\\\logs\\\\mutant_dna_fragments.json'",
     "output_type": "error",
     "traceback": [
      "\u001B[1;31m---------------------------------------------------------------------------\u001B[0m",
      "\u001B[1;31mFileNotFoundError\u001B[0m                         Traceback (most recent call last)",
      "Cell \u001B[1;32mIn[12], line 1\u001B[0m\n\u001B[1;32m----> 1\u001B[0m \u001B[43massemble_modules_and_generate_robot_instruction\u001B[49m\u001B[43m(\u001B[49m\u001B[43minput_table_path\u001B[49m\u001B[43m,\u001B[49m\u001B[43m \u001B[49m\u001B[43mready_to_click_modules_path\u001B[49m\u001B[43m)\u001B[49m\n",
      "File \u001B[1;32m~\\PycharmProjects\\seqTeleporter\\proseqteleporter\\main_libs.py:79\u001B[0m, in \u001B[0;36massemble_modules_and_generate_robot_instruction\u001B[1;34m(input_table_path, ready_to_click_modules_path)\u001B[0m\n\u001B[0;32m     76\u001B[0m     desired_variant_muts_list \u001B[38;5;241m=\u001B[39m [variant[\u001B[38;5;124m'\u001B[39m\u001B[38;5;124mmutations\u001B[39m\u001B[38;5;124m'\u001B[39m]\u001B[38;5;241m.\u001B[39msplit(\u001B[38;5;124m'\u001B[39m\u001B[38;5;124m,\u001B[39m\u001B[38;5;124m'\u001B[39m) \u001B[38;5;28;01mfor\u001B[39;00m variant \u001B[38;5;129;01min\u001B[39;00m desired_variants]\n\u001B[0;32m     77\u001B[0m     desired_variant_names \u001B[38;5;241m=\u001B[39m [variant[\u001B[38;5;124m'\u001B[39m\u001B[38;5;124mnames\u001B[39m\u001B[38;5;124m'\u001B[39m] \u001B[38;5;28;01mfor\u001B[39;00m variant \u001B[38;5;129;01min\u001B[39;00m desired_variants]\n\u001B[1;32m---> 79\u001B[0m \u001B[43mmake_and_validate_plate_mapping_sheet\u001B[49m\u001B[43m(\u001B[49m\n\u001B[0;32m     80\u001B[0m \u001B[43m    \u001B[49m\u001B[43mdesired_variant_muts_list\u001B[49m\u001B[38;5;241;43m=\u001B[39;49m\u001B[43mdesired_variant_muts_list\u001B[49m\u001B[43m,\u001B[49m\n\u001B[0;32m     81\u001B[0m \u001B[43m    \u001B[49m\u001B[43mdesired_variant_names\u001B[49m\u001B[38;5;241;43m=\u001B[39;49m\u001B[43mdesired_variant_names\u001B[49m\u001B[43m,\u001B[49m\n\u001B[0;32m     82\u001B[0m \u001B[43m    \u001B[49m\u001B[43mfragment_sheet_path\u001B[49m\u001B[38;5;241;43m=\u001B[39;49m\u001B[43mready_to_click_modules_path\u001B[49m\u001B[43m,\u001B[49m\n\u001B[0;32m     83\u001B[0m \u001B[43m    \u001B[49m\u001B[43mplate_format\u001B[49m\u001B[38;5;241;43m=\u001B[39;49m\u001B[43mplate_format\u001B[49m\u001B[43m,\u001B[49m\n\u001B[0;32m     84\u001B[0m \u001B[43m    \u001B[49m\u001B[43maa_seq\u001B[49m\u001B[38;5;241;43m=\u001B[39;49m\u001B[43minputs_dict\u001B[49m\u001B[43m[\u001B[49m\u001B[38;5;124;43m'\u001B[39;49m\u001B[38;5;124;43mSEQUENCE\u001B[39;49m\u001B[38;5;124;43m'\u001B[39;49m\u001B[43m]\u001B[49m\u001B[43m,\u001B[49m\n\u001B[0;32m     85\u001B[0m \u001B[43m    \u001B[49m\u001B[43mbackbone_len\u001B[49m\u001B[38;5;241;43m=\u001B[39;49m\u001B[43minputs_dict\u001B[49m\u001B[43m[\u001B[49m\u001B[38;5;124;43m'\u001B[39;49m\u001B[38;5;124;43mBACKBONE_SIZE\u001B[39;49m\u001B[38;5;124;43m'\u001B[39;49m\u001B[43m]\u001B[49m\u001B[43m,\u001B[49m\n\u001B[0;32m     86\u001B[0m \u001B[43m    \u001B[49m\u001B[43menzyme\u001B[49m\u001B[38;5;241;43m=\u001B[39;49m\u001B[43minputs_dict\u001B[49m\u001B[43m[\u001B[49m\u001B[38;5;124;43m'\u001B[39;49m\u001B[38;5;124;43mENZYME\u001B[39;49m\u001B[38;5;124;43m'\u001B[39;49m\u001B[43m]\u001B[49m\u001B[43m,\u001B[49m\n\u001B[0;32m     87\u001B[0m \u001B[43m    \u001B[49m\u001B[43mfive_prime_dna\u001B[49m\u001B[38;5;241;43m=\u001B[39;49m\u001B[43minputs_dict\u001B[49m\u001B[43m[\u001B[49m\u001B[38;5;124;43m'\u001B[39;49m\u001B[38;5;124;43mDNA_5_PRIME\u001B[39;49m\u001B[38;5;124;43m'\u001B[39;49m\u001B[43m]\u001B[49m\u001B[43m,\u001B[49m\n\u001B[0;32m     88\u001B[0m \u001B[43m    \u001B[49m\u001B[43mthree_prime_dna\u001B[49m\u001B[38;5;241;43m=\u001B[39;49m\u001B[43minputs_dict\u001B[49m\u001B[43m[\u001B[49m\u001B[38;5;124;43m'\u001B[39;49m\u001B[38;5;124;43mDNA_3_PRIME\u001B[39;49m\u001B[38;5;124;43m'\u001B[39;49m\u001B[43m]\u001B[49m\u001B[43m,\u001B[49m\n\u001B[0;32m     89\u001B[0m \u001B[43m    \u001B[49m\u001B[43mstart_plasmid_id\u001B[49m\u001B[38;5;241;43m=\u001B[39;49m\u001B[43mstart_plasmid_id\u001B[49m\n\u001B[0;32m     90\u001B[0m \u001B[43m\u001B[49m\u001B[43m)\u001B[49m\n",
      "File \u001B[1;32m~\\PycharmProjects\\seqTeleporter\\proseqteleporter\\fragment_assembler\\plate_mapper.py:375\u001B[0m, in \u001B[0;36mmake_and_validate_plate_mapping_sheet\u001B[1;34m(desired_variant_muts_list, desired_variant_names, fragment_sheet_path, plate_format, aa_seq, backbone_len, enzyme, five_prime_dna, three_prime_dna, start_plasmid_id)\u001B[0m\n\u001B[0;32m    367\u001B[0m \u001B[38;5;28;01mdef\u001B[39;00m \u001B[38;5;21mmake_and_validate_plate_mapping_sheet\u001B[39m(desired_variant_muts_list: \u001B[38;5;28mlist\u001B[39m[\u001B[38;5;28mlist\u001B[39m],\n\u001B[0;32m    368\u001B[0m                                           desired_variant_names: Optional[\u001B[38;5;28mlist\u001B[39m[\u001B[38;5;28mstr\u001B[39m]], fragment_sheet_path: \u001B[38;5;28mstr\u001B[39m,\n\u001B[0;32m    369\u001B[0m                                           plate_format: \u001B[38;5;28mint\u001B[39m, aa_seq: \u001B[38;5;28mstr\u001B[39m, backbone_len: \u001B[38;5;28mint\u001B[39m, enzyme: \u001B[38;5;28mstr\u001B[39m,\n\u001B[0;32m    370\u001B[0m                                           five_prime_dna: \u001B[38;5;28mstr\u001B[39m, three_prime_dna: \u001B[38;5;28mstr\u001B[39m, start_plasmid_id: Optional[\u001B[38;5;28mstr\u001B[39m]):\n\u001B[0;32m    371\u001B[0m     \u001B[38;5;66;03m# if encounter error msg: Can't find workbook in OLE2 compound document, remove excel sensitivity label and try again.\u001B[39;00m\n\u001B[0;32m    372\u001B[0m     \u001B[38;5;66;03m# ref: https://stackoverflow.com/questions/45725645/pandas-unable-to-open-this-excel-file\u001B[39;00m\n\u001B[0;32m    373\u001B[0m     output_dir \u001B[38;5;241m=\u001B[39m path\u001B[38;5;241m.\u001B[39mdirname(fragment_sheet_path)\n\u001B[1;32m--> 375\u001B[0m     plate_mapping_res \u001B[38;5;241m=\u001B[39m \u001B[43mplate_mapper\u001B[49m\u001B[43m(\u001B[49m\n\u001B[0;32m    376\u001B[0m \u001B[43m        \u001B[49m\u001B[43mdesired_variant_muts_list\u001B[49m\u001B[38;5;241;43m=\u001B[39;49m\u001B[43mdesired_variant_muts_list\u001B[49m\u001B[43m,\u001B[49m\n\u001B[0;32m    377\u001B[0m \u001B[43m        \u001B[49m\u001B[43mdesired_variant_names\u001B[49m\u001B[38;5;241;43m=\u001B[39;49m\u001B[43mdesired_variant_names\u001B[49m\u001B[43m,\u001B[49m\n\u001B[0;32m    378\u001B[0m \u001B[43m        \u001B[49m\u001B[43mfragment_sheet_path\u001B[49m\u001B[38;5;241;43m=\u001B[39;49m\u001B[43mfragment_sheet_path\u001B[49m\u001B[43m,\u001B[49m\n\u001B[0;32m    379\u001B[0m \u001B[43m        \u001B[49m\u001B[43mplate_format\u001B[49m\u001B[38;5;241;43m=\u001B[39;49m\u001B[43mplate_format\u001B[49m\u001B[43m,\u001B[49m\n\u001B[0;32m    380\u001B[0m \u001B[43m        \u001B[49m\u001B[43maa_seq\u001B[49m\u001B[38;5;241;43m=\u001B[39;49m\u001B[43maa_seq\u001B[49m\u001B[43m,\u001B[49m\n\u001B[0;32m    381\u001B[0m \u001B[43m        \u001B[49m\u001B[43mbackbone_len\u001B[49m\u001B[38;5;241;43m=\u001B[39;49m\u001B[43mbackbone_len\u001B[49m\u001B[43m,\u001B[49m\n\u001B[0;32m    382\u001B[0m \u001B[43m        \u001B[49m\u001B[43menzyme\u001B[49m\u001B[38;5;241;43m=\u001B[39;49m\u001B[43menzyme\u001B[49m\u001B[43m,\u001B[49m\n\u001B[0;32m    383\u001B[0m \u001B[43m        \u001B[49m\u001B[43mfive_prime_dna\u001B[49m\u001B[38;5;241;43m=\u001B[39;49m\u001B[43mfive_prime_dna\u001B[49m\u001B[43m,\u001B[49m\n\u001B[0;32m    384\u001B[0m \u001B[43m        \u001B[49m\u001B[43mthree_prime_dna\u001B[49m\u001B[38;5;241;43m=\u001B[39;49m\u001B[43mthree_prime_dna\u001B[49m\u001B[43m,\u001B[49m\n\u001B[0;32m    385\u001B[0m \u001B[43m        \u001B[49m\u001B[43mstart_plasmid_id\u001B[49m\u001B[38;5;241;43m=\u001B[39;49m\u001B[43mstart_plasmid_id\u001B[49m\u001B[43m,\u001B[49m\n\u001B[0;32m    386\u001B[0m \u001B[43m        \u001B[49m\u001B[43moutput_dir\u001B[49m\u001B[38;5;241;43m=\u001B[39;49m\u001B[43moutput_dir\u001B[49m\n\u001B[0;32m    387\u001B[0m \u001B[43m    \u001B[49m\u001B[43m)\u001B[49m\n\u001B[0;32m    388\u001B[0m     \u001B[38;5;66;03m# validate plate mapping sheet\u001B[39;00m\n\u001B[0;32m    389\u001B[0m     \u001B[38;5;28;01mif\u001B[39;00m \u001B[38;5;129;01mnot\u001B[39;00m validate_plate_mapping_sheet(plate_mapping_sheet_file\u001B[38;5;241m=\u001B[39mplate_mapping_res[\u001B[38;5;124m'\u001B[39m\u001B[38;5;124mout_file_path\u001B[39m\u001B[38;5;124m'\u001B[39m],\n\u001B[0;32m    390\u001B[0m                                         desired_variant_muts_list\u001B[38;5;241m=\u001B[39mdesired_variant_muts_list, wt_seq\u001B[38;5;241m=\u001B[39maa_seq,\n\u001B[0;32m    391\u001B[0m                                         desired_variant_names\u001B[38;5;241m=\u001B[39mdesired_variant_names):\n",
      "File \u001B[1;32m~\\PycharmProjects\\seqTeleporter\\proseqteleporter\\fragment_assembler\\plate_mapper.py:226\u001B[0m, in \u001B[0;36mplate_mapper\u001B[1;34m(desired_variant_muts_list, desired_variant_names, fragment_sheet_path, plate_format, aa_seq, backbone_len, enzyme, five_prime_dna, three_prime_dna, start_plasmid_id, output_dir)\u001B[0m\n\u001B[0;32m    224\u001B[0m destination_plate_num \u001B[38;5;241m=\u001B[39m math\u001B[38;5;241m.\u001B[39mceil(cumulative_variant_count \u001B[38;5;241m/\u001B[39m plate_format)\n\u001B[0;32m    225\u001B[0m destination_well_idx \u001B[38;5;241m=\u001B[39m cumulative_variant_count \u001B[38;5;241m%\u001B[39m plate_format \u001B[38;5;241m-\u001B[39m \u001B[38;5;241m1\u001B[39m  \u001B[38;5;66;03m# from 1-indexing to 0-indexing\u001B[39;00m\n\u001B[1;32m--> 226\u001B[0m variant_seq \u001B[38;5;241m=\u001B[39m \u001B[43mgenerate_target_variant_sequence\u001B[49m\u001B[43m(\u001B[49m\u001B[43mfragment_sheet_path\u001B[49m\u001B[38;5;241;43m=\u001B[39;49m\u001B[43mfragment_sheet_path\u001B[49m\u001B[43m,\u001B[49m\n\u001B[0;32m    227\u001B[0m \u001B[43m                                               \u001B[49m\u001B[43muse_frags\u001B[49m\u001B[38;5;241;43m=\u001B[39;49m\u001B[43mfrag_combi\u001B[49m\u001B[43m,\u001B[49m\u001B[43m \u001B[49m\u001B[43menzyme\u001B[49m\u001B[38;5;241;43m=\u001B[39;49m\u001B[43menzyme\u001B[49m\u001B[43m,\u001B[49m\u001B[43m \u001B[49m\u001B[43mwt_seq\u001B[49m\u001B[38;5;241;43m=\u001B[39;49m\u001B[43maa_seq\u001B[49m\u001B[43m,\u001B[49m\n\u001B[0;32m    228\u001B[0m \u001B[43m                                               \u001B[49m\u001B[43mfive_prime_dna\u001B[49m\u001B[38;5;241;43m=\u001B[39;49m\u001B[43mfive_prime_dna\u001B[49m\u001B[43m,\u001B[49m\n\u001B[0;32m    229\u001B[0m \u001B[43m                                               \u001B[49m\u001B[43mthree_prime_dna\u001B[49m\u001B[38;5;241;43m=\u001B[39;49m\u001B[43mthree_prime_dna\u001B[49m\u001B[43m)\u001B[49m\n\u001B[0;32m    230\u001B[0m \u001B[38;5;28;01mfor\u001B[39;00m frag_name \u001B[38;5;129;01min\u001B[39;00m frag_combi:\n\u001B[0;32m    231\u001B[0m     fragment_dict[frag_name][\u001B[38;5;124m'\u001B[39m\u001B[38;5;124mModule_Usage_Count\u001B[39m\u001B[38;5;124m'\u001B[39m] \u001B[38;5;241m+\u001B[39m\u001B[38;5;241m=\u001B[39m \u001B[38;5;241m1\u001B[39m\n",
      "File \u001B[1;32m~\\PycharmProjects\\seqTeleporter\\proseqteleporter\\fragment_assembler\\plate_mapper.py:174\u001B[0m, in \u001B[0;36mgenerate_target_variant_sequence\u001B[1;34m(fragment_sheet_path, use_frags, enzyme, wt_seq, five_prime_dna, three_prime_dna)\u001B[0m\n\u001B[0;32m    172\u001B[0m mutant_dna_file_name \u001B[38;5;241m=\u001B[39m re\u001B[38;5;241m.\u001B[39msub(\u001B[38;5;124m'\u001B[39m\u001B[38;5;124morder_modules\u001B[39m\u001B[38;5;124m'\u001B[39m,\u001B[38;5;124m'\u001B[39m\u001B[38;5;124mmutant_dna_fragments\u001B[39m\u001B[38;5;124m'\u001B[39m, path\u001B[38;5;241m.\u001B[39mbasename(fragment_sheet_path))\n\u001B[0;32m    173\u001B[0m mutant_dna_file_name \u001B[38;5;241m=\u001B[39m re\u001B[38;5;241m.\u001B[39msub(\u001B[38;5;124m'\u001B[39m\u001B[38;5;124mxlsx\u001B[39m\u001B[38;5;124m'\u001B[39m, \u001B[38;5;124m'\u001B[39m\u001B[38;5;124mjson\u001B[39m\u001B[38;5;124m'\u001B[39m, mutant_dna_file_name)\n\u001B[1;32m--> 174\u001B[0m \u001B[38;5;28;01mwith\u001B[39;00m \u001B[38;5;28;43mopen\u001B[39;49m\u001B[43m(\u001B[49m\u001B[43mpath\u001B[49m\u001B[38;5;241;43m.\u001B[39;49m\u001B[43mjoin\u001B[49m\u001B[43m(\u001B[49m\u001B[43mlog_dir\u001B[49m\u001B[43m,\u001B[49m\u001B[43m \u001B[49m\u001B[43mmutant_dna_file_name\u001B[49m\u001B[43m)\u001B[49m\u001B[43m)\u001B[49m \u001B[38;5;28;01mas\u001B[39;00m f:\n\u001B[0;32m    175\u001B[0m     mutant_dna_fragments \u001B[38;5;241m=\u001B[39m json\u001B[38;5;241m.\u001B[39mload(f)\n\u001B[0;32m    177\u001B[0m frags_to_be_assembled \u001B[38;5;241m=\u001B[39m [frag \u001B[38;5;28;01mfor\u001B[39;00m frag \u001B[38;5;129;01min\u001B[39;00m mutant_dna_fragments \u001B[38;5;28;01mif\u001B[39;00m frag[\u001B[38;5;124m'\u001B[39m\u001B[38;5;124mname\u001B[39m\u001B[38;5;124m'\u001B[39m] \u001B[38;5;129;01min\u001B[39;00m use_frags]\n",
      "\u001B[1;31mFileNotFoundError\u001B[0m: [Errno 2] No such file or directory: 'C:\\\\Users\\\\GOFKV\\\\PycharmProjects\\\\seqTeleporter\\\\experiments\\\\fluorescence_protein\\\\input_ecoli2\\\\azami_green_blue_2024-06-16output\\\\logs\\\\mutant_dna_fragments.json'"
     ]
    }
   ],
   "source": [
    "assemble_modules_and_generate_robot_instruction(input_table_path, ready_to_click_modules_path)"
   ],
   "metadata": {
    "collapsed": false
   }
  }
 ],
 "metadata": {
  "kernelspec": {
   "display_name": "Python 3 (ipykernel)",
   "language": "python",
   "name": "python3"
  },
  "language_info": {
   "codemirror_mode": {
    "name": "ipython",
    "version": 3
   },
   "file_extension": ".py",
   "mimetype": "text/x-python",
   "name": "python",
   "nbconvert_exporter": "python",
   "pygments_lexer": "ipython3",
   "version": "3.11.1"
  }
 },
 "nbformat": 4,
 "nbformat_minor": 4
}
