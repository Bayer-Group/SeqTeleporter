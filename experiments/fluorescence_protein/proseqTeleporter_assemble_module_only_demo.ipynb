{
 "cells": [
  {
   "cell_type": "markdown",
   "source": [
    "# ProseqTeleporter Demo"
   ],
   "metadata": {
    "collapsed": false
   }
  },
  {
   "cell_type": "markdown",
   "source": [
    "## Setup environment\n",
    "\n",
    "Compatible python version: 3.9, 3.10, 3.11. If this is your first time running the script, do this in the terminal.\n",
    "1. ```pip install --upgrade pip```\n",
    "2. ```pip install -r requirements-dev.txt```\n",
    "\n",
    "## INSTRUCTIONS\n",
    "--------------\n",
    "1. Download the file `input_template.xlsx` in the folder `demo` to your own computer and rename it as `input.xlsx`.\n",
    "2. Open `input.xlsx`, in the tab `input_parameters`, replace the default amino acid sequence with your amino acid sequence, and then adjust the other parameters to your need. In the tab `input_mutations`, replace the default mutations with your mutations. In the tab `desired_variants`, replace the default variants with your desired variants.\n",
    "3. Save `input.xlsx`, and then upload the `input.xlsx` back to the folder `demo` on Science@Scale.\n",
    "4. Double click to open the python notebook `proseqTeleporter_demo.ipynb`, click ⏩ button to refresh and run the python notebook.\n",
    "5. Scroll down to the python notebook to view the Run status and wait for the Run to complete. Depending on your sequence and your parameters, it might take a while to run. When the Run is completed, you will see \"RUN COMPLETED!\" at the very bottom of the python notebook.\n",
    "6. When the Run is complete, go to `demo/input_[date]output/results` to see your results."
   ],
   "metadata": {
    "collapsed": false
   }
  },
  {
   "cell_type": "markdown",
   "metadata": {
    "collapsed": false,
    "jupyter": {
     "outputs_hidden": false
    }
   },
   "source": [
    "## CONFIGURATION\n",
    "--------------"
   ]
  },
  {
   "cell_type": "code",
   "execution_count": 14,
   "outputs": [
    {
     "name": "stdout",
     "output_type": "stream",
     "text": [
      "Here is: C:\\Users\\GOFKV\\PycharmProjects\\proseqteleporter\\experiments\\fluorescence_protein\n"
     ]
    }
   ],
   "source": [
    "import sys\n",
    "import os.path\n",
    "\n",
    "SCRIPT_DIR = os.path.dirname(os.path.abspath('__file__'))\n",
    "sys.path.append(os.path.dirname(SCRIPT_DIR))\n",
    "\n",
    "from proseqteleporter.main_libs import assemble_modules_and_generate_robot_instruction\n",
    "from proseqteleporter.utils.utils import generate_target_variants_from_muts\n",
    "\n",
    "print(f'Here is: {SCRIPT_DIR}')"
   ],
   "metadata": {
    "collapsed": false
   }
  },
  {
   "cell_type": "code",
   "execution_count": 20,
   "outputs": [
    {
     "name": "stdout",
     "output_type": "stream",
     "text": [
      "N\n",
      "M\n",
      "R\n",
      "F\n",
      "P\n",
      "N\n",
      "M\n",
      "S\n",
      "G\n",
      "C\n",
      "F\n",
      "H\n",
      "D\n",
      "K\n"
     ]
    }
   ],
   "source": [
    "MUTATIONS=[{'position': 24, 'aa': ['D']},{'position': 67, 'aa': ['L', 'H']},{'position': 71, 'aa': ['K']},{'position': 84, 'aa': ['W', 'L']},{'position': 131, 'aa': ['T']},{'position': 147, 'aa': ['F', 'I']},{'position': 150, 'aa': ['T']},{'position': 162, 'aa': ['A', 'I', 'N']},{'position': 172, 'aa': ['S']},{'position': 176, 'aa': ['A']},{'position': 178, 'aa': ['A', 'I']},{'position': 201, 'aa': ['F', 'Y']},{'position': 210, 'aa': ['N']},{'position': 211, 'aa': ['N']}]\n",
    "LINKED_MUTATIONS=None\n",
    "SEQUENCE=\"MVSKGEELIKENMHMKLYMEGTVNNHHFKCTSEGEGKPYEGTQTMRIKVVEGGPLPFAFDILATSFMYGSRTFINHTQGIPDFFKQSFPEGFTWERVTTYEDGGVLTATQDTSLQDGCLIYNVKIRGVNFPSNGPVMQKKTLGWEANTEMLYPADGGLEGRSDMALKLVGGGHLICNFKTTYRSKKPAKNLKMPGVYYVDHRLERIKEADKETYVEQHEVAVARYCDLPSKLGHKLN\"\n",
    "\n",
    "\n",
    "# generate_target_variants_from_muts(mutations_1dx=MUTATIONS, linked_mutations_1dx=LINKED_MUTATIONS, wt_seq=SEQUENCE, incl_wt=False)\n",
    "\n",
    "for mut in MUTATIONS:\n",
    "    print(SEQUENCE[mut['position']-1])"
   ],
   "metadata": {
    "collapsed": false
   }
  },
  {
   "cell_type": "markdown",
   "source": [
    "## ASSEMBLE MODULES\n",
    "If encounter error msg: Can't find workbook in OLE2 compound document, remove excel sensitivity label and try again."
   ],
   "metadata": {
    "collapsed": false
   }
  },
  {
   "cell_type": "code",
   "execution_count": 16,
   "outputs": [
    {
     "name": "stdout",
     "output_type": "stream",
     "text": [
      "\n",
      "The plate mapping sheet is validated!\n",
      "\n",
      "The README sheet is validated!\n",
      "\n",
      "Plate mapping sheet is exported to:\n",
      " C:\\Users\\GOFKV\\PycharmProjects\\proseqteleporter\\experiments\\fluorescence_protein\\input_ecoli2\\azami_red10_blue_input_corr2_5f_lim_cut_2024-06-19output\\results\\2024-09-09_source_destination_plate_map.xlsx\n",
      "\n",
      "Preview of mapping sheet: \n",
      "   Source Plate   Target Plate Source Well Target Well              Volume_ul  \\\n",
      "0       plate1  target_plate1          A2          A1  PLEASE FILL IN VOLUME   \n",
      "1       plate1  target_plate1          A5          A1  PLEASE FILL IN VOLUME   \n",
      "2       plate1  target_plate1          A8          A1  PLEASE FILL IN VOLUME   \n",
      "\n",
      "          Module Module Plasmid Number                          Mutations  \n",
      "0      1-64_M63L              default1  M63L_F80W_S143F_V158A_F174A_H194F  \n",
      "1    65-104_F80W              default1  M63L_F80W_S143F_V158A_F174A_H194F  \n",
      "2  105-144_S143F              default1  M63L_F80W_S143F_V158A_F174A_H194F  \n"
     ]
    }
   ],
   "source": [
    "input_table_path = r\"C:\\Users\\GOFKV\\PycharmProjects\\proseqteleporter\\experiments\\fluorescence_protein\\input_ecoli2\\input_AzR.xlsx\"\n",
    "ready_to_click_modules_path = r\"C:\\Users\\GOFKV\\PycharmProjects\\proseqteleporter\\experiments\\fluorescence_protein\\input_ecoli2\\azami_red10_blue_input_corr2_5f_lim_cut_2024-06-19output\\results\\order_modules.xlsx\"\n",
    "assemble_modules_and_generate_robot_instruction(input_table_path, ready_to_click_modules_path)"
   ],
   "metadata": {
    "collapsed": false
   }
  },
  {
   "cell_type": "code",
   "execution_count": null,
   "outputs": [],
   "source": [],
   "metadata": {
    "collapsed": false
   }
  }
 ],
 "metadata": {
  "kernelspec": {
   "display_name": "Python 3 (ipykernel)",
   "language": "python",
   "name": "python3"
  },
  "language_info": {
   "codemirror_mode": {
    "name": "ipython",
    "version": 3
   },
   "file_extension": ".py",
   "mimetype": "text/x-python",
   "name": "python",
   "nbconvert_exporter": "python",
   "pygments_lexer": "ipython3",
   "version": "3.11.1"
  }
 },
 "nbformat": 4,
 "nbformat_minor": 4
}
