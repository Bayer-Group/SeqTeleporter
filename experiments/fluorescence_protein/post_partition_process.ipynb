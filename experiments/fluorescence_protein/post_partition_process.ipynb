{
 "cells": [
  {
   "cell_type": "markdown",
   "metadata": {
    "collapsed": false,
    "jupyter": {
     "outputs_hidden": false
    }
   },
   "source": [
    "## IMPORT REQUIRED RESOURCES\n",
    "--------------"
   ]
  },
  {
   "cell_type": "code",
   "execution_count": 1,
   "outputs": [
    {
     "name": "stdout",
     "output_type": "stream",
     "text": [
      "Here is: C:\\Users\\GOFKV\\PycharmProjects\\proseqteleporter\\experiments\\fluorescence_protein\n"
     ]
    }
   ],
   "source": [
    "\"\"\"Imports\"\"\"\n",
    "import sys\n",
    "import os\n",
    "from os.path import join\n",
    "\n",
    "\n",
    "SCRIPT_DIR = os.path.dirname(os.path.abspath('__file__'))\n",
    "sys.path.append(os.path.dirname(SCRIPT_DIR))\n",
    "print(f'Here is: {SCRIPT_DIR}')\n",
    "\n",
    "\n",
    "from proseqteleporter.partitioner.compute_best_partitions import show_input_seq_info, prepare_compute_best_partitions_params\n",
    "from proseqteleporter.post_partition_processor.post_partition_processor import post_partition_processing\n",
    "from proseqteleporter.partition_property_finder.cost_finder import find_exact_cost\n",
    "from proseqteleporter.utils.load_input_params import validate_input_params\n",
    "\n",
    "\n",
    "INPUT_DICT = {\n",
    "    'ecoli_AzamiGreen':{\n",
    "        'abbreviation':'eco_AzG',\n",
    "        'input_file':join(SCRIPT_DIR, 'input_ecoli2', 'azami_green_blue_input_corr2_5f.txt'),\n",
    "        'results_dir':join(SCRIPT_DIR, 'input_ecoli2','azami_green_blue_2024-06-16output','results'),\n",
    "        'incl_wt_MUTATIONS_1dx':'all'\n",
    "    },\n",
    "    'ecoli_AzamiRed10':{\n",
    "        'abbreviation':'eco_AzR',\n",
    "        'input_file':join(SCRIPT_DIR, 'input_ecoli2', 'azami_red10_blue_input_corr2_5f_lim_cut.txt'),\n",
    "        'results_dir':join(SCRIPT_DIR, 'input_ecoli2','azami_red10_blue_input_corr2_5f_lim_cut_2024-06-19output','results'),\n",
    "        'incl_wt_MUTATIONS_1dx':'all'\n",
    "    },\n",
    "    'ecoli_TagRFP':{\n",
    "        'abbreviation':'eco_TagR',\n",
    "        'input_file':join(SCRIPT_DIR, 'input_ecoli2', 'tag_rfp_blue_input_corr2_5f.txt'),\n",
    "        'results_dir':join(SCRIPT_DIR, 'input_ecoli2','tag_rfp_blue_2024-06-16output','results'),\n",
    "        # 'incl_wt_MUTATIONS_1dx':[{'position': 67, 'aa': ['L', 'H']},{'position': 71, 'aa': ['K']},{'position': 84, 'aa': ['W', 'L']},{'position': 147, 'aa': ['F', 'I']},{'position': 162, 'aa': ['A', 'I', 'N']},{'position': 178, 'aa': ['A', 'I']},{'position': 201, 'aa': ['F', 'Y']}],\n",
    "        'incl_wt_MUTATIONS_1dx':'all'\n",
    "    }\n",
    "}\n"
   ],
   "metadata": {
    "collapsed": false
   }
  },
  {
   "cell_type": "markdown",
   "source": [
    "## Set Input"
   ],
   "metadata": {
    "collapsed": false
   }
  },
  {
   "cell_type": "code",
   "execution_count": 2,
   "outputs": [],
   "source": [
    "# sel_input = 'ecoli_AzamiGreen'\n",
    "# sel_input = 'ecoli_AzamiRed10'\n",
    "sel_input = 'ecoli_TagRFP'"
   ],
   "metadata": {
    "collapsed": false
   }
  },
  {
   "cell_type": "markdown",
   "metadata": {
    "collapsed": false,
    "jupyter": {
     "outputs_hidden": false
    }
   },
   "source": [
    "## RUN & SHOW RESULTS"
   ]
  },
  {
   "cell_type": "code",
   "execution_count": 3,
   "outputs": [
    {
     "name": "stdout",
     "output_type": "stream",
     "text": [
      "\u001B[1m==================================================================================================\u001B[0m\n",
      "                                    \u001B[1m RUN STARTED! \u001B[0m \n",
      "\u001B[1m==================================================================================================\u001B[0m\n",
      "Input file passed validation!\n",
      "\u001B[1mSequence (red: independent mutation positions; other colors: linked mutation positions) = \n",
      "MVSKGEELIKENMHMKLYMEGTV\u001B[31mN\u001B[39mNHHFKCTSEGEGKPYEGTQTMRIKVVEGGPLPFAFDILATSF\u001B[31mM\u001B[39mYGS\u001B[31mR\u001B[39mTFINHTQGIPDF\u001B[31mF\u001B[39mKQSFPEGFTWERVTTYEDGGVLTATQDTSLQDGCLIYNVKIRGVNF\u001B[31mP\u001B[39mSNGPVMQKKTLGWEA\u001B[31mN\u001B[39mTE\u001B[31mM\u001B[39mLYPADGGLEGR\u001B[31mS\u001B[39mDMALKLVGG\u001B[31mG\u001B[39mHLI\u001B[31mC\u001B[39mN\u001B[31mF\u001B[39mKTTYRSKKPAKNLKMPGVYYVD\u001B[31mH\u001B[39mRLERIKEA\u001B[31mD\u001B[39m\u001B[31mK\u001B[39mETYVEQHEVAVARYCDLPSKLGHKLN\n",
      "\u001B[1mSequence Length = 237\n",
      "\u001B[1mMutations (1-indexed) = [{'position': 24, 'aa': ['D']}, {'position': 67, 'aa': ['L', 'H']}, {'position': 71, 'aa': ['K']}, {'position': 84, 'aa': ['W', 'L']}, {'position': 131, 'aa': ['T']}, {'position': 147, 'aa': ['F', 'I']}, {'position': 150, 'aa': ['T']}, {'position': 162, 'aa': ['A', 'I', 'N']}, {'position': 172, 'aa': ['S']}, {'position': 176, 'aa': ['A']}, {'position': 178, 'aa': ['A', 'I']}, {'position': 201, 'aa': ['F', 'Y']}, {'position': 210, 'aa': ['N']}, {'position': 211, 'aa': ['N']}]\n",
      "\u001B[1mLinked mutations (1-indexed) = None\n",
      "ALLOWED_CUT_POSITIONS=[]\n",
      "DNA_5_PRIME=AATTTGGTCTCTCC\n",
      "DNA_3_PRIME=TAATAGAGACCTTTAA\n",
      "FIX_DNA_SEQUENCE=ATGGTTAGCAAAGGTGAAGAACTGATCAAAGAAAACATGCATATGAAACTGTACATGGAAGGCACCGTGAATAACCATCACTTTAAATGTACCAGCGAAGGTGAAGGTAAACCGTATGAAGGCACCCAGACCATGCGTATTAAAGTTGTTGAAGGTGGTCCGCTGCCGTTTGCATTTGATATTCTGGCAACCAGCTTTATGTATGGTAGCCGTACCTTTATCAATCATACCCAGGGTATTCCGGATTTCTTTAAACAGAGCTTTCCGGAAGGTTTTACCTGGGAACGTGTTACCACCTATGAAGATGGTGGTGTTCTGACCGCAACACAGGATACCAGTCTGCAGGATGGTTGTCTGATTTATAATGTGAAAATTCGCGGTGTGAACTTTCCGAGCAATGGTCCGGTTATGCAGAAAAAGACCTTAGGTTGGGAAGCAAATACCGAAATGCTGTATCCGGCAGATGGTGGCCTGGAAGGTCGTAGCGATATGGCACTGAAACTGGTTGGTGGTGGTCATCTGATTTGTAACTTTAAAACCACCTACCGTAGCAAGAAACCTGCCAAAAATCTGAAAATGCCTGGCGTGTATTATGTGGATCATCGTCTGGAACGCATTAAAGAAGCAGATAAAGAAACCTATGTGGAACAGCATGAAGTTGCAGTTGCACGTTATTGTGATCTGCCGAGCAAACTGGGTCATAAACTGAAT\n",
      "FUSION_SITES_USED_BY_BACKBONE=('CTTG', 'TAGC', 'CCAT', 'CGCT', 'TAAT')\n",
      "HOST=e_coli\n",
      "FIDELITY_DATA_PATH=C:\\Users\\GOFKV\\PycharmProjects\\proseqteleporter\\proseqteleporter\\data\\neb_fidelity_data\\FileS01_T4_01h_25C.xlsx\n",
      "SEQUENCE=MVSKGEELIKENMHMKLYMEGTVNNHHFKCTSEGEGKPYEGTQTMRIKVVEGGPLPFAFDILATSFMYGSRTFINHTQGIPDFFKQSFPEGFTWERVTTYEDGGVLTATQDTSLQDGCLIYNVKIRGVNFPSNGPVMQKKTLGWEANTEMLYPADGGLEGRSDMALKLVGGGHLICNFKTTYRSKKPAKNLKMPGVYYVDHRLERIKEADKETYVEQHEVAVARYCDLPSKLGHKLN\n",
      "MUTATIONS=[{'position': 24, 'aa': ['D']}, {'position': 67, 'aa': ['L', 'H']}, {'position': 71, 'aa': ['K']}, {'position': 84, 'aa': ['W', 'L']}, {'position': 131, 'aa': ['T']}, {'position': 147, 'aa': ['F', 'I']}, {'position': 150, 'aa': ['T']}, {'position': 162, 'aa': ['A', 'I', 'N']}, {'position': 172, 'aa': ['S']}, {'position': 176, 'aa': ['A']}, {'position': 178, 'aa': ['A', 'I']}, {'position': 201, 'aa': ['F', 'Y']}, {'position': 210, 'aa': ['N']}, {'position': 211, 'aa': ['N']}]\n",
      "LINKED_MUTATIONS=None\n",
      "CUT_NUMBER_RANGE=(4, 5)\n",
      "MIN_FRAGMENT_LENGTH=6\n",
      "MAX_COST=50000.0\n",
      "COST_PER_BP=0.1\n",
      "MIN_DNA_LENGTH=1\n",
      "MAX_DNA_LENGTH=10000000\n",
      "MAX_LENGTH_UNEVENNESS=5.0\n",
      "MIN_LIGATION_FIDELITY=0.99\n",
      "SATISFACTION_LIGATION_FIDELITY=0.99\n",
      "[{'position': 24, 'aa': ['D']}, {'position': 67, 'aa': ['L', 'H']}, {'position': 71, 'aa': ['K']}, {'position': 84, 'aa': ['W', 'L']}, {'position': 131, 'aa': ['T']}, {'position': 147, 'aa': ['F', 'I']}, {'position': 150, 'aa': ['T']}, {'position': 162, 'aa': ['A', 'I', 'N']}, {'position': 172, 'aa': ['S']}, {'position': 176, 'aa': ['A']}, {'position': 178, 'aa': ['A', 'I']}, {'position': 201, 'aa': ['F', 'Y']}, {'position': 210, 'aa': ['N']}, {'position': 211, 'aa': ['N']}]\n"
     ]
    }
   ],
   "source": [
    "print('\\033[1m==================================================================================================\\033[0m')\n",
    "print('                                    \\033[1m RUN STARTED! \\033[0m ')\n",
    "print('\\033[1m==================================================================================================\\033[0m')\n",
    "\n",
    "input_file_path=INPUT_DICT[sel_input]['input_file']\n",
    "validate_input_params(input_file_path)\n",
    "show_input_seq_info(input_file_path)\n",
    "params = prepare_compute_best_partitions_params(input_file_path)\n",
    "\n",
    "if INPUT_DICT[sel_input]['incl_wt_MUTATIONS_1dx'] == 'all':\n",
    "    positions_include_wt_aa_0idx = [mut['position'] for mut in params['mutations_0idx']]\n",
    "else:\n",
    "    positions_include_wt_aa_0idx = [mut['position'] - 1 for mut in INPUT_DICT[sel_input]['incl_wt_MUTATIONS_1dx']]"
   ],
   "metadata": {
    "collapsed": false
   }
  },
  {
   "cell_type": "code",
   "execution_count": 4,
   "outputs": [
    {
     "name": "stdout",
     "output_type": "stream",
     "text": [
      "\n",
      " Processing partition:\n",
      " partition: [68, 132, 165, 198]\n",
      " ligation_fidelity: 0.99\n",
      " fragment_length_unevenness: 1.061\n",
      " fusion_sites: ['CGGA', 'AATG', 'ACTC', 'CTAC']\n",
      " cost: 1188.0\n",
      " fragments: \n",
      " ['MVSKGEELIKENMHMKLYMEGTVNNHHFKCTSEGEGKPYEGTQTMRIKVVEGGPLPFAFDILATSFMY', 'GSRTFINHTQGIPDFFKQSFPEGFTWERVTTYEDGGVLTATQDTSLQDGCLIYNVKIRGVNFPS', 'NGPVMQKKTLGWEANTEMLYPADGGLEGRSDMA', 'LKLVGGGHLICNFKTTYRSKKPAKNLKMPGVYY', 'VDHRLERIKEADKETYVEQHEVAVARYCDLPSKLGHKLN']\n",
      "\n",
      "Processing the partitioned fragments...\n",
      "  Concatenating user-specified 5' and 3' dna sequence...\n",
      "  Concatenating BsaI sites and stuffers...\n",
      "  Generating individual mutant aa fragments...\n",
      "  Translating mutant aa fragments to dna fragments...\n",
      "  Validating dna fragment constraints (enzyme sites)...\n",
      "   Passed validation of mutant dna fragments constraints!\n",
      "Validating mutant dna fragments by in-silico assembly...\n",
      "Random combi in-silico assembly: P131T_R71K_F84W_N147I_S162N_H201Y, \n",
      "  Validation Passed: True\n",
      "Random combi in-silico assembly: M67L_P131T_F84W_N147F_M150T_S162I_C176A_F178A_D210N_K211N, \n",
      "  Validation Passed: True\n",
      "Random combi in-silico assembly: M67H_R71K_F84W_M150T, \n",
      "  Validation Passed: True\n",
      "Random combi in-silico assembly: N24D_P131T_N147F_S162N_G172S_C176A_H201Y_D210N, \n",
      "  Validation Passed: True\n",
      "Random combi in-silico assembly: N24D_M67L_P131T_R71K_F84L_N147F_M150T_S162A_H201Y, \n",
      "  Validation Passed: True\n",
      "Random combi in-silico assembly: M67H_R71K_N147F_M150T_S162A_F178I_D210N, \n",
      "  Validation Passed: True\n",
      "Random combi in-silico assembly: M67H_M150T_S162I_C176A_F178I_H201F_D210N_K211N, \n",
      "  Validation Passed: True\n",
      "Random combi in-silico assembly: M67H_P131T_F84L_N147I_S162I_F178A_H201Y_D210N, \n",
      "  Validation Passed: True\n",
      "Random combi in-silico assembly: F84W_N147F_S162I_G172S_C176A_H201Y_D210N, \n",
      "  Validation Passed: True\n",
      "Random combi in-silico assembly: M67L_P131T_R71K_F84W_N147I_M150T_S162N_H201Y, \n",
      "  Validation Passed: True\n",
      "Exporting DNA module ordering sheet\n",
      "--------------------------------------------------------------------------------------------------\n",
      "\u001B[1m DNA module ordering sheet is exported at:\n",
      " C:\\Users\\GOFKV\\PycharmProjects\\proseqteleporter\\experiments\\fluorescence_protein\\input_ecoli2\\tag_rfp_blue_2024-06-16output\\results\\order_modules.xlsx\u001B[0m\n"
     ]
    }
   ],
   "source": [
    "mutant_aa_fragments, mutant_dna_fragments = post_partition_processing(\n",
    "    input_file_path=input_file_path,\n",
    "    best_partitions_by_cut_number_file=join(INPUT_DICT[sel_input]['results_dir'],'best_partitions_by_cut_number_dist_mut_1.json'),\n",
    "    # best_partitions_by_cut_number_file=join(params['output_dir'],'results','best_partitions_by_cut_number_dist_mut_1.json'),\n",
    "    cut_number=4,\n",
    "    positions_include_wt_aa_0idx=positions_include_wt_aa_0idx,\n",
    "    check_seq_complexity_idt=False,\n",
    "    product_type=\"Gblock\",\n",
    "    gene_abbreviation = join(INPUT_DICT[sel_input]['abbreviation']),\n",
    "    validate_sample_number=10,\n",
    "    validate_coding_start=None,\n",
    "    mtp_format=96,\n",
    "    min_dna_frag_length=300\n",
    ")"
   ],
   "metadata": {
    "collapsed": false
   }
  },
  {
   "cell_type": "code",
   "execution_count": 5,
   "outputs": [],
   "source": [
    "# Make and export IDT ordering spreadsheet\n",
    "exact_cost = find_exact_cost(mutant_dna_fragments=mutant_dna_fragments, price_per_base=0.06)"
   ],
   "metadata": {
    "collapsed": false
   }
  },
  {
   "cell_type": "code",
   "execution_count": 6,
   "outputs": [
    {
     "name": "stdout",
     "output_type": "stream",
     "text": [
      "\n",
      "\u001B[1m==================================================================================================\n",
      "                                     RUN COMPLETED!                                                      \n",
      "             Exact cost of best partition: 1188.0 €\n",
      "==================================================================================================\u001B[0m\n"
     ]
    }
   ],
   "source": [
    "print(f'\\n\\033[1m=================================================================================================='\n",
    "      f'\\n                                     RUN COMPLETED!                                                      '\n",
    "      f'\\n             Exact cost of best partition: {exact_cost} €'\n",
    "      f'\\n==================================================================================================\\033[0m')\n"
   ],
   "metadata": {
    "collapsed": false
   }
  }
 ],
 "metadata": {
  "kernelspec": {
   "display_name": "Python 3 (ipykernel)",
   "language": "python",
   "name": "python3"
  },
  "language_info": {
   "codemirror_mode": {
    "name": "ipython",
    "version": 3
   },
   "file_extension": ".py",
   "mimetype": "text/x-python",
   "name": "python",
   "nbconvert_exporter": "python",
   "pygments_lexer": "ipython3",
   "version": "3.11.1"
  }
 },
 "nbformat": 4,
 "nbformat_minor": 4
}
