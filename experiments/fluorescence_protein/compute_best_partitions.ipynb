{
 "cells": [
  {
   "cell_type": "markdown",
   "metadata": {
    "collapsed": false,
    "jupyter": {
     "outputs_hidden": false
    }
   },
   "source": [
    "## IMPORT REQUIRED RESOURCES\n",
    "--------------"
   ]
  },
  {
   "cell_type": "code",
   "execution_count": 1,
   "outputs": [
    {
     "name": "stdout",
     "output_type": "stream",
     "text": [
      "Here is: C:\\Users\\GOFKV\\PycharmProjects\\proseqteleporter\\experiments\\fluorescence_protein\n"
     ]
    }
   ],
   "source": [
    "\"\"\"Imports\"\"\"\n",
    "import sys\n",
    "import os\n",
    "from os.path import join\n",
    "\n",
    "\n",
    "SCRIPT_DIR = os.path.dirname(os.path.abspath('__file__'))\n",
    "sys.path.append(os.path.dirname(SCRIPT_DIR))\n",
    "print(f'Here is: {SCRIPT_DIR}')\n",
    "\n",
    "\n",
    "from proseqteleporter.partitioner.compute_best_partitions import compute_best_partitions, show_input_seq_info, prepare_compute_best_partitions_params\n",
    "from proseqteleporter.utils.utils import print_available_resources\n",
    "from proseqteleporter.utils.load_input_params import validate_input_params\n"
   ],
   "metadata": {
    "collapsed": false
   }
  },
  {
   "cell_type": "markdown",
   "metadata": {
    "collapsed": false,
    "jupyter": {
     "outputs_hidden": false
    }
   },
   "source": [
    "## AVAILABLE HOSTS & ASSEMBLY CONDITIONS\n",
    "--------------"
   ]
  },
  {
   "cell_type": "code",
   "execution_count": 2,
   "metadata": {
    "collapsed": false,
    "jupyter": {
     "outputs_hidden": false
    }
   },
   "outputs": [
    {
     "name": "stdout",
     "output_type": "stream",
     "text": [
      "--------------------------------------------------------------------------------------------------\n",
      "|                                    AVAILABLE HOSTS                                             |\n",
      "--------------------------------------------------------------------------------------------------\n",
      "c_griseus\n",
      "e_coli\n",
      "p_pastoris\n",
      "s_cerevisiae\n",
      "--------------------------------------------------------------------------------------------------\n",
      "|                          AVAILABLE ASSEMBLY CONDITIONS                                         |\n",
      "--------------------------------------------------------------------------------------------------\n",
      "T4_01h_25C\n",
      "T7_18h_25C\n",
      "T7_18h_37C\n",
      "--------------------------------------------------------------------------------------------------\n"
     ]
    }
   ],
   "source": [
    "print_available_resources()"
   ]
  },
  {
   "cell_type": "markdown",
   "metadata": {
    "collapsed": false,
    "jupyter": {
     "outputs_hidden": false
    }
   },
   "source": [
    "## RUN & SHOW RESULTS"
   ]
  },
  {
   "cell_type": "code",
   "execution_count": 3,
   "outputs": [
    {
     "name": "stdout",
     "output_type": "stream",
     "text": [
      "\u001B[1m==================================================================================================\u001B[0m\n",
      "                                    \u001B[1m RUN STARTED! \u001B[0m \n",
      "\u001B[1m==================================================================================================\u001B[0m\n",
      "Input file passed validation!\n",
      "\u001B[1mSequence (red: independent mutation positions; other colors: linked mutation positions) = \n",
      "MVSVIKEEMKIKLRMEGTVNGHNFVIEGEGKGNPYEGTQTMDLKVTEGGPLPFAYDILSPQF\u001B[31mM\u001B[39mYGSKAFIKYPADIPDY\u001B[31mF\u001B[39mKQSFPEGFHWERVMTYEDGGVCTATQNTSLRGDCFFYDVRFDGVNFPPNGPVMQKKTLGWEP\u001B[31mS\u001B[39mTEKMYVRDGVLKGD\u001B[31mV\u001B[39mIKALLLEGGGHYRCD\u001B[31mF\u001B[39mKTTYKAKKDVRLPGYHFVD\u001B[31mH\u001B[39mRIEILKHDKDYNKVKQYENAVARYSMLPSQAK\n",
      "\u001B[1mSequence Length = 226\n",
      "\u001B[1mMutations (1-indexed) = [{'position': 63, 'aa': ['L', 'H']}, {'position': 80, 'aa': ['W', 'L']}, {'position': 143, 'aa': ['F', 'I']}, {'position': 158, 'aa': ['A', 'I', 'N']}, {'position': 174, 'aa': ['A', 'I']}, {'position': 194, 'aa': ['F', 'Y']}]\n",
      "\u001B[1mLinked mutations (1-indexed) = None\n",
      "Load ALLOWED_CUT_POSITIONS=[(65, 65), (105, 105), (145, 145), (185, 185)]\n",
      "Load DNA_5_PRIME=AATTTGGTCTCTCC\n",
      "Load DNA_3_PRIME=TAATAGAGACCTTTAA\n",
      "Load FIX_DNA_SEQUENCE=ATGGTTAGCGTGATCAAAGAAGAGATGAAAATCAAACTGCGTATGGAAGGCACCGTGAATGGTCATAATTTTGTGATTGAAGGTGAAGGCAAAGGCAATCCGTATGAAGGTACACAGACCATGGATCTGAAAGTTACCGAAGGTGGTCCGCTGCCGTTTGCATATGATATTCTGAGTCCGCAGTTTATGTATGGCAGCAAAGCCTTTATCAAATATCCGGCAGATATCCCGGATTACTTTAAACAGAGCTTTCCGGAAGGTTTTCATTGGGAACGTGTTATGACCTATGAAGATGGTGGTGTTTGTACCGCAACACAGAATACCAGCCTGCGTGGTGATTGTTTCTTTTATGATGTTCGTTTTGATGGCGTGAACTTTCCGCCTAATGGTCCGGTTATGCAGAAAAAGACCTTAGGTTGGGAACCGAGCACCGAGAAAATGTATGTTCGTGATGGTGTTCTGAAAGGCGACGTTATTAAAGCACTGCTGCTGGAAGGTGGTGGTCATTATCGTTGTGATTTCAAAACCACCTACAAAGCCAAAAAGGATGTTCGTCTGCCTGGTTATCATTTTGTGGATCATCGTATCGAAATCCTGAAACACGATAAGGACTACAACAAAGTGAAACAGTATGAAAATGCCGTTGCGCGTTATAGCATGCTGCCGAGCCAGGCCAAA\n",
      "Load FUSION_SITES_USED_BY_BACKBONE=('CTTG', 'TAGC', 'CCAT', 'CGCT', 'TAAT')\n",
      "Load HOST=e_coli\n",
      "Load FIDELITY_DATA_PATH=C:\\Users\\GOFKV\\PycharmProjects\\proseqteleporter\\proseqteleporter\\data\\neb_fidelity_data\\FileS01_T4_01h_25C.xlsx\n",
      "Load SEQUENCE=MVSVIKEEMKIKLRMEGTVNGHNFVIEGEGKGNPYEGTQTMDLKVTEGGPLPFAYDILSPQFMYGSKAFIKYPADIPDYFKQSFPEGFHWERVMTYEDGGVCTATQNTSLRGDCFFYDVRFDGVNFPPNGPVMQKKTLGWEPSTEKMYVRDGVLKGDVIKALLLEGGGHYRCDFKTTYKAKKDVRLPGYHFVDHRIEILKHDKDYNKVKQYENAVARYSMLPSQAK\n",
      "Load MUTATIONS=[{'position': 63, 'aa': ['L', 'H']}, {'position': 80, 'aa': ['W', 'L']}, {'position': 143, 'aa': ['F', 'I']}, {'position': 158, 'aa': ['A', 'I', 'N']}, {'position': 174, 'aa': ['A', 'I']}, {'position': 194, 'aa': ['F', 'Y']}]\n",
      "Load LINKED_MUTATIONS=None\n",
      "Load CUT_NUMBER_RANGE=(4, 5)\n",
      "Load MIN_FRAGMENT_LENGTH=6\n",
      "Load MAX_COST=50000.0\n",
      "Load MAX_LENGTH_UNEVENNESS=5.0\n",
      "Load MIN_LIGATION_FIDELITY=0.99\n",
      "Load SATISFACTION_LIGATION_FIDELITY=0.99\n",
      "[{'position': 63, 'aa': ['L', 'H']}, {'position': 80, 'aa': ['W', 'L']}, {'position': 143, 'aa': ['F', 'I']}, {'position': 158, 'aa': ['A', 'I', 'N']}, {'position': 174, 'aa': ['A', 'I']}, {'position': 194, 'aa': ['F', 'Y']}]\n"
     ]
    }
   ],
   "source": [
    "print('\\033[1m==================================================================================================\\033[0m')\n",
    "print('                                    \\033[1m RUN STARTED! \\033[0m ')\n",
    "print('\\033[1m==================================================================================================\\033[0m')\n",
    "\n",
    "\n",
    "input_file_path=join(SCRIPT_DIR, 'input_ecoli2', 'azami_red10_blue_input_corr2_5f_lim_cut.txt')\n",
    "validate_input_params(input_file_path)\n",
    "show_input_seq_info(input_file_path)\n",
    "params = prepare_compute_best_partitions_params(input_file_path)"
   ],
   "metadata": {
    "collapsed": false
   }
  },
  {
   "cell_type": "code",
   "execution_count": 4,
   "outputs": [
    {
     "name": "stdout",
     "output_type": "stream",
     "text": [
      "\n",
      "--------------------------------------------------------------------------------------------------\n",
      "\u001B[1m Results For 5 Fragments: \u001B[0m\n",
      "   Number of cuts: 4 \n",
      "   Elapsed time: 1.78 \n",
      "   Number of partitions checked: 1\n",
      "   Number of unique partitions checked: 1\n",
      "   Number of unique partitions violating hard constraints: 0\n",
      "   Empty DataFrame\n",
      "Columns: [Partition Count]\n",
      "Index: []\n",
      "   The top 3 partitions:\n",
      "\n",
      " \u001B[1mPartition 1:\u001B[0m\n",
      " \u001B[1mfragments = \n",
      "[MVSVIKEEMKIKLRMEGTVNGHNFVIEGEGKGNPYEGTQTMDLKVTEGGPLPFAYDILSPQF\u001B[31mM\u001B[39mY]\n",
      "[GSKAFIKYPADIPDY\u001B[31mF\u001B[39mKQSFPEGFHWERVMTYEDGGVCTA]\n",
      "[TQNTSLRGDCFFYDVRFDGVNFPPNGPVMQKKTLGWEP\u001B[31mS\u001B[39mT]\n",
      "[EKMYVRDGVLKGD\u001B[31mV\u001B[39mIKALLLEGGGHYRCD\u001B[31mF\u001B[39mKTTYKAKKDV]\n",
      "[RLPGYHFVD\u001B[31mH\u001B[39mRIEILKHDKDYNKVKQYENAVARYSMLPSQAK]\u001B[0m\n",
      " fusion_sites = ('CGGA', 'AACC', 'ACTG', 'AAGA');\n",
      " partition(0idx) = (64, 104, 144, 184); fidelity=0.99; unevenness = 0.6; cost=432.0;\n",
      " aa + dna fusion sites = \n",
      "[MVSVIKEEMKIKLRMEGTVNGHNFVIEGEGKGNPYEGTQTMDLKVTEGGPLPFAYDILSPQFM]TA<C|GGA>\n",
      "                                                                   <C|GGA>[SKAFIKYPADIPDYFKQSFPEGFHWERVMTYEDGGVCT]GC<A|ACC>\n",
      "                                                                                                                    <A|ACC>[QNTSLRGDCFFYDVRFDGVNFPPNGPVMQKKTLGWEPS]<ACT|G>\n",
      "                                                                                                                                                                   <ACT|G>AG[KMYVRDGVLKGDVIKALLLEGGGHYRCDFKTTYKAKKD]GT<A|AGA>\n",
      "                                                                                                                                                                                                                      <A|AGA>[LPGYHFVDHRIEILKHDKDYNKVKQYENAVARYSMLPSQAK]\n",
      "--------------------------------------------------------------------------------------------------\n",
      "\u001B[1m Result \"best_partitions_by_cut_number\" is exported at:\n",
      " C:\\Users\\GOFKV\\PycharmProjects\\proseqteleporter\\experiments\\fluorescence_protein\\input_ecoli2\\azami_red10_blue_input_corr2_5f_lim_cut_2024-06-19output\\results\\best_partitions_by_cut_number_dist_mut_1.json\u001B[0m\n",
      "--------------------------------------------------------------------------------------------------\n",
      "\u001B[1m Result \"params\" is exported at:\n",
      " C:\\Users\\GOFKV\\PycharmProjects\\proseqteleporter\\experiments\\fluorescence_protein\\input_ecoli2\\azami_red10_blue_input_corr2_5f_lim_cut_2024-06-19output\\results\\params_dist_mut_1.json\u001B[0m\n"
     ]
    }
   ],
   "source": [
    "best_partitions_by_cut_number = compute_best_partitions(**params)"
   ],
   "metadata": {
    "collapsed": false
   }
  },
  {
   "cell_type": "code",
   "execution_count": 5,
   "outputs": [
    {
     "name": "stdout",
     "output_type": "stream",
     "text": [
      "\n",
      "\u001B[1m==================================================================================================\n",
      "                                     RUN COMPLETED!                                                      \n",
      "             Total elapsed time: 1.79 seconds\n",
      "==================================================================================================\u001B[0m\n"
     ]
    }
   ],
   "source": [
    "print(f'\\n\\033[1m=================================================================================================='\n",
    "      f'\\n                                     RUN COMPLETED!                                                      '\n",
    "      f'\\n             Total elapsed time: {best_partitions_by_cut_number[\"total_elapsed_time\"]} seconds'\n",
    "      f'\\n==================================================================================================\\033[0m')\n"
   ],
   "metadata": {
    "collapsed": false
   }
  }
 ],
 "metadata": {
  "kernelspec": {
   "display_name": "Python 3 (ipykernel)",
   "language": "python",
   "name": "python3"
  },
  "language_info": {
   "codemirror_mode": {
    "name": "ipython",
    "version": 3
   },
   "file_extension": ".py",
   "mimetype": "text/x-python",
   "name": "python",
   "nbconvert_exporter": "python",
   "pygments_lexer": "ipython3",
   "version": "3.11.1"
  }
 },
 "nbformat": 4,
 "nbformat_minor": 4
}
