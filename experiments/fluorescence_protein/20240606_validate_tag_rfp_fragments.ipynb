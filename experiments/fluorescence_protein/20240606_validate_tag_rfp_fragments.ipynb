{
 "cells": [
  {
   "cell_type": "code",
   "execution_count": null,
   "outputs": [],
   "source": [
    "from os import path\n",
    "\n",
    "from proseqteleporter.fragment_assembler.plate_mapper import make_and_validate_plate_mapping_sheet, make_desired_variant_list_from_a_list_of_mutations\n",
    "from proseqteleporter.utils.load_input_params import load_input_params\n",
    "from proseqteleporter.fragment_assembler.fragment_assembler import validate_partitioned_fragments_by_insilico_assembly\n",
    "from proseqteleporter.post_partition_processor.post_partition_processor import import_mutant_dna_fragments_from_module_sheet\n",
    "\n",
    "\n",
    "here = path.dirname(path.abspath('__file__'))\n",
    "input_params = load_input_params(input_file_path=path.join(here, 'tag_rfp_blue_input.txt'))\n",
    "s, mutations_1idx, linked_mutations_1idx = input_params['s'], input_params['mutations_1idx'], input_params['linked_mutations_1idx']"
   ],
   "metadata": {
    "collapsed": false
   }
  },
  {
   "cell_type": "code",
   "execution_count": null,
   "outputs": [],
   "source": [
    "imported_mutant_dna_fragments = import_mutant_dna_fragments_from_module_sheet(\n",
    "    module_sheet_path=path.join(here, '20240604_tag_rfp_blue_output', 'results', 'order_modules_idt.xlsx')\n",
    ")\n",
    "\n",
    "validate_partitioned_fragments_by_insilico_assembly(\n",
    "    mutant_dna_fragments=imported_mutant_dna_fragments,\n",
    "    sample_number=50,\n",
    "    wt_seq=input_params['s'],\n",
    "    enzyme='BsaI',\n",
    "    five_prime_dna=input_params['five_prime_dna'],\n",
    "    three_prime_dna=input_params['three_prime_dna'],\n",
    "    coding_start=None\n",
    ")"
   ],
   "metadata": {
    "collapsed": false
   }
  },
  {
   "cell_type": "code",
   "execution_count": null,
   "outputs": [],
   "source": [
    "## if encounter error msg: Can't find workbook in OLE2 compound document, remove excel sensitivity label and try again.\n",
    "## ref: https://stackoverflow.com/questions/45725645/pandas-unable-to-open-this-excel-file\n",
    "probable_variants = make_desired_variant_list_from_a_list_of_mutations(mutations_1idx=mutations_1idx,\n",
    "                                                                       s=input_params['s'], include_wild_type=False)\n",
    "make_and_validate_plate_mapping_sheet(\n",
    "    desired_variant_muts_list=probable_variants,\n",
    "    desired_variant_names=None,\n",
    "    fragment_sheet_path=path.join(here, '20240604_tag_rfp_blue_output', 'results', 'order_modules_idt.xlsx'),\n",
    "    plate_format=96,\n",
    "    start_plasmid_id=None,\n",
    "    output_dir=path.join(here,'20240604_tag_rfp_blue_output','20240606_idot_instruction_file')\n",
    ")\n"
   ],
   "metadata": {
    "collapsed": false
   }
  }
 ],
 "metadata": {
  "kernelspec": {
   "display_name": "Python 3",
   "language": "python",
   "name": "python3"
  },
  "language_info": {
   "codemirror_mode": {
    "name": "ipython",
    "version": 2
   },
   "file_extension": ".py",
   "mimetype": "text/x-python",
   "name": "python",
   "nbconvert_exporter": "python",
   "pygments_lexer": "ipython2",
   "version": "2.7.6"
  }
 },
 "nbformat": 4,
 "nbformat_minor": 0
}
