{
 "cells": [
  {
   "cell_type": "code",
   "execution_count": 1,
   "metadata": {
    "collapsed": true
   },
   "outputs": [],
   "source": [
    "from Bio import SeqIO\n",
    "from Bio.SeqRecord import SeqRecord, Seq\n",
    "from os import path\n",
    "\n",
    "SCRIPT_DIR = path.dirname(path.abspath('__file__'))\n",
    "\n",
    "# source: https://www.fpbase.org/protein/tagrfp/\n",
    "tag_rfp = {\n",
    "    'seq': Seq('MSELIKENMHMKLYMEGTVNNHHFKCTSEGEGKPYEGTQTMRIKVVEGGPLPFAFDILATSFMYGSRTFINHTQGIPDFFKQSFPEGFTWERVTTYEDGGVLTATQDTSLQDGCLIYNVKIRGVNFPSNGPVMQKKTLGWEANTEMLYPADGGLEGRSDMALKLVGGGHLICNFKTTYRSKKPAKNLKMPGVYYVDHRLERIKEADKETYVEQHEVAVARYCDLPSKLGHK'),\n",
    "    'id': 'TagRFP',\n",
    "    'name':'TagRFP',\n",
    "    'description':'S4HC8 from FPbase'\n",
    "}\n",
    "# source: https://www.fpbase.org/protein/tagbfp/\n",
    "tag_bfp = {\n",
    "    'seq': Seq('MSELIKENMHMKLYMEGTVDNHHFKCTSEGEGKPYEGTQTMRIKVVEGGPLPFAFDILATSFLYGSKTFINHTQGIPDFFKQSFPEGFTWERVTTYEDGGVLTATQDTSLQDGCLIYNVKIRGVNFTSNGPVMQKKTLGWEAFTETLYPADGGLEGRNDMALKLVGGSHLIANIKTTYRSKKPAKNLKMPGVYYVDYRLERIKEANNETYVEQHEVAVARYCDLPSKLGHKLN'),\n",
    "    'id': 'TagBFP',\n",
    "    'name':'TagBFP',\n",
    "    'description':'BFJKS from FPbase'\n",
    "}\n",
    "\n",
    "azami_green = {\n",
    "    'seq': Seq('MVSVIKPEMKIKLCMRGTVNGHNFVIEGEGKGNPYEGTQILDLNVTEGAPLPFAYDILTTVFQYGNRAFTKYPADIQDYFKQTFPEGYHWERSMTYEDQGICTATSNISMRGDCFFYDIRFDGVNFPPNGPVMQKKTLKWEPSTEKMYVRDGVLKGDVNMALLLEGGGHYRCDFKTTYKAKKDVRLPDYHFVDHRIEILKHDKDYNKVKLYENAVARYSMLPSQAK'),\n",
    "    'id': 'AzamiGreen',\n",
    "    'name':'AzamiGreen',\n",
    "    'description':'HC91W from FPbase'\n",
    "}\n",
    "\n",
    "azami_red10 = {\n",
    "    'seq': Seq('MVSVIKEEMKIKLRMEGTVNGHNFVIEGEGKGNPYEGTQTMDLKVTEGGPLPFAYDILSPQFMYGSKAFIKYPADIPDYFKQSFPEGFHWERVMTYEDGGVCTATQNTSLRGDCFFYDVRFDGVNFPPNGPVMQKKTLGWEPSTEKMYVRDGVLKGDVIKALLLEGGGHYRCDFKTTYKAKKDVRLPGYHFVDHRIEILKHDKDYNKVKQYENAVARYSMLPSQAK'),\n",
    "    'id': 'AzamiRed1.0',\n",
    "    'name':'AzamiRed1.0',\n",
    "    'description':'1NUNN from FPbase'\n",
    "}\n",
    "\n",
    "sequence_set = [tag_rfp, tag_bfp, azami_green, azami_red10]\n",
    "\n",
    "records = (SeqRecord(**seq) for _idx, seq in enumerate(sequence_set))\n",
    "fp_file = path.join(SCRIPT_DIR,'fp_seq.fasta')\n",
    "with open(fp_file, \"w\") as handle:\n",
    "  SeqIO.write(records, handle, \"fasta\")"
   ]
  },
  {
   "cell_type": "code",
   "execution_count": 4,
   "outputs": [
    {
     "name": "stdout",
     "output_type": "stream",
     "text": [
      "['M', 'K', 'F', 'S', 'V', 'F', 'H']\n",
      "7\n",
      "2592\n"
     ]
    }
   ],
   "source": [
    "import math\n",
    "\n",
    "muts_azami_red10_to_blue = [{'position': 62, 'aa': ['L', 'H']}, {'position': 66, 'aa': ['K']}, {'position': 79, 'aa': ['F','W','L']}, {'position': 142, 'aa': ['F', 'I']}, {'position': 157, 'aa': ['A', 'I','N']}, {'position': 173, 'aa': ['A', 'I']}, {'position': 193, 'aa': ['F', 'Y']}]\n",
    "\n",
    "muts_azami_red10_to_green = [{'position': 6, 'aa': ['P']}, {'position': 13, 'aa': ['C']}, {'position': 15, 'aa': ['R']}, {'position': 39, 'aa': ['I']}, {'position': 40, 'aa': ['L']}, {'position': 43, 'aa': ['N']}, {'position': 48, 'aa': ['A']}, {'position': 58, 'aa': ['T']}, {'position': 59, 'aa': ['T']}, {'position': 60, 'aa': ['V']}, {'position': 62, 'aa': ['Q']}, {'position': 65, 'aa': ['N']}, {'position': 66, 'aa': ['R']}, {'position': 69, 'aa': ['T']}, {'position': 76, 'aa': ['Q']}, {'position': 82, 'aa': ['T']}, {'position': 87, 'aa': ['Y']}, {'position': 92, 'aa': ['S']}, {'position': 98, 'aa': ['Q']}, {'position': 100, 'aa': ['I']}, {'position': 105, 'aa': ['S']}, {'position': 107, 'aa': ['I']}, {'position': 109, 'aa': ['M']}, {'position': 118, 'aa': ['I']}, {'position': 138, 'aa': ['K']}, {'position': 158, 'aa': ['N']}, {'position': 159, 'aa': ['M']}, {'position': 187, 'aa': ['D']}, {'position': 209, 'aa': ['L']}]\n",
    "\n",
    "muts_azami_red10_to_gb = muts_azami_red10_to_green + muts_azami_red10_to_blue\n",
    "muts_azami_red10_to_gb = sorted(muts_azami_red10_to_gb, key=lambda d: d['position'])\n",
    "new_muts = {}\n",
    "for mut in muts_azami_red10_to_gb:\n",
    "    if mut['position'] not in new_muts.keys():\n",
    "        new_muts.update({mut['position']:mut['aa']})\n",
    "    else:\n",
    "        new_muts[mut['position']].append(mut['aa'])\n",
    "muts_azami_red10_to_gb = []\n",
    "for k, v in new_muts.items():\n",
    "    muts_azami_red10_to_gb.append({'position': k, 'aa': v})\n",
    "# print(muts_azami_red10_to_gb)\n",
    "\n",
    "wt_aas = [azami_red10['seq'][m['position']] for m in muts_azami_red10_to_blue]\n",
    "print(wt_aas)\n",
    "print(len(wt_aas))\n",
    "mutant_count = math.prod([len(m['aa']) + 1 for m in muts_azami_red10_to_blue])\n",
    "print(mutant_count)"
   ],
   "metadata": {
    "collapsed": false
   }
  },
  {
   "cell_type": "code",
   "execution_count": 31,
   "outputs": [
    {
     "name": "stdout",
     "output_type": "stream",
     "text": [
      "['N', 'M', 'R', 'F', 'P', 'N', 'M', 'S', 'G', 'C', 'F', 'H', 'D', 'K']\n",
      "14\n"
     ]
    }
   ],
   "source": [
    "muts_tag_rfp_to_bfp = [{'position': 19, 'aa': ['D']}, {'position': 62, 'aa': ['L', 'H']}, {'position': 66, 'aa': ['K']}, {'position': 79, 'aa': ['F','W','L']}, {'position': 126, 'aa': ['T']}, {'position': 142, 'aa': ['F', 'I']}, {'position': 145, 'aa': ['T']}, {'position': 157, 'aa': ['A','I','N']},{'position': 167, 'aa': ['S']}, {'position': 171, 'aa': ['A']}, {'position': 173, 'aa': ['A', 'I']}, {'position': 196, 'aa': ['F', 'Y']},{'position': 205, 'aa': ['N']},{'position': 206, 'aa': ['N']}]\n",
    "\n",
    "wt_aas = [tag_rfp['seq'][m['position']] for m in muts_tag_rfp_to_bfp]\n",
    "print(wt_aas)\n",
    "print(len(wt_aas))\n"
   ],
   "metadata": {
    "collapsed": false
   }
  },
  {
   "cell_type": "code",
   "execution_count": 33,
   "outputs": [
    {
     "name": "stdout",
     "output_type": "stream",
     "text": [
      "['Q', 'R', 'F', 'S', 'V', 'F', 'H']\n",
      "7\n",
      "2592\n"
     ]
    }
   ],
   "source": [
    "muts_azami_green_to_blue = [{'position': 62, 'aa': ['L', 'H']}, {'position': 66, 'aa': ['K']}, {'position': 79, 'aa': ['F','W','L']}, {'position': 142, 'aa': ['F', 'I']}, {'position': 157, 'aa': ['A', 'I','N']}, {'position': 173, 'aa': ['A', 'I']}, {'position': 193, 'aa': ['F', 'Y']}]\n",
    "wt_aas = [azami_green['seq'][m['position']] for m in muts_azami_green_to_blue]\n",
    "print(wt_aas)\n",
    "print(len(wt_aas))\n",
    "mutant_count = math.prod([len(m['aa']) + 1 for m in muts_azami_green_to_blue])\n",
    "print(mutant_count)"
   ],
   "metadata": {
    "collapsed": false
   }
  },
  {
   "cell_type": "code",
   "execution_count": 1,
   "outputs": [
    {
     "name": "stdout",
     "output_type": "stream",
     "text": [
      "b\n"
     ]
    }
   ],
   "source": [
    "a = 0\n",
    "if a:\n",
    "    print('a')\n",
    "else:\n",
    "    print('b')"
   ],
   "metadata": {
    "collapsed": false
   }
  },
  {
   "cell_type": "code",
   "execution_count": null,
   "outputs": [],
   "source": [],
   "metadata": {
    "collapsed": false
   }
  }
 ],
 "metadata": {
  "kernelspec": {
   "display_name": "Python 3",
   "language": "python",
   "name": "python3"
  },
  "language_info": {
   "codemirror_mode": {
    "name": "ipython",
    "version": 2
   },
   "file_extension": ".py",
   "mimetype": "text/x-python",
   "name": "python",
   "nbconvert_exporter": "python",
   "pygments_lexer": "ipython2",
   "version": "2.7.6"
  }
 },
 "nbformat": 4,
 "nbformat_minor": 0
}
