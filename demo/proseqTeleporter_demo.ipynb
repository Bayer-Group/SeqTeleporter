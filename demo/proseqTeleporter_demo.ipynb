{
 "cells": [
  {
   "cell_type": "markdown",
   "metadata": {
    "collapsed": false
   },
   "source": [
    "# ProseqTeleporter Demo"
   ]
  },
  {
   "cell_type": "markdown",
   "metadata": {
    "collapsed": false
   },
   "source": [
    "## Setup environment\n",
    "\n",
    "Compatible python version: 3.9, 3.10, 3.11. If this is your first time running the script, do this in the terminal.\n",
    "1. ```pip install --upgrade pip```\n",
    "2. ```pip install -r requirements-dev.txt```\n",
    "\n",
    "## INSTRUCTIONS\n",
    "--------------\n",
    "1. Download the file `input_template.xlsx` in the folder `demo` to your own computer and rename it as `input.xlsx`.\n",
    "2. Open `input.xlsx`, in the tab `input_parameters`, replace the default amino acid sequence with your amino acid sequence, and then adjust the other parameters to your need. In the tab `input_mutations`, replace the default mutations with your mutations. In the tab `desired_variants`, replace the default variants with your desired variants.\n",
    "3. Save `input.xlsx`, and then upload the `input.xlsx` back to the folder `demo` on Science@Scale.\n",
    "4. Double click to open the python notebook `proseqTeleporter_demo.ipynb`, click ⏩ button to refresh and run the python notebook.\n",
    "5. Scroll down to the python notebook to view the Run status and wait for the Run to complete. Depending on your sequence and your parameters, it might take a while to run. When the Run is completed, you will see \"RUN COMPLETED!\" at the very bottom of the python notebook.\n",
    "6. When the Run is complete, go to `demo/input_[date]output/results` to see your results."
   ]
  },
  {
   "cell_type": "markdown",
   "metadata": {
    "collapsed": false,
    "jupyter": {
     "outputs_hidden": false
    }
   },
   "source": [
    "## CONFIGURATION\n",
    "--------------"
   ]
  },
  {
   "cell_type": "code",
   "execution_count": 1,
   "metadata": {
    "collapsed": false,
    "execution": {
     "iopub.execute_input": "2024-09-23T12:20:36.000257Z",
     "iopub.status.busy": "2024-09-23T12:20:36.000010Z",
     "iopub.status.idle": "2024-09-23T12:20:38.013767Z",
     "shell.execute_reply": "2024-09-23T12:20:38.013071Z"
    }
   },
   "outputs": [
    {
     "name": "stdout",
     "output_type": "stream",
     "text": [
      "Here is: /home/runner/work/SeqTeleporter/SeqTeleporter/demo\n"
     ]
    }
   ],
   "source": [
    "import sys\n",
    "import os.path\n",
    "\n",
    "SCRIPT_DIR = os.path.dirname(os.path.abspath('__file__'))\n",
    "sys.path.append(os.path.dirname(SCRIPT_DIR))\n",
    "\n",
    "from proseqteleporter.utils.utils import print_available_resources\n",
    "from proseqteleporter.main_libs import (generate_and_optimize_ready_to_click_modules,\n",
    "                                        assemble_modules_and_generate_robot_instruction)\n",
    "\n",
    "print(f'Here is: {SCRIPT_DIR}')"
   ]
  },
  {
   "cell_type": "markdown",
   "metadata": {
    "collapsed": false,
    "jupyter": {
     "outputs_hidden": false
    }
   },
   "source": [
    "## SHOW AVAILABLE HOSTS & ASSEMBLY CONDITIONS\n",
    "--------------"
   ]
  },
  {
   "cell_type": "code",
   "execution_count": 2,
   "metadata": {
    "collapsed": false,
    "execution": {
     "iopub.execute_input": "2024-09-23T12:20:38.042653Z",
     "iopub.status.busy": "2024-09-23T12:20:38.042215Z",
     "iopub.status.idle": "2024-09-23T12:20:38.046174Z",
     "shell.execute_reply": "2024-09-23T12:20:38.045711Z"
    },
    "jupyter": {
     "outputs_hidden": false
    }
   },
   "outputs": [
    {
     "name": "stdout",
     "output_type": "stream",
     "text": [
      "\u001b[1m===========================================================================================\u001b[0m\n",
      "                                           AVAILABLE HOSTS                                              \n",
      "\u001b[1m===========================================================================================\u001b[0m\n",
      "e_coli\n",
      "c_griseus\n",
      "s_cerevisiae\n",
      "p_pastoris\n",
      "\u001b[1m===========================================================================================\u001b[0m\n",
      "                                  AVAILABLE ASSEMBLY CONDITIONS                                         \n",
      "\u001b[1m===========================================================================================\u001b[0m\n",
      "T7_18h_37C\n",
      "T4_01h_25C\n",
      "T7_18h_25C\n"
     ]
    }
   ],
   "source": [
    "print_available_resources()"
   ]
  },
  {
   "cell_type": "markdown",
   "metadata": {
    "collapsed": false
   },
   "source": [
    "## GENERATE & OPTIMIZE READY-TO-CLICK MODULES"
   ]
  },
  {
   "cell_type": "code",
   "execution_count": 3,
   "metadata": {
    "collapsed": false,
    "execution": {
     "iopub.execute_input": "2024-09-23T12:20:38.048220Z",
     "iopub.status.busy": "2024-09-23T12:20:38.047884Z",
     "iopub.status.idle": "2024-09-23T12:20:43.598136Z",
     "shell.execute_reply": "2024-09-23T12:20:43.597385Z"
    }
   },
   "outputs": [
    {
     "name": "stdout",
     "output_type": "stream",
     "text": [
      "\u001b[1m=============================================================================================\u001b[0m\n",
      "                               \u001b[1m RUN STARTED! \u001b[0m \n",
      "\u001b[1m=============================================================================================\u001b[0m\n",
      "\u001b[1mValidating your input file...!\u001b[0m\n",
      "\u001b[1mInput file passed validation!\u001b[0m\n",
      "\u001b[1m ------------------- \u001b[0m\n",
      "\u001b[1m Here is your input: \u001b[0m\n",
      "\u001b[1m ------------------- \u001b[0m\n",
      "\u001b[1mGENE_NAME = \u001b[0m TPP123\n",
      "\u001b[1mSequence (red: independent mutation positions; other colors: linked mutation positions) = \u001b[0m\n",
      "MVSVIKEEMKIKLRMEGTVNGHNFVIEGEGKGNPYEGTQTMDLKVTEGGPLPFAYDILSPQF\u001b[93m\u001b[92mM\u001b[39m\u001b[39mYGSKAFIKYPADIPDY\u001b[93m\u001b[92mF\u001b[39m\u001b[39mKQSFPEGFHWERVMTYEDGGVCTATQNTSLRGDCFFYDVRFDGVNFPPNGPVMQKKTLGWEP\u001b[31mS\u001b[39mTEKMYVRDGVLKGD\u001b[31mV\u001b[39mIKALLLEGGGHYRCD\u001b[31mF\u001b[39mKTTYKAKKDVRLPGYHFVD\u001b[31mH\u001b[39mRIEILKHDKDYNKVKQYENAVARYSMLPSQAK\n",
      "\u001b[1mSequence Length = \u001b[0m 226\n",
      "\u001b[1mMutations (1-indexed) = \u001b[0m [{'position': 63, 'aa': ['L', 'H']}, {'position': 80, 'aa': ['W', 'L']}, {'position': 143, 'aa': ['F', 'I']}, {'position': 158, 'aa': ['A', 'I', 'N']}, {'position': 174, 'aa': ['A', 'I']}, {'position': 194, 'aa': ['F', 'Y']}]\n",
      "\u001b[1mLinked mutations (1-indexed) = \u001b[0m [(('M', 63, 'H'), ('F', 80, 'L')), (('M', 63, 'L'), ('F', 80, 'W'))]\n",
      "\u001b[1mALLOWED_CUT_POSITIONS=\u001b[0m((70, 75), (105, 110), (145, 150), (160, 162), (180, 185))\n",
      "\u001b[1mDNA_5_PRIME=\u001b[0mAATTTGAAGACAA\n",
      "\u001b[1mDNA_3_PRIME=\u001b[0mTAATAAATTTGTCTTCTTTAA\n",
      "\u001b[1mFIX_DNA_SEQUENCE=\u001b[0mATGGTTAGCGTGATCAAAGAAGAGATGAAAATCAAACTGCGTATGGAAGGCACCGTGAATGGTCATAATTTTGTGATTGAAGGTGAAGGCAAAGGCAATCCGTATGAAGGTACACAGACCATGGATCTGAAAGTTACCGAAGGTGGTCCGCTGCCGTTTGCATATGATATTCTGAGTCCGCAGTTTATGTATGGCAGCAAAGCCTTTATCAAATATCCGGCAGATATCCCGGATTACTTTAAACAGAGCTTTCCGGAAGGTTTTCATTGGGAACGTGTTATGACCTATGAAGATGGTGGTGTTTGTACCGCAACACAGAATACCAGCCTGCGTGGTGATTGTTTCTTTTATGATGTTCGTTTTGATGGCGTGAACTTTCCGCCTAATGGTCCGGTTATGCAGAAAAAGACCTTAGGTTGGGAACCGAGCACCGAGAAAATGTATGTTCGTGATGGTGTTCTGAAAGGCGACGTTATTAAAGCACTGCTGCTGGAAGGTGGTGGTCATTATCGTTGTGATTTCAAAACCACCTACAAAGCCAAAAAGGATGTTCGTCTGCCTGGTTATCATTTTGTGGATCATCGTATCGAAATCCTGAAACACGATAAGGACTACAACAAAGTGAAACAGTATGAAAATGCCGTTGCGCGTTATAGCATGCTGCCGAGCCAGGCCAAA\n",
      "\u001b[1mFUSION_SITES_USED_BY_BACKBONE=\u001b[0m('CTTG', 'TAGC', 'CCAT', 'CGCT', 'TAAT')\n",
      "\u001b[1mHOST=\u001b[0mp_pastoris\n",
      "\u001b[1mFIDELITY_DATA_PATH=\u001b[0m/home/runner/work/SeqTeleporter/SeqTeleporter/proseqteleporter/data/neb_fidelity_data/FileS01_T4_01h_25C.xlsx\n",
      "\u001b[1mMUTATIONS=\u001b[0m[{'position': 63, 'aa': ['L', 'H']}, {'position': 80, 'aa': ['W', 'L']}, {'position': 143, 'aa': ['F', 'I']}, {'position': 158, 'aa': ['A', 'I', 'N']}, {'position': 174, 'aa': ['A', 'I']}, {'position': 194, 'aa': ['F', 'Y']}]\n",
      "\u001b[1mLINKED_MUTATIONS=\u001b[0m[(('M', 63, 'H'), ('F', 80, 'L')), (('M', 63, 'L'), ('F', 80, 'W'))]\n",
      "\u001b[1mCUT_NUMBER_RANGE=\u001b[0m(3, 4)\n",
      "\u001b[1mMIN_AA_LENGTH=\u001b[0m6\n",
      "\u001b[1mMAX_COST=\u001b[0m50000.0\n",
      "\u001b[1mCOST_PER_BP=\u001b[0m0.1\n",
      "\u001b[1mMIN_DNA_LENGTH=\u001b[0m100\n",
      "\u001b[1mMAX_DNA_LENGTH=\u001b[0m10000\n",
      "\u001b[1mMAX_LENGTH_UNEVENNESS=\u001b[0m5.0\n",
      "\u001b[1mMIN_LIGATION_FIDELITY=\u001b[0m0.99\n",
      "\u001b[1mSATISFACTION_LIGATION_FIDELITY=\u001b[0m0.99\n",
      "\u001b[1mMODULE_PLATE_FORMAT=\u001b[0m96\n",
      "\u001b[1mENZYME=\u001b[0mBpiI\n",
      "[{'position': 63, 'aa': ['L', 'H']}, {'position': 80, 'aa': ['W', 'L']}, {'position': 143, 'aa': ['F', 'I']}, {'position': 158, 'aa': ['A', 'I', 'N']}, {'position': 174, 'aa': ['A', 'I']}, {'position': 194, 'aa': ['F', 'Y']}]\n",
      "\u001b[1m=============================================================================================\u001b[0m\n",
      "                               \u001b[1m IDENTIFYING OPTIMAL PARTITIONS \u001b[0m \n",
      "\u001b[1m=============================================================================================\u001b[0m\n"
     ]
    },
    {
     "name": "stdout",
     "output_type": "stream",
     "text": [
      "\n",
      "--------------------------------------------------------------------------------------------------\n",
      "\u001b[1m Results For 4 Fragments: \u001b[0m\n",
      "   Number of cuts: 3 \n",
      "   Elapsed time: 2.22 \n",
      "   Number of partitions checked: 216\n",
      "   Number of unique partitions checked: 216\n",
      "   Number of unique partitions violating hard constraints: 0\n",
      "   Empty DataFrame\n",
      "Columns: [Partition Count]\n",
      "Index: []\n",
      "   The top 3 partitions:\n",
      "\n",
      " \u001b[1mPartition 1:\u001b[0m\n",
      " \u001b[1mfragments = \n",
      "[MVSVIKEEMKIKLRMEGTVNGHNFVIEGEGKGNPYEGTQTMDLKVTEGGPLPFAYDILSPQF\u001b[93m\u001b[92mM\u001b[39m\u001b[39mYGSKAFIKYPADIPDY\u001b[93m\u001b[92mF\u001b[39m\u001b[39mKQSFPEGFHWERVMTYEDGGVCTATQNTS]\n",
      "[LRGDCFFYDVRFDGVNFPPNGPVMQKKTLGWEP\u001b[31mS\u001b[39mTEKMYV]\n",
      "[RDGVLKGD\u001b[31mV\u001b[39mIKALLLEGGGHYRCD\u001b[31mF\u001b[39mKTTYK]\n",
      "[AKKDVRLPGYHFVD\u001b[31mH\u001b[39mRIEILKHDKDYNKVKQYENAVARYSMLPSQAK]\u001b[0m\n",
      " fusion_sites = ('AGTT', 'AAGA', 'AGGC');\n",
      " partition(0idx) = (109, 149, 179); fidelity=0.99; unevenness = 2.633; cost=311.7;\n",
      " aa + dna fusion sites = \n",
      "[MVSVIKEEMKIKLRMEGTVNGHNFVIEGEGKGNPYEGTQTMDLKVTEGGPLPFAYDILSPQFMYGSKAFIKYPADIPDYFKQSFPEGFHWERVMTYEDGGVCTATQNT]<AGT|T>\n",
      "                                                                                                              <AGT|T>TG[RGDCFFYDVRFDGVNFPPNGPVMQKKTLGWEPSTEKMY]GT<A|AGA>\n",
      "                                                                                                                                                                 <A|AGA>[DGVLKGDVIKALLLEGGGHYRCDFKTTY]A<AG|GC>\n",
      "                                                                                                                                                                                                       <AG|GC>G[KKDVRLPGYHFVDHRIEILKHDKDYNKVKQYENAVARYSMLPSQAK]\n",
      "\n",
      " \u001b[1mPartition 2:\u001b[0m\n",
      " \u001b[1mfragments = \n",
      "[MVSVIKEEMKIKLRMEGTVNGHNFVIEGEGKGNPYEGTQTMDLKVTEGGPLPFAYDILSPQF\u001b[93m\u001b[92mM\u001b[39m\u001b[39mYGSKAFIKYPADIPDY\u001b[93m\u001b[92mF\u001b[39m\u001b[39mKQSFPEGFHWERVMTYEDGGVCTATQNT]\n",
      "[SLRGDCFFYDVRFDGVNFPPNGPVMQKKTLGWEP\u001b[31mS\u001b[39mTEKMYV]\n",
      "[RDGVLKGD\u001b[31mV\u001b[39mIKALLLEGGGHYRCD\u001b[31mF\u001b[39mKTTYK]\n",
      "[AKKDVRLPGYHFVD\u001b[31mH\u001b[39mRIEILKHDKDYNKVKQYENAVARYSMLPSQAK]\u001b[0m\n",
      " fusion_sites = ('ACAA', 'AAGA', 'AGGC');\n",
      " partition(0idx) = (108, 149, 179); fidelity=0.99; unevenness = 2.6; cost=312.0;\n",
      " aa + dna fusion sites = \n",
      "[MVSVIKEEMKIKLRMEGTVNGHNFVIEGEGKGNPYEGTQTMDLKVTEGGPLPFAYDILSPQFMYGSKAFIKYPADIPDYFKQSFPEGFHWERVMTYEDGGVCTATQN]<ACA|A>\n",
      "                                                                                                             <ACA|A>GC[LRGDCFFYDVRFDGVNFPPNGPVMQKKTLGWEPSTEKMY]GT<A|AGA>\n",
      "                                                                                                                                                                 <A|AGA>[DGVLKGDVIKALLLEGGGHYRCDFKTTY]A<AG|GC>\n",
      "                                                                                                                                                                                                       <AG|GC>G[KKDVRLPGYHFVDHRIEILKHDKDYNKVKQYENAVARYSMLPSQAK]\n",
      "\n",
      " \u001b[1mPartition 3:\u001b[0m\n",
      " \u001b[1mfragments = \n",
      "[MVSVIKEEMKIKLRMEGTVNGHNFVIEGEGKGNPYEGTQTMDLKVTEGGPLPFAYDILSPQF\u001b[93m\u001b[92mM\u001b[39m\u001b[39mYGSKAFIKYPADIPDY\u001b[93m\u001b[92mF\u001b[39m\u001b[39mKQSFPEGFHWERVMTYEDGGVCTATQN]\n",
      "[TSLRGDCFFYDVRFDGVNFPPNGPVMQKKTLGWEP\u001b[31mS\u001b[39mTEKMYV]\n",
      "[RDGVLKGD\u001b[31mV\u001b[39mIKALLLEGGGHYRCD\u001b[31mF\u001b[39mKTTYK]\n",
      "[AKKDVRLPGYHFVD\u001b[31mH\u001b[39mRIEILKHDKDYNKVKQYENAVARYSMLPSQAK]\u001b[0m\n",
      " fusion_sites = ('ACAA', 'AAGA', 'AGGC');\n",
      " partition(0idx) = (107, 149, 179); fidelity=0.99; unevenness = 2.567; cost=312.3;\n",
      " aa + dna fusion sites = \n",
      "[MVSVIKEEMKIKLRMEGTVNGHNFVIEGEGKGNPYEGTQTMDLKVTEGGPLPFAYDILSPQFMYGSKAFIKYPADIPDYFKQSFPEGFHWERVMTYEDGGVCTATQN]<|ACAA>\n",
      "                                                                                                             <|ACAA>GC[LRGDCFFYDVRFDGVNFPPNGPVMQKKTLGWEPSTEKMY]GT<A|AGA>\n",
      "                                                                                                                                                                 <A|AGA>[DGVLKGDVIKALLLEGGGHYRCDFKTTY]A<AG|GC>\n",
      "                                                                                                                                                                                                       <AG|GC>G[KKDVRLPGYHFVDHRIEILKHDKDYNKVKQYENAVARYSMLPSQAK]\n",
      "--------------------------------------------------------------------------------------------------\n",
      "\u001b[1m Result \"best_partitions_by_cut_number\" is exported at:\n",
      " /home/runner/work/SeqTeleporter/SeqTeleporter/demo/input_2024-09-23output/logs/best_partitions_by_cut_number_dist_mut_1.json\u001b[0m\n",
      "--------------------------------------------------------------------------------------------------\n",
      "\u001b[1m Result \"params\" is exported at:\n",
      " /home/runner/work/SeqTeleporter/SeqTeleporter/demo/input_2024-09-23output/logs/params_dist_mut_1.json\u001b[0m\n",
      "\n",
      "\u001b[1m\n",
      "===========================================================================================\n",
      "                       SUCCESSFULLY IDENTIFIED OPTIMAL PARTITIONS!                           \n",
      "                       Total elapsed time: 2.22 seconds\n",
      "===========================================================================================\u001b[0m\n",
      "\u001b[1m===========================================================================================\u001b[0m\n",
      "                               \u001b[1m GENERATING MODULES \u001b[0m \n",
      "                               Number of fragments: 4 \n",
      "\u001b[1m===========================================================================================\u001b[0m\n",
      "\n",
      " Processing partition:\n",
      " partition: [109, 149, 179]\n",
      " ligation_fidelity: 0.99\n",
      " fragment_length_unevenness: 2.633\n",
      " fusion_sites: ['AGTT', 'AAGA', 'AGGC']\n",
      " cost: 311.7\n",
      " fragments: \n",
      " ['MVSVIKEEMKIKLRMEGTVNGHNFVIEGEGKGNPYEGTQTMDLKVTEGGPLPFAYDILSPQFMYGSKAFIKYPADIPDYFKQSFPEGFHWERVMTYEDGGVCTATQNTS', 'LRGDCFFYDVRFDGVNFPPNGPVMQKKTLGWEPSTEKMYV', 'RDGVLKGDVIKALLLEGGGHYRCDFKTTYK', 'AKKDVRLPGYHFVDHRIEILKHDKDYNKVKQYENAVARYSMLPSQAK']\n",
      "\n",
      "Processing the partitioned fragments...\n",
      "  Concatenating user-specified 5' and 3' dna sequence...\n",
      "  Concatenating BpiI sites and stuffers...\n",
      "  Generating individual mutant aa fragments...\n",
      "  Translating mutant aa fragments to dna fragments...\n"
     ]
    },
    {
     "name": "stdout",
     "output_type": "stream",
     "text": [
      "  Validating dna fragment constraints (enzyme sites)...\n",
      "   Passed validation of mutant dna fragments constraints!\n",
      "Validating mutant dna fragments by in-silico assembly...\n",
      "Random combi in-silico assembly: M63L_F80W_S143F_V158I_F174A_H194Y, \n",
      "  Validation Passed: True\n",
      "Random combi in-silico assembly: M63L_F80W_V158I_F174A_H194Y, \n",
      "  Validation Passed: True\n",
      "Random combi in-silico assembly: V158A_F174A_H194F, \n",
      "  Validation Passed: True\n",
      "Random combi in-silico assembly: M63H_F80L_V158N_F174I, \n",
      "  Validation Passed: True\n",
      "Random combi in-silico assembly: M63L_F80W_S143F_V158A, \n",
      "  Validation Passed: True\n",
      "Random combi in-silico assembly: M63H_F80L_V158I_H194Y, \n",
      "  Validation Passed: True\n",
      "Random combi in-silico assembly: M63H_F80L_V158I_F174I_H194F, \n",
      "  Validation Passed: True\n",
      "Random combi in-silico assembly: M63L_F80W_F174A_H194Y, \n",
      "  Validation Passed: True\n",
      "Random combi in-silico assembly: H194Y, \n",
      "  Validation Passed: True\n",
      "Random combi in-silico assembly: M63H_F80L_S143F_F174I, \n",
      "  Validation Passed: True\n",
      "Exporting DNA module ordering sheet\n",
      "--------------------------------------------------------------------------------------------------\n",
      "\u001b[1m DNA module ordering sheet is exported at:\n",
      " /home/runner/work/SeqTeleporter/SeqTeleporter/demo/input_2024-09-23output/results/order_modules_4fragments.xlsx\u001b[0m\n",
      "\n",
      "\u001b[1m\n",
      "================================================================================================\n",
      "                                SUCCESSFULLY GENERATED MODULES!                       \n",
      "                                Number of fragments: 4                       \n",
      "                                 Estimated cost: 340.5 €\n",
      "================================================================================================\u001b[0m\n",
      "\n",
      "\u001b[1m\n",
      "==================================================================================================\n",
      "                        GENERATE & OPTIMIZE READY-TO-CLICK MODULES \n",
      "                                     RUN COMPLETED!\n",
      "==================================================================================================\u001b[0m\n"
     ]
    }
   ],
   "source": [
    "input_table_path = os.path.join(SCRIPT_DIR, \"input.xlsx\")\n",
    "\n",
    "ready_to_click_modules_paths = generate_and_optimize_ready_to_click_modules(input_table_path)"
   ]
  },
  {
   "cell_type": "markdown",
   "metadata": {
    "collapsed": false
   },
   "source": [
    "## ASSEMBLE MODULES\n",
    "If encounter error msg: Can't find workbook in OLE2 compound document, remove excel sensitivity label and try again."
   ]
  },
  {
   "cell_type": "code",
   "execution_count": 4,
   "metadata": {
    "collapsed": false,
    "execution": {
     "iopub.execute_input": "2024-09-23T12:20:43.600334Z",
     "iopub.status.busy": "2024-09-23T12:20:43.600128Z",
     "iopub.status.idle": "2024-09-23T12:20:45.686330Z",
     "shell.execute_reply": "2024-09-23T12:20:45.685583Z"
    }
   },
   "outputs": [
    {
     "name": "stdout",
     "output_type": "stream",
     "text": [
      "\n",
      "The plate mapping sheet is validated!\n",
      "\n",
      "The README sheet is validated!\n"
     ]
    },
    {
     "name": "stdout",
     "output_type": "stream",
     "text": [
      "\n",
      "Plate mapping sheet is exported to:\n",
      " /home/runner/work/SeqTeleporter/SeqTeleporter/demo/input_2024-09-23output/results/2024-09-23_source_destination_plate_map.xlsx\n",
      "\n",
      "Preview of mapping sheet: \n",
      "   Source Plate   Target Plate Source Well Target Well              Volume_ul  \\\n",
      "0       plate1  target_plate1          A1          A1  PLEASE FILL IN VOLUME   \n",
      "1       plate1  target_plate1          A4          A1  PLEASE FILL IN VOLUME   \n",
      "2       plate1  target_plate1          A7          A1  PLEASE FILL IN VOLUME   \n",
      "\n",
      "              Module Module Plasmid Number  Mutations  \n",
      "0    1-109_M63H_F80L              pAL45679  M63H_F80L  \n",
      "1  110-149_wild_type              pAL45679  M63H_F80L  \n",
      "2  150-179_wild_type              pAL45679  M63H_F80L  \n"
     ]
    }
   ],
   "source": [
    "assemble_modules_and_generate_robot_instruction(input_table_path, ready_to_click_modules_paths[0])"
   ]
  }
 ],
 "metadata": {
  "kernelspec": {
   "display_name": "Python 3 (ipykernel)",
   "language": "python",
   "name": "python3"
  },
  "language_info": {
   "codemirror_mode": {
    "name": "ipython",
    "version": 3
   },
   "file_extension": ".py",
   "mimetype": "text/x-python",
   "name": "python",
   "nbconvert_exporter": "python",
   "pygments_lexer": "ipython3",
   "version": "3.10.12"
  }
 },
 "nbformat": 4,
 "nbformat_minor": 4
}
