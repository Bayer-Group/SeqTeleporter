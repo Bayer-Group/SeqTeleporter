{
 "cells": [
  {
   "cell_type": "markdown",
   "source": [
    "# ProseqTeleporter Demo"
   ],
   "metadata": {
    "collapsed": false
   }
  },
  {
   "cell_type": "markdown",
   "source": [
    "## Setup environment\n",
    "\n",
    "Compatible python version: 3.9, 3.10, 3.11. If this is your first time running the script, do this in the terminal.\n",
    "1. ```pip install --upgrade pip```\n",
    "2. ```pip install -r requirements-dev.txt```\n",
    "\n",
    "## INSTRUCTIONS\n",
    "--------------\n",
    "1. Download the file `input_template.xlsx` in the folder `demo` to your own computer and rename it as `input.xlsx`.\n",
    "2. Open `input.xlsx`, in the tab `input_parameters`, replace the default amino acid sequence with your amino acid sequence, and then adjust the other parameters to your need. In the tab `input_mutations`, replace the default mutations with your mutations. In the tab `desired_variants`, replace the default variants with your desired variants.\n",
    "3. Save `input.xlsx`, and then upload the `input.xlsx` back to the folder `demo` on Science@Scale.\n",
    "4. Double click to open the python notebook `proseqTeleporter_demo.ipynb`, click ⏩ button to refresh and run the python notebook.\n",
    "5. Scroll down to the python notebook to view the Run status and wait for the Run to complete. Depending on your sequence and your parameters, it might take a while to run. When the Run is completed, you will see \"RUN COMPLETED!\" at the very bottom of the python notebook.\n",
    "6. When the Run is complete, go to `demo/input_[date]output/results` to see your results."
   ],
   "metadata": {
    "collapsed": false
   }
  },
  {
   "cell_type": "markdown",
   "metadata": {
    "collapsed": false,
    "jupyter": {
     "outputs_hidden": false
    }
   },
   "source": [
    "## CONFIGURATION\n",
    "--------------"
   ]
  },
  {
   "cell_type": "code",
   "execution_count": null,
   "outputs": [],
   "source": [
    "import sys\n",
    "import os.path\n",
    "\n",
    "SCRIPT_DIR = os.path.dirname(os.path.abspath('__file__'))\n",
    "sys.path.append(os.path.dirname(SCRIPT_DIR))\n",
    "\n",
    "from proseqteleporter.main_libs import assemble_modules_and_generate_robot_instruction\n",
    "\n",
    "print(f'Here is: {SCRIPT_DIR}')"
   ],
   "metadata": {
    "collapsed": false
   }
  },
  {
   "cell_type": "markdown",
   "source": [
    "## ASSEMBLE MODULES\n",
    "If encounter error msg: Can't find workbook in OLE2 compound document, remove excel sensitivity label and try again."
   ],
   "metadata": {
    "collapsed": false
   }
  },
  {
   "cell_type": "code",
   "execution_count": null,
   "outputs": [],
   "source": [
    "input_table_path = os.path.join(SCRIPT_DIR, \"input_template.xlsx\")\n",
    "ready_to_click_modules_path = r\"C:\\Users\\GOFKV\\PycharmProjects\\proseqteleporter\\demo\\input_2024-09-06output\\results\\order_modules_4fragments.xlsx\"\n",
    "assemble_modules_and_generate_robot_instruction(input_table_path, ready_to_click_modules_path)"
   ],
   "metadata": {
    "collapsed": false
   }
  }
 ],
 "metadata": {
  "kernelspec": {
   "display_name": "Python 3 (ipykernel)",
   "language": "python",
   "name": "python3"
  },
  "language_info": {
   "codemirror_mode": {
    "name": "ipython",
    "version": 3
   },
   "file_extension": ".py",
   "mimetype": "text/x-python",
   "name": "python",
   "nbconvert_exporter": "python",
   "pygments_lexer": "ipython3",
   "version": "3.11.1"
  }
 },
 "nbformat": 4,
 "nbformat_minor": 4
}
