{
 "cells": [
  {
   "cell_type": "code",
   "execution_count": 2,
   "metadata": {
    "collapsed": true
   },
   "outputs": [],
   "source": [
    "from proseqteleporter.MoCloDrawer.MoCloDrawer import draw_moclo_designs_with_overlap_number\n",
    "\n",
    "\n",
    "input_xlsx = r\"C:\\Users\\GOFKV\\PycharmProjects\\pptransformer\\design_tbls\\example_moclo_slides_overlap.xlsx\"\n",
    "output_pptx_path = r'C:\\Users\\GOFKV\\PycharmProjects\\pptransformer\\example_pptx\\example_output_overlap.pptx'\n",
    "output_image_dir = r'C:\\Users\\GOFKV\\PycharmProjects\\pptransformer\\design_imgs_overlap'\n",
    "\n",
    "draw_moclo_designs_with_overlap_number(input_xlsx=input_xlsx, output_pptx_path=output_pptx_path, output_image_dir=output_image_dir)"
   ]
  }
 ],
 "metadata": {
  "kernelspec": {
   "display_name": "Python 3",
   "language": "python",
   "name": "python3"
  },
  "language_info": {
   "codemirror_mode": {
    "name": "ipython",
    "version": 2
   },
   "file_extension": ".py",
   "mimetype": "text/x-python",
   "name": "python",
   "nbconvert_exporter": "python",
   "pygments_lexer": "ipython2",
   "version": "2.7.6"
  }
 },
 "nbformat": 4,
 "nbformat_minor": 0
}
